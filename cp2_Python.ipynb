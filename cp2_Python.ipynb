{
 "cells": [
  {
   "cell_type": "code",
   "execution_count": 2,
   "metadata": {},
   "outputs": [
    {
     "name": "stdout",
     "output_type": "stream",
     "text": [
      "A lista de valores de massa é [0.0016666666666666668, 0.0033333333333333335, 0.005, 0.006666666666666667, 0.008333333333333333, 0.01]\n"
     ]
    }
   ],
   "source": [
    "# 1)\n",
    "\n",
    "lista_forca = [500,1000,1500,2000,2500,3000]\n",
    "lista_massa = []\n",
    "\n",
    "for i in lista_forca:\n",
    "    massa = i/300000\n",
    "    lista_massa.append(massa)\n",
    "\n",
    "print(f'A lista de valores de massa é {lista_massa}')\n",
    "\n"
   ]
  },
  {
   "cell_type": "code",
   "execution_count": 4,
   "metadata": {},
   "outputs": [
    {
     "name": "stdout",
     "output_type": "stream",
     "text": [
      "A lista de nomes é: ['Diego', 'Carol', 'Fernando', 'Rafael']\n",
      "A lista de CPFs é:[10, 17, 1234, 222222]\n"
     ]
    }
   ],
   "source": [
    "# 2)\n",
    "\n",
    "lista_nomes = []\n",
    "lista_cpfs = []\n",
    "\n",
    "i = 0 \n",
    "\n",
    "while i < 4:\n",
    "    nome = input('Digite seu nome:')\n",
    "    lista_nomes.append(nome)\n",
    "    cpf = int(input('Digite seu CPF:'))\n",
    "    lista_cpfs.append(cpf)\n",
    "    i+= 1 \n",
    "\n",
    "print(f'A lista de nomes é: {lista_nomes}')\n",
    "print(f'A lista de CPFs é:{lista_cpfs}')\n",
    "\n",
    "\n",
    "\n",
    "\n"
   ]
  },
  {
   "cell_type": "code",
   "execution_count": null,
   "metadata": {},
   "outputs": [],
   "source": [
    "# 3)\n",
    "\n",
    "lista_salarios = [1800,2500,3200,4200,5000]\n",
    "salario_10 = []\n",
    "salario_20 = []\n",
    "salario_30 = []\n",
    "salario_liquido_10 = 0\n",
    "salario_liquido_20 = 0\n",
    "salario_liquido_30 = 0\n",
    "\n",
    "for i in lista_salarios:\n",
    "    if i <= 2000:\n",
    "        salario_liquido_10 = i - (i*0.1)\n",
    "        salario_10.append(salario_liquido_10)\n",
    "    elif i > 2000 and i <= 4000:\n",
    "        salario_liquido_20 = i - (i*0.2)\n",
    "        salario_20.append(salario_liquido_20)\n",
    "    else:\n",
    "        salario_liquido_30 = i - (i*0.3)\n",
    "        salario_30.append(salario_liquido_30)\n",
    "\n",
    "print(f'A lista com o salário líquido com 10% de desconto é {salario_10} ')\n",
    "print(f'A lista com o salário líquido com 20% de desconto é {salario_20} ')\n",
    "print(f'A lista com o salário líquido com 30% de desconto é {salario_30} ')\n",
    "\n",
    "\n"
   ]
  },
  {
   "cell_type": "code",
   "execution_count": null,
   "metadata": {},
   "outputs": [],
   "source": [
    "# 4)\n",
    "\n",
    "produtos_1 = []\n",
    "produtos_2 = []\n",
    "soma_1 = 0\n",
    "soma_2 = 0\n",
    "media_1 = 0\n",
    "media_2 = 0\n",
    "\n",
    "for i in range(5):\n",
    "    usuario_1 = int(input('Usuário 1, digite o valor do produto:'))\n",
    "    produtos_1.append(usuario_1)\n",
    "    soma_1 += usuario_1\n",
    "    usuario_2 = int(input('Usuário 2, digite o valor do produto:'))\n",
    "    produtos_2.append(usuario_2)\n",
    "    soma_2 += usuario_2\n",
    "\n",
    "print(f'A lista de compras do Usuário 1 é {produtos_1}')\n",
    "print(f'A lista de compras do Usuário 2 é {produtos_2}')\n",
    "\n",
    "print(f'O valor total da compra do Usuário 1 é de R$: {soma_1}')\n",
    "print(f'O valor total da compra do Usuário 2 é de R$: {soma_2}')\n",
    "\n",
    "media_1 = soma_1 / 5\n",
    "media_2 = soma_2 / 5\n",
    "\n",
    "print(f'A médida das compras do Usuário 1 é de R$:{media_1}')\n",
    "print(f'A médida das compras do Usuário 1 é de R$:{media_2}')\n"
   ]
  },
  {
   "cell_type": "code",
   "execution_count": 27,
   "metadata": {},
   "outputs": [
    {
     "name": "stdout",
     "output_type": "stream",
     "text": [
      "A lista de produtos digitada pelo usuário é ['fdkjsdfks', 'sdkfsdjkf', 'sdkfsdjf', 'sdkfjsdk', 'mouse']\n",
      "Número de mouse: 1\n",
      "Número de teclado: 0\n",
      "Número de notebook: 0\n",
      "Número de itens sem estoque: 4\n"
     ]
    }
   ],
   "source": [
    "# 5)\n",
    "\n",
    "produtos_usuario = []\n",
    "i = 0\n",
    "contador_m = 0\n",
    "contador_t = 0\n",
    "contador_n = 0\n",
    "contador_vazio = 0\n",
    "\n",
    "while i < 5:\n",
    "    produtos = input('Digite os seus produtos:')\n",
    "    produtos_usuario.append(produtos)\n",
    "    i += 1\n",
    "\n",
    "for l in produtos_usuario:\n",
    "    if l == 'mouse':\n",
    "        contador_m += 1\n",
    "    elif l == 'teclado':\n",
    "        contador_t += 1\n",
    "    elif l == 'notebook':\n",
    "        contador_n += 1\n",
    "    else:\n",
    "        contador_vazio += 1\n",
    "        \n",
    "print(f'A lista de produtos digitada pelo usuário é {produtos_usuario}')\n",
    "print(f'Número de mouse: {contador_m}')\n",
    "print(f'Número de teclado: {contador_t}')\n",
    "print(f'Número de notebook: {contador_n}')\n",
    "print(f'Número de itens sem estoque: {contador_vazio}')"
   ]
  }
 ],
 "metadata": {
  "kernelspec": {
   "display_name": "Python 3",
   "language": "python",
   "name": "python3"
  },
  "language_info": {
   "codemirror_mode": {
    "name": "ipython",
    "version": 3
   },
   "file_extension": ".py",
   "mimetype": "text/x-python",
   "name": "python",
   "nbconvert_exporter": "python",
   "pygments_lexer": "ipython3",
   "version": "3.11.4"
  },
  "orig_nbformat": 4
 },
 "nbformat": 4,
 "nbformat_minor": 2
}

{
 "cells": [
  {
   "attachments": {},
   "cell_type": "markdown",
   "metadata": {},
   "source": [
    "# Exercício 01 = cálculo da área de um círculo"
   ]
  },
  {
   "cell_type": "code",
   "execution_count": 10,
   "metadata": {},
   "outputs": [
    {
     "name": "stdout",
     "output_type": "stream",
     "text": [
      "A área do círculo é:314.16\n"
     ]
    }
   ],
   "source": [
    "# Estrutura de entrada\n",
    "raio = float(input('Digite o valor do raio:'))\n",
    "real = 3.14159\n",
    "\n",
    "area_circulo = real * (raio**2)\n",
    "\n",
    "#Estrutura de saída\n",
    "print('A área do círculo é:{:.2f}'.format(area_circulo))\n"
   ]
  },
  {
   "cell_type": "code",
   "execution_count": 16,
   "metadata": {},
   "outputs": [
    {
     "name": "stdout",
     "output_type": "stream",
     "text": [
      "fiap\n"
     ]
    }
   ],
   "source": [
    "var1 = 'f'\n",
    "var2 = 'i'\n",
    "var3 = 'a'\n",
    "var4 = 'p'\n",
    "var_total = var1 + var2 + var3 + var4 # + é concatenar, juntar\n",
    "print(var_total)"
   ]
  },
  {
   "cell_type": "code",
   "execution_count": 17,
   "metadata": {},
   "outputs": [
    {
     "name": "stdout",
     "output_type": "stream",
     "text": [
      "O valor da equação é: 30\n"
     ]
    }
   ],
   "source": [
    "x = int(input('Digite um valor:'))\n",
    "equacao = 2 * x + 10\n",
    "print('O valor da equação é:', equacao)\n"
   ]
  },
  {
   "cell_type": "code",
   "execution_count": 19,
   "metadata": {},
   "outputs": [
    {
     "name": "stdout",
     "output_type": "stream",
     "text": [
      "O resultado da equação é: 245\n"
     ]
    }
   ],
   "source": [
    "xis = int(input('Digite um valor:'))\n",
    "resultado = 25 * xis - 5\n",
    "\n",
    "print('O resultado da equação é:', resultado)"
   ]
  },
  {
   "cell_type": "code",
   "execution_count": 1,
   "metadata": {},
   "outputs": [
    {
     "name": "stdout",
     "output_type": "stream",
     "text": [
      "O resultado da equação é: 4050\n"
     ]
    }
   ],
   "source": [
    "valor = int(input('Digite um valor:'))\n",
    "resultado = (10 * valor**2) + (2 * valor) + 10\n",
    "\n",
    "print('O resultado da equação é:', resultado)"
   ]
  },
  {
   "cell_type": "code",
   "execution_count": 2,
   "metadata": {},
   "outputs": [
    {
     "name": "stdout",
     "output_type": "stream",
     "text": [
      "O valor em milimetros é: 25000.0\n"
     ]
    }
   ],
   "source": [
    "# Variaveis de entrada - Ex. 1\n",
    "\n",
    "metro = float(input(\"insira um valor um metros:\"))\n",
    "milimetros = metro * 1000\n",
    "\n",
    "print(\"O valor em milimetros é:\", milimetros )\n"
   ]
  },
  {
   "cell_type": "code",
   "execution_count": 5,
   "metadata": {},
   "outputs": [
    {
     "name": "stdout",
     "output_type": "stream",
     "text": [
      "O valor total em segundos é: 86.4\n"
     ]
    }
   ],
   "source": [
    "# Variáveis de entrada - Ex. 2\n",
    "\n",
    "dias = int(input('Digite o número de dias:'))\n",
    "horas = int(input('Digite o número de horas:'))\n",
    "minutos = int(input('Digite o número de minutos:'))\n",
    "segundos = int(input('Digite o número de segundos:'))\n",
    "\n",
    "dias_total = dias * 86.400\n",
    "horas_total = horas * 3.600\n",
    "minutos_total = minutos * 60\n",
    "\n",
    "total = dias_total + horas_total + minutos_total + segundos\n",
    "\n",
    "print('O valor total em segundos é:', total)\n"
   ]
  },
  {
   "cell_type": "code",
   "execution_count": 7,
   "metadata": {},
   "outputs": [
    {
     "name": "stdout",
     "output_type": "stream",
     "text": [
      "O valor do desconto é: 10.0\n",
      "O valor da mercadoria com desconto é de R$: 90.0\n"
     ]
    }
   ],
   "source": [
    "# Ex. 3\n",
    "\n",
    "preco_mercadoria = float(input('Digite o preço da mercadoria:'))\n",
    "desconto = float(input('Digite o desconto:'))\n",
    "\n",
    "valor_real_desc = (preco_mercadoria * desconto)/100\n",
    "preco_final = preco_mercadoria - (preco_mercadoria * desconto)/100\n",
    "\n",
    "print(\"O valor do desconto é:\", valor_real_desc)\n",
    "print('O valor da mercadoria com desconto é de R$:', preco_final)"
   ]
  },
  {
   "cell_type": "code",
   "execution_count": 9,
   "metadata": {},
   "outputs": [
    {
     "name": "stdout",
     "output_type": "stream",
     "text": [
      "O tempo da viagem será de: 1.6666666666666667\n"
     ]
    }
   ],
   "source": [
    "# Ex. 4\n",
    "\n",
    "distancia = float(input('Digite a distância:'))\n",
    "velocidade_media = float(input('Digite a velocidade media:'))\n",
    "tempo = distancia / velocidade_media\n",
    "\n",
    "print('O tempo da viagem será de:', tempo, 'horas')\n",
    "\n"
   ]
  },
  {
   "cell_type": "code",
   "execution_count": 23,
   "metadata": {},
   "outputs": [
    {
     "name": "stdout",
     "output_type": "stream",
     "text": [
      "Como gostaria de calcular a potencia?\n",
      " a) V x I\n",
      " b) R x I\n",
      " c) V x R\n",
      " - Digite a letra:\n",
      "A potência é: 10000.0\n"
     ]
    }
   ],
   "source": [
    "#Ex. 5\n",
    "\n",
    "print('Como gostaria de calcular a potencia?\\n a) V x I\\n b) R x I\\n c) V x R\\n - Digite a letra:')\n",
    "opcao = input()\n",
    "\n",
    "if opcao == 'a':\n",
    "    v = float (input('Digite a tensão(v):'))\n",
    "    i = float(input('Digite a corrente(i):'))\n",
    "    p = v * i\n",
    "    print('A potência é:', p)\n",
    "\n",
    "elif opcao == 'b':\n",
    "    r = float(input('Digite a resistência(r):'))\n",
    "    i = float(input('Digite a corrente(i):'))\n",
    "    p = r * i * i \n",
    "    print(\"A potência é:\", p)\n",
    "\n",
    "else:\n",
    "    v = float (input('Digite a tensão(v):'))\n",
    "    r = float(input('Digite a resistência(r):'))\n",
    "    p = (v**2 )/ r\n",
    "    print('A potência é:', p)\n",
    "\n",
    "\n",
    "    \n",
    "\n",
    "\n",
    " \n",
    "\n"
   ]
  },
  {
   "attachments": {},
   "cell_type": "markdown",
   "metadata": {},
   "source": [
    "1)\n",
    "\n",
    "1. Início\n",
    "2. Insira m\n",
    "3. Leia m\n",
    "4. milimetro = m * 1000\n",
    "5. Exibe milimetro\n",
    "6. Fim\n",
    "\n",
    "2)\n",
    "\n",
    "1. Início \n",
    "2. Insira dias, horas, minutos e segundos\n",
    "3. Leia dias, horas, minutos e segundos\n",
    "4. segundos = dias + horas + minutos + segundos\n",
    "5. Exibe segundos\n",
    "6. Fim\n",
    "\n",
    "1 dia = 24h = 86.400s\n",
    "1h = 60 min = 3.600s\n",
    "1 min = 60s\n",
    "\n",
    "\n",
    "3)\n",
    "\n",
    "quantidade_km = 300\n",
    "quantidade_dias = 3\n",
    "preco_pagar = quantidade_dias * 60 + quantidade_km * 0.15"
   ]
  },
  {
   "cell_type": "code",
   "execution_count": 19,
   "metadata": {},
   "outputs": [
    {
     "name": "stdout",
     "output_type": "stream",
     "text": [
      "O preço a pagar pelo uso do carro é de R$ 225.0\n"
     ]
    }
   ],
   "source": [
    "# Ex. 6\n",
    "\n",
    "quantidade_km = float(input('Digite a quantidade de km percorridos:'))\n",
    "quantidade_dias = float(input('Digite a quantidade de dias pelos quais o carro foi alugado:'))\n",
    "\n",
    "preco_pagar = quantidade_dias * 60 + quantidade_km * 0.15\n",
    "\n",
    "print('O preço a pagar pelo uso do carro é de R$', preco_pagar)"
   ]
  },
  {
   "attachments": {},
   "cell_type": "markdown",
   "metadata": {},
   "source": [
    "Aula 3 - 15/03"
   ]
  },
  {
   "cell_type": "code",
   "execution_count": null,
   "metadata": {},
   "outputs": [],
   "source": [
    "pip install sympy\n",
    "\n"
   ]
  },
  {
   "cell_type": "code",
   "execution_count": 10,
   "metadata": {},
   "outputs": [],
   "source": [
    "from sympy import*\n",
    "x = Symbol ('x')"
   ]
  },
  {
   "cell_type": "code",
   "execution_count": 15,
   "metadata": {},
   "outputs": [
    {
     "data": {
      "text/latex": [
       "$\\displaystyle 3 x^{2} + 10 x + 10$"
      ],
      "text/plain": [
       "3*x**2 + 10*x + 10"
      ]
     },
     "execution_count": 15,
     "metadata": {},
     "output_type": "execute_result"
    }
   ],
   "source": [
    "x**2 +  10*x + 10\n",
    "Derivative(x**2)\n",
    "Integral(x**2)\n",
    "3*x**2 + 10*x + 10"
   ]
  },
  {
   "cell_type": "code",
   "execution_count": 16,
   "metadata": {},
   "outputs": [
    {
     "data": {
      "text/latex": [
       "$\\displaystyle 2 x$"
      ],
      "text/plain": [
       "2*x"
      ]
     },
     "execution_count": 16,
     "metadata": {},
     "output_type": "execute_result"
    }
   ],
   "source": [
    "Derivative(x**2).doit()"
   ]
  },
  {
   "cell_type": "code",
   "execution_count": 17,
   "metadata": {},
   "outputs": [
    {
     "data": {
      "text/latex": [
       "$\\displaystyle \\frac{x^{3}}{3}$"
      ],
      "text/plain": [
       "x**3/3"
      ]
     },
     "execution_count": 17,
     "metadata": {},
     "output_type": "execute_result"
    }
   ],
   "source": [
    "Integral(x**2).doit()"
   ]
  },
  {
   "cell_type": "code",
   "execution_count": 18,
   "metadata": {},
   "outputs": [],
   "source": [
    "from sympy.plotting import *"
   ]
  },
  {
   "cell_type": "code",
   "execution_count": 19,
   "metadata": {},
   "outputs": [
    {
     "name": "stdout",
     "output_type": "stream",
     "text": [
      "    100 |\\                                                     /\n",
      "        | .                                                   . \n",
      "        |                                                       \n",
      "        |  .                                                 .  \n",
      "        |   \\                                               /   \n",
      "        |    .                                             .    \n",
      "        |                                                       \n",
      "        |     .                                           .     \n",
      "        |      \\                                         /      \n",
      "        |       \\                                       /       \n",
      "     50 |--------\\-------------------------------------/--------\n",
      "        |         \\                                   /         \n",
      "        |          \\                                 /          \n",
      "        |           \\                               /           \n",
      "        |            \\                             /            \n",
      "        |             ..                         ..             \n",
      "        |               \\                       /               \n",
      "        |                ..                   ..                \n",
      "        |                  ..               ..                  \n",
      "        |                    ...         ...                    \n",
      "      0 |_______________________________________________________\n",
      "         -10                        0                          10\n"
     ]
    },
    {
     "data": {
      "text/plain": [
       "<sympy.plotting.plot.Plot at 0x2817332cfd0>"
      ]
     },
     "execution_count": 19,
     "metadata": {},
     "output_type": "execute_result"
    }
   ],
   "source": [
    "plot(x**2)"
   ]
  },
  {
   "cell_type": "code",
   "execution_count": 20,
   "metadata": {},
   "outputs": [
    {
     "name": "stdout",
     "output_type": "stream",
     "text": [
      "   1000 |                                                      /\n",
      "        |                                                     / \n",
      "        |                                                    /  \n",
      "        |                                                   /   \n",
      "        |                                                  /    \n",
      "        |                                                ..     \n",
      "        |                                               /       \n",
      "        |                                             ..        \n",
      "        |                                          ...          \n",
      "        |                                     .....             \n",
      "      0 |------------------...................------------------\n",
      "        |             .....                                     \n",
      "        |          ...                                          \n",
      "        |        ..                                             \n",
      "        |       /                                               \n",
      "        |     ..                                                \n",
      "        |    /                                                  \n",
      "        |   /                                                   \n",
      "        |  /                                                    \n",
      "        | /                                                     \n",
      "  -1000 |_______________________________________________________\n",
      "         -10                        0                          10\n"
     ]
    },
    {
     "data": {
      "text/plain": [
       "<sympy.plotting.plot.Plot at 0x28173b1d310>"
      ]
     },
     "execution_count": 20,
     "metadata": {},
     "output_type": "execute_result"
    }
   ],
   "source": [
    "plot(x**3)"
   ]
  },
  {
   "cell_type": "code",
   "execution_count": 21,
   "metadata": {},
   "outputs": [
    {
     "data": {
      "text/plain": [
       "'n Python'"
      ]
     },
     "execution_count": 21,
     "metadata": {},
     "output_type": "execute_result"
    }
   ],
   "source": [
    "s = \"Let´s learn Python\"\n",
    "s[10:]"
   ]
  },
  {
   "cell_type": "code",
   "execution_count": 22,
   "metadata": {},
   "outputs": [
    {
     "data": {
      "text/plain": [
       "'Python'"
      ]
     },
     "execution_count": 22,
     "metadata": {},
     "output_type": "execute_result"
    }
   ],
   "source": [
    "s = 'Pytho'\n",
    "s + 'n'"
   ]
  },
  {
   "cell_type": "code",
   "execution_count": 24,
   "metadata": {},
   "outputs": [
    {
     "data": {
      "text/plain": [
       "'Python é impressionante'"
      ]
     },
     "execution_count": 24,
     "metadata": {},
     "output_type": "execute_result"
    }
   ],
   "source": [
    "s = \"Python\"\n",
    "s + \" é \" + \"impressionante\""
   ]
  },
  {
   "cell_type": "code",
   "execution_count": 29,
   "metadata": {},
   "outputs": [
    {
     "name": "stdout",
     "output_type": "stream",
     "text": [
      "Meu nome é  Diego Cabral , tenho 38 anos  e moro na cidade de  São Paulo .\n"
     ]
    }
   ],
   "source": [
    "nome = input('Digite seu nome:')\n",
    "idade = int(input('Digite sua idade:'))\n",
    "cidade = input('Digite sua cidade:')\n",
    "\n",
    "print(\"Meu nome é \", nome, \", tenho\", idade, \"anos\", \"e moro na cidade de \", cidade, \".\")\n"
   ]
  },
  {
   "cell_type": "code",
   "execution_count": 31,
   "metadata": {},
   "outputs": [
    {
     "data": {
      "text/plain": [
       "'Meu nome é Mark, tenho 30 anos e moro na cidade de NY'"
      ]
     },
     "execution_count": 31,
     "metadata": {},
     "output_type": "execute_result"
    }
   ],
   "source": [
    "\"Meu nome é %s, tenho %d anos e moro na cidade de %s\" %('Mark', 30, \"NY\")"
   ]
  },
  {
   "cell_type": "code",
   "execution_count": 33,
   "metadata": {},
   "outputs": [
    {
     "name": "stdout",
     "output_type": "stream",
     "text": [
      "Meu nome é Diego Cabral, tenho 38 anos e moro na cidade de São Paulo.\n"
     ]
    }
   ],
   "source": [
    "print(\"Meu nome é %s, tenho %d anos e moro na cidade de %s.\" %(nome,idade,cidade))"
   ]
  },
  {
   "cell_type": "code",
   "execution_count": 39,
   "metadata": {},
   "outputs": [
    {
     "data": {
      "text/plain": [
       "'João tem 022 anos e R$51.34 no bolso.'"
      ]
     },
     "execution_count": 39,
     "metadata": {},
     "output_type": "execute_result"
    }
   ],
   "source": [
    "nome = \"João\"\n",
    "grana = 51.34\n",
    "idade = 22\n",
    "\n",
    "\n",
    "\"%s tem %03d anos e R$%5.2f no bolso.\" %(nome, idade, grana)"
   ]
  },
  {
   "cell_type": "code",
   "execution_count": 40,
   "metadata": {},
   "outputs": [
    {
     "name": "stdout",
     "output_type": "stream",
     "text": [
      "Diego tem 20 anos e 51.34 no bolso\n"
     ]
    }
   ],
   "source": [
    "nome = 'Diego'\n",
    "idade = 20\n",
    "grana = 51.34\n",
    "print(f\"{nome} tem {idade} anos e {grana} no bolso.\")"
   ]
  },
  {
   "cell_type": "code",
   "execution_count": 41,
   "metadata": {},
   "outputs": [
    {
     "name": "stdout",
     "output_type": "stream",
     "text": [
      "t\n"
     ]
    }
   ],
   "source": [
    "pal = \"Python\"\n",
    "char = pal[2]\n",
    "print(char)"
   ]
  },
  {
   "cell_type": "code",
   "execution_count": 42,
   "metadata": {},
   "outputs": [
    {
     "name": "stdout",
     "output_type": "stream",
     "text": [
      "bonono\n"
     ]
    }
   ],
   "source": [
    "fruta = 'banana'\n",
    "nova_fruta = fruta.replace('a', 'o')\n",
    "print(nova_fruta)\n"
   ]
  },
  {
   "cell_type": "code",
   "execution_count": 43,
   "metadata": {},
   "outputs": [
    {
     "data": {
      "text/plain": [
       "['apple', 'banana', 'orange']"
      ]
     },
     "execution_count": 43,
     "metadata": {},
     "output_type": "execute_result"
    }
   ],
   "source": [
    "frutas = 'apple,banana,orange'\n",
    "frutas.split(',')"
   ]
  },
  {
   "cell_type": "code",
   "execution_count": 44,
   "metadata": {},
   "outputs": [
    {
     "data": {
      "text/plain": [
       "'Python'"
      ]
     },
     "execution_count": 44,
     "metadata": {},
     "output_type": "execute_result"
    }
   ],
   "source": [
    "frase = '    Python     '\n",
    "frase.strip()"
   ]
  },
  {
   "cell_type": "code",
   "execution_count": 45,
   "metadata": {},
   "outputs": [
    {
     "data": {
      "text/plain": [
       "'Python'"
      ]
     },
     "execution_count": 45,
     "metadata": {},
     "output_type": "execute_result"
    }
   ],
   "source": [
    "frase2 = '//// Python'\n",
    "frase2.strip('/ ')"
   ]
  },
  {
   "cell_type": "code",
   "execution_count": 51,
   "metadata": {},
   "outputs": [
    {
     "name": "stdout",
     "output_type": "stream",
     "text": [
      "Seu nome é Diego José Cabral\n"
     ]
    }
   ],
   "source": [
    "nome = input('Digite seu nome:')\n",
    "segundo_nome = input('Digite seu segundo nome:')\n",
    "terceiro_nome = input('Digite seu terceiro nome:')\n",
    "\n",
    "print(f\"Seu nome é {nome.capitalize()} {segundo_nome.capitalize()} {terceiro_nome.capitalize()}\")"
   ]
  },
  {
   "cell_type": "code",
   "execution_count": 66,
   "metadata": {},
   "outputs": [
    {
     "name": "stdout",
     "output_type": "stream",
     "text": [
      "Joao Da Silva\n"
     ]
    }
   ],
   "source": [
    "nome = input('Digite seu nome:')\n",
    "segundo_nome = input('Digite seu segundo nome:')\n",
    "terceiro_nome = input('Digite seu terceiro nome:')\n",
    "cpf = int(input('Digite os 11 dígitos do seu CPF:'))\n",
    "cidade = input('Digite sua cidade:')\n",
    "\n",
    "print(nome[0].upper() + nome[1:] + ' ' + segundo_nome[0].upper() + segundo_nome[1:] + ' ' + terceiro_nome[0].upper() + terceiro_nome[1:])\n",
    "print('Seu CPF é:', cpf)\n",
    "\n",
    "\n",
    "\n",
    "\n"
   ]
  },
  {
   "attachments": {},
   "cell_type": "markdown",
   "metadata": {},
   "source": [
    "Crie uma estrutura com 5 inputs, solicitando primeiro, seguno e terceiro nome, deixando a primeira letra de cada nome maiúsculo. Depois cria duas variáveis solicitando o CPF e a sua cidade. "
   ]
  },
  {
   "cell_type": "code",
   "execution_count": 79,
   "metadata": {},
   "outputs": [
    {
     "name": "stdout",
     "output_type": "stream",
     "text": [
      "Rio De\n"
     ]
    }
   ],
   "source": [
    "\n",
    "cidade = input('Digite sua cidade:')\n",
    "if ' ' in cidade:\n",
    "    nova_cidade = cidade.split(' ')\n",
    "    nova_cidade[0][0].upper() + nova_cidade[0][1:]\n",
    "    nova_cidade[1][0].upper() + nova_cidade[1][1:]\n",
    "    print(nova_cidade[0][0].upper() + nova_cidade[0][1:] + ' ' + nova_cidade[1][0].upper() + nova_cidade[1][1:] )\n",
    "else:\n",
    "    print(cidade[0].upper() + cidade[1:])\n"
   ]
  },
  {
   "attachments": {},
   "cell_type": "markdown",
   "metadata": {},
   "source": [
    "AULA 04 - CONDICIONAIS - 22/03 "
   ]
  },
  {
   "cell_type": "code",
   "execution_count": null,
   "metadata": {},
   "outputs": [],
   "source": [
    "# Ex.1 \n",
    "n1 = 10\n",
    "n2 = 5\n",
    "n3 = 7\n",
    "\n",
    "media = (n1 + n2 + n3)/3\n",
    "\n",
    "if media >= 7:\n",
    "    print('Aprovado!', media)\n",
    "elif media >= 4 and media < 7:\n",
    "    print('Exame!')\n",
    "else:\n",
    "    print('Reprovado!')"
   ]
  },
  {
   "attachments": {},
   "cell_type": "markdown",
   "metadata": {},
   "source": [
    "1. Crie um algoritmo para calcular a média dentre 3 notas inseridas pelos usuário. Se a média for >= 7 aprovado, <7 ou <= 4, exame, <4 reprovado. Ou se o aluno tiver um artigo publicao, independente de nota, será aprovado. "
   ]
  },
  {
   "cell_type": "code",
   "execution_count": 18,
   "metadata": {},
   "outputs": [
    {
     "name": "stdout",
     "output_type": "stream",
     "text": [
      "Reprovado! 2.3333333333333335\n"
     ]
    }
   ],
   "source": [
    "artigo = input('Tem artigo publicado? S ou N')\n",
    "\n",
    "if artigo == 's' or artigo == 'S':\n",
    "    print('Aprovado!')\n",
    "else:\n",
    "    nota1 = float(input('Digite a primeira nota:'))\n",
    "    nota2 = float(input('Digite a segunda nota:'))\n",
    "    nota3 = float(input('Digite a terceira nota:'))\n",
    "\n",
    "    media = (nota1 + nota2 + nota3)/3\n",
    "\n",
    "    if media >= 7:\n",
    "        print('Aprovado!', media)\n",
    "    elif media >= 4 and media < 7:\n",
    "        print('Exame!', media)\n",
    "    else:\n",
    "        print('Reprovado!', media)\n",
    "\n",
    "\n",
    "\n"
   ]
  },
  {
   "attachments": {},
   "cell_type": "markdown",
   "metadata": {},
   "source": [
    "2. Escreva um programa que pergunte a velocidade do carro do usuário. Caso passe de 80 km/h, exiba uma mensagem dizendo que o usuário foi multado. Exibir a multa, cobrando R$ 5 a cada km/h acima do permitido. "
   ]
  },
  {
   "cell_type": "code",
   "execution_count": null,
   "metadata": {},
   "outputs": [],
   "source": [
    "velocidade = float(input('Digite a sua velocidade atual:'))\n",
    "multa = (velocidade - 80) * 5\n",
    "if velocidade > 80:\n",
    "    print('Você foi multado!', velocidade) #(velocidade - 80 * 5)\n",
    "    print('O valor da multa é de R$', multa)\n",
    "else:\n",
    "    print('Velocidade da via! Sem multa!')\n"
   ]
  },
  {
   "attachments": {},
   "cell_type": "markdown",
   "metadata": {},
   "source": [
    "3. Escreva um programa que peça ao usuário para digitar a idade e, em seguida, imprime uma mensagem indicando se a pessoa é uma crianca, adolescente, adulto ou idoso. "
   ]
  },
  {
   "cell_type": "code",
   "execution_count": 19,
   "metadata": {},
   "outputs": [
    {
     "name": "stdout",
     "output_type": "stream",
     "text": [
      "Adulto! 64\n"
     ]
    }
   ],
   "source": [
    "idade = int(input('Digite sua idade:'))\n",
    "\n",
    "if idade  < 12:\n",
    "    print('Você é uma criança!', idade)\n",
    "elif idade >= 12 and idade < 18:\n",
    "    print('Adolescente!', idade)\n",
    "elif 18 <= idade < 65:\n",
    "    print('Adulto!', idade)\n",
    "else:\n",
    "    print('Idoso!', idade)"
   ]
  },
  {
   "attachments": {},
   "cell_type": "markdown",
   "metadata": {},
   "source": [
    "4. Escreva um programa que verifica se um número é par ou ímpar. "
   ]
  },
  {
   "cell_type": "code",
   "execution_count": 22,
   "metadata": {},
   "outputs": [
    {
     "name": "stdout",
     "output_type": "stream",
     "text": [
      "O número é impar! 9\n"
     ]
    }
   ],
   "source": [
    "numero = int(input('Digite um número:'))\n",
    "if numero % 2 == 0:\n",
    "    print('O número é par', numero)\n",
    "else:\n",
    "    print('O número é impar!', numero)\n"
   ]
  },
  {
   "attachments": {},
   "cell_type": "markdown",
   "metadata": {},
   "source": [
    "5. Escreva um programa que compare entre 3 números qual é o maior. "
   ]
  },
  {
   "cell_type": "code",
   "execution_count": 25,
   "metadata": {},
   "outputs": [
    {
     "name": "stdout",
     "output_type": "stream",
     "text": [
      "2000\n"
     ]
    }
   ],
   "source": [
    "num1 = int(input('Digite o primeiro número:'))\n",
    "num2 = int(input('Digite o segundo número:'))\n",
    "num3 = int(input('Digite o terceiro número:'))\n",
    "maior = 0\n",
    "\n",
    "if num1 == num2 and num3 > num1 and num3 > num2:\n",
    "    print(maior, num3)\n",
    "elif num1 == num3 and num2 > num1 and num2 > num3:\n",
    "    print(maior, num2)\n",
    "    \n",
    "if num1 > num2:\n",
    "    if num1 > num3:\n",
    "        maior = num1\n",
    "        print(maior)\n",
    "    else:\n",
    "        maior = num3\n",
    "        print(maior)\n",
    "else:\n",
    "    if num2 > num3:\n",
    "        maior = num2\n",
    "        print(maior)\n",
    "    else:\n",
    "        maior = num3\n",
    "        print(maior)\n"
   ]
  },
  {
   "attachments": {},
   "cell_type": "markdown",
   "metadata": {},
   "source": [
    "6. Escreva um programa que mostre qual a sua cor favorita. Crie utilizando uma estrutura com números. "
   ]
  },
  {
   "cell_type": "code",
   "execution_count": null,
   "metadata": {},
   "outputs": [],
   "source": [
    "print('1. Azul')\n",
    "print('2. Vermelho')\n",
    "print('3. Amarelo')\n",
    "print('4. Preto')\n",
    "print('5. Branco')\n",
    "\n",
    "numero = int(input('Digite o número desejado:'))\n",
    "\n",
    "if numero == 1:\n",
    "    print('Azul')\n",
    "elif numero == 2:\n",
    "    print('Vermelho')\n",
    "elif numero == 3:\n",
    "    print('Amarelo')\n",
    "elif numero == 4:\n",
    "    print('Preto')\n",
    "else:\n",
    "    print('Branco')"
   ]
  },
  {
   "attachments": {},
   "cell_type": "markdown",
   "metadata": {},
   "source": [
    "7. Crie um programa para mostrar se o usuário deve pagar imposto em função da sua condição financeira (salário). \n",
    "salário < 2.000 - 10% de imposto sobre o salário\n",
    "2000 <= salario < 5000 - 20% de imposto sobre o salário \n",
    "5000 <= salario < 10.000 - 24% de imposto sobre o salário\n",
    "salario > 10000 - 30% de imposto sobre o salário"
   ]
  },
  {
   "cell_type": "code",
   "execution_count": 29,
   "metadata": {},
   "outputs": [
    {
     "name": "stdout",
     "output_type": "stream",
     "text": [
      "Imposto a pagar: 195.0\n",
      "Seu salário: 1755.0\n"
     ]
    }
   ],
   "source": [
    "salario = float(input('Digite seu salário:'))\n",
    "\n",
    "if salario < 2000:\n",
    "    salario_final = salario - (salario * 0.1)\n",
    "    imposto = (salario * 0.1)\n",
    "    print('Imposto a pagar:', imposto)\n",
    "    print('Seu salário:', salario_final)\n",
    "elif 2000 <= salario < 5000:\n",
    "    salario_final = salario - (salario * 0.2)\n",
    "    imposto = (salario * 0.2)\n",
    "    print('Imposto a pagar:', imposto)\n",
    "    print('Seu salário:', salario_final)\n",
    "elif 5000 <= salario < 10000:\n",
    "    salario_final = salario - (salario * 0.24)\n",
    "    imposto = (salario * 0.24)\n",
    "    print('Imposto a pagar:', imposto)\n",
    "    print('Seu salário:', salario_final)\n",
    "else:\n",
    "    salario_final = salario - (salario * 0.3)\n",
    "    imposto = (salario * 0.3)\n",
    "    print('Imposto a pagar:', imposto)\n",
    "    print('Seu salário:', salario_final)\n",
    "\n",
    "\n",
    "\n",
    "\n"
   ]
  },
  {
   "attachments": {},
   "cell_type": "markdown",
   "metadata": {},
   "source": [
    "8. Crie um programa para o usuário inserir o dia da semana e printar dia de balada caso seja sábado, caso seja domingo, deverá printar dia de netflix, futebol ou cinema. Caso seja dia da semana, print dia de estudar ou trabalhar. "
   ]
  },
  {
   "cell_type": "code",
   "execution_count": 34,
   "metadata": {},
   "outputs": [
    {
     "name": "stdout",
     "output_type": "stream",
     "text": [
      "Dia de trabalhar ou estudar!\n"
     ]
    }
   ],
   "source": [
    "dia_semana = str(input('Digite o dia da semana:'))\n",
    "\n",
    "if dia_semana == 'sábado' or dia_semana == 'sabado' or dia_semana == 'Sábado':\n",
    "    print('Dia de balada!')\n",
    "elif dia_semana == 'Domingo' or dia_semana == 'domingo':\n",
    "    print('Dia de Netflix, futebol ou cinema!')\n",
    "else:\n",
    "    print('Dia de trabalhar ou estudar!')"
   ]
  },
  {
   "attachments": {},
   "cell_type": "markdown",
   "metadata": {},
   "source": [
    "9. Crie um programa para verificar se uma pessoa pode ou não votar em função da sua idade e do título de eleitor. Caso a pessoa tenha 16 anos ou 17 anos , pergunte se ela quer votar, se sim, pergunte se tem título de eleitor, caso tenha, print permitido votar. Caso a pessoa tenha 16 ou 17 anos e não queira votar, print é seu direito. Caso tenha idade maior ou igual a 18 anos, obrigatório votar."
   ]
  },
  {
   "cell_type": "code",
   "execution_count": 53,
   "metadata": {},
   "outputs": [
    {
     "name": "stdout",
     "output_type": "stream",
     "text": [
      "Pense bem, é seu direito!\n"
     ]
    }
   ],
   "source": [
    "idade = int(input('Digite sua idade:'))\n",
    "\n",
    "if idade == 16 or idade == 17 or idade > 70:\n",
    "    votar = str(input(' Seu voto é facultativo. Quer votar mesmo assim? S ou N'))\n",
    "    if votar == 's' or votar == 'S':\n",
    "        titulo_eleitor = str(input('Tem título de eleitor? S ou N'))\n",
    "        if titulo_eleitor == 'S' or titulo_eleitor == 's': #upper\n",
    "            print('Pode votar!')\n",
    "        else:\n",
    "            print('Tire seu título de eleitor!')\n",
    "    else:\n",
    "        print('Pense bem, é seu direito!')\n",
    "\n",
    "elif idade < 16:\n",
    "    print('Você não pode votar ainda!')\n",
    "else:\n",
    "    print('Seu voto é obrigatório! Tire seu título de eleitor, caso não tenha!')\n"
   ]
  },
  {
   "cell_type": "code",
   "execution_count": null,
   "metadata": {},
   "outputs": [],
   "source": [
    "letra = str(input('Digite uma letra')).lower()\n",
    "palavra = str(input('Digite uma palavra:')).lower()\n",
    "\n",
    "if letra in palavra:\n",
    "    print(letra)\n",
    "else:\n",
    "    print('Não está na palavra')"
   ]
  },
  {
   "cell_type": "code",
   "execution_count": null,
   "metadata": {},
   "outputs": [],
   "source": [
    "lista = ['segunda', 'terça', 'quarta', 'quinta', 'sexta']\n",
    "\n",
    "dia = str(input('Digite o dia da semana:'))\n",
    "if dia in lista:\n",
    "    print('Dia está na lista!')"
   ]
  },
  {
   "cell_type": "code",
   "execution_count": 6,
   "metadata": {},
   "outputs": [],
   "source": [
    "nome = str(input('Digite seu nome:'))\n",
    "idade = int(input(nome + ', Digite sua idade:'))"
   ]
  },
  {
   "cell_type": "code",
   "execution_count": null,
   "metadata": {},
   "outputs": [],
   "source": [
    "#Estrutura condicional aninhada\n",
    "#Ex. 1\n",
    "idade = int(input('Insira sua idade:'))\n",
    "total_compra = float(input('Insira o valor da sua compra:'))\n",
    "\n",
    "if idade >= 65:\n",
    "    if total_compra >= 100:\n",
    "        print('Você terá 10% de desconto')\n",
    "    else:\n",
    "        print('Você não terá direito ao desconto por causa do valor da compra.')\n",
    "else:\n",
    "    print('Você está fora da faixa de idade para ter o desconto.')"
   ]
  },
  {
   "cell_type": "code",
   "execution_count": 11,
   "metadata": {},
   "outputs": [
    {
     "name": "stdout",
     "output_type": "stream",
     "text": [
      "O carro está fora da faixa de idade!\n"
     ]
    }
   ],
   "source": [
    "# Ex.2 - Crie um programa para solicitar idade do carro e marca do carro. Se a faixa de idade estiver\n",
    "# entre 2013 e 2015, solicite a marca do carro e, caso a marca do carro seja Volvo, imprima\n",
    "# o carro é Volvo e foi fabricado entre 2013 e 2015. Carro entre os anos 2013 e 2015\n",
    "# mas não é Volvo. Seu carro está fora da faixa dos anos. \n",
    "\n",
    "idade = int(input('Digite o ano de fabricação do carro:'))\n",
    "\n",
    "\n",
    "\n",
    "if 2013 <= idade <= 2015:\n",
    "    marca = str(input('Qual a marca do carro?'))\n",
    "    if marca == 'Volvo':\n",
    "        print('O carro é Volvo e foi fabricado entre 2013 e 2015')\n",
    "    else:\n",
    "        print('O carro está dentro da faixa de anos, mas não é Volvo')\n",
    "else:\n",
    "    print('O carro está fora da faixa de idade!')\n",
    "\n",
    "\n",
    "\n",
    "\n"
   ]
  },
  {
   "cell_type": "code",
   "execution_count": 14,
   "metadata": {},
   "outputs": [
    {
     "name": "stdout",
     "output_type": "stream",
     "text": [
      "É hora de fazer uma caminhada no parque\n"
     ]
    }
   ],
   "source": [
    "# Ex. 3 - Verificação de horário do dia e temperatura para sugerir uma atividade\n",
    "# 6 <= hora < 12h e a temperatura > 20, é hora de fazer uma caminhada no parque. \n",
    "# Hora de tomar um café da manhã. \n",
    "# 12 <= hora < 18h e a temperatura > 25, que tal um piquenique?. \n",
    "# Hora de almoçar. \n",
    "# hora de relaxar em casa.\n",
    "\n",
    "hora = int(input('Digite a hora do dia:'))\n",
    "temperatura = int(input('Digte a temperatura atual:'))\n",
    "\n",
    "if  6 <= hora < 12:\n",
    "    if temperatura > 20:\n",
    "        print('É hora de fazer uma caminhada no parque')\n",
    "    else:\n",
    "        print('É hora de tomar um café da manhã!')\n",
    "elif 12 <= hora < 18: #se ja tiver um if, colocar um elif, senão nao saberá a prioridade. \n",
    "    if temperatura > 25:\n",
    "        print('Que tal um piquenique?')\n",
    "    else:\n",
    "        print('É hora de almoçar')\n",
    "else:\n",
    "    print('É hora de relaxar em casa!')\n",
    "\n"
   ]
  },
  {
   "cell_type": "code",
   "execution_count": 16,
   "metadata": {},
   "outputs": [
    {
     "name": "stdout",
     "output_type": "stream",
     "text": [
      "Seu pedido está a caminho\n"
     ]
    }
   ],
   "source": [
    "# ex.4 - Verificação de status de um pedido com base na idade do pedido e no tipo de cliente \n",
    "# idade < 7 e cliente VIP - Seu pedido está sendo preparado para entrega expressa!\n",
    "# else - seu pedido será entregue em breve.\n",
    "# 7 < idade < 14 e cliente VIP - Seu pedido está em processo de embalagem especial \n",
    "# else - seu pedido está sendo preparado\n",
    "# else - seu pedido está a caminho. \n",
    "\n",
    "idade_pedido = int(input('Há quanto tempo você é cliente:'))\n",
    "tipo_cliente = str(input('Você é cliente VIP? Sim ou Não'))\n",
    "\n",
    "if idade_pedido < 7:\n",
    "    if tipo_cliente == 'Sim':\n",
    "        print('Seu pedido está sendo preparado para entrega expressa!')\n",
    "    else:\n",
    "        print('Seu pedido será entregue em breve.')\n",
    "elif 7 < idade_pedido < 14:\n",
    "    if tipo_cliente == 'Sim':\n",
    "        print('Seu pedido está em processo de embalagem especial')\n",
    "    else:\n",
    "        print('Seu pedido está sendo preparado')\n",
    "else:\n",
    "    print('Seu pedido está a caminho')\n",
    "\n",
    "\n",
    "\n"
   ]
  },
  {
   "cell_type": "code",
   "execution_count": 17,
   "metadata": {},
   "outputs": [
    {
     "name": "stdout",
     "output_type": "stream",
     "text": [
      "0\n",
      "1\n",
      "2\n",
      "3\n",
      "4\n",
      "5\n"
     ]
    }
   ],
   "source": [
    "i = 0\n",
    "while i <= 5:\n",
    "    print(i)\n",
    "    i += 5 "
   ]
  },
  {
   "cell_type": "code",
   "execution_count": null,
   "metadata": {},
   "outputs": [],
   "source": [
    "#Fatorial \n",
    "\n",
    "resultado = 1\n",
    "numero = 0\n",
    "\n",
    "while numero < 5:\n",
    "    numero += 1 \n",
    "    resultado *= numero \n",
    "    print(resultado)\n",
    "\n",
    "\n"
   ]
  },
  {
   "cell_type": "code",
   "execution_count": 19,
   "metadata": {},
   "outputs": [
    {
     "name": "stdout",
     "output_type": "stream",
     "text": [
      "9\n",
      "8\n",
      "7\n",
      "6\n",
      "5\n",
      "4\n",
      "3\n",
      "2\n",
      "1\n",
      "0\n"
     ]
    }
   ],
   "source": [
    "# https://pythontutor.com/\n",
    "contador = 10\n",
    "\n",
    "while contador > 0:\n",
    "    contador -= 1\n",
    "    print(contador)"
   ]
  },
  {
   "cell_type": "code",
   "execution_count": 3,
   "metadata": {},
   "outputs": [
    {
     "name": "stdout",
     "output_type": "stream",
     "text": [
      "50.0°F - 10.0 °C\n",
      "50.0°F - 10.0 °C\n"
     ]
    }
   ],
   "source": [
    "# Ex.1 - Crie um progama pra solicita temperaturas em Farenheit e converter para Celsius. Enquanto for diferente  de alguma\n",
    "#coisa, continue esta estrutura. \n",
    "\n",
    "temp_celsius = 0\n",
    "temp_farenheit =  float(input('Digite um valor de temperatura:'))\n",
    "\n",
    "while temp_farenheit != 0:\n",
    "    temp_celsius = (5/9) * (temp_farenheit - 32)\n",
    "    print(f\"{temp_farenheit}°F - {temp_celsius} °C\")\n",
    "    temp_farenheit = float(input(\"Insira um valor de temperatura\"))"
   ]
  },
  {
   "cell_type": "code",
   "execution_count": 7,
   "metadata": {},
   "outputs": [
    {
     "name": "stdout",
     "output_type": "stream",
     "text": [
      "1\n",
      "2\n",
      "3\n",
      "4\n",
      "5\n",
      "6\n",
      "7\n",
      "8\n",
      "9\n",
      "10\n",
      "11\n",
      "12\n",
      "13\n",
      "14\n",
      "15\n",
      "16\n",
      "17\n",
      "18\n",
      "19\n",
      "20\n",
      "21\n",
      "22\n",
      "23\n",
      "24\n",
      "25\n",
      "26\n",
      "27\n",
      "28\n",
      "29\n",
      "30\n",
      "31\n",
      "32\n",
      "33\n",
      "34\n",
      "35\n",
      "36\n",
      "37\n",
      "38\n",
      "39\n",
      "40\n",
      "41\n",
      "42\n",
      "43\n",
      "44\n",
      "45\n",
      "46\n",
      "47\n",
      "48\n",
      "49\n",
      "50\n",
      "51\n",
      "52\n",
      "53\n",
      "54\n",
      "55\n",
      "56\n",
      "57\n",
      "58\n",
      "59\n",
      "60\n",
      "61\n",
      "62\n",
      "63\n",
      "64\n",
      "65\n",
      "66\n",
      "67\n",
      "68\n",
      "69\n",
      "70\n",
      "71\n",
      "72\n",
      "73\n",
      "74\n",
      "75\n",
      "76\n",
      "77\n",
      "78\n",
      "79\n",
      "80\n",
      "81\n",
      "82\n",
      "83\n",
      "84\n",
      "85\n",
      "86\n",
      "87\n",
      "88\n",
      "89\n",
      "90\n",
      "91\n",
      "92\n",
      "93\n",
      "94\n",
      "95\n",
      "96\n",
      "97\n",
      "98\n",
      "99\n",
      "100\n",
      "101\n",
      "102\n",
      "103\n",
      "104\n",
      "105\n",
      "106\n",
      "107\n",
      "108\n",
      "109\n",
      "110\n",
      "111\n",
      "112\n",
      "113\n",
      "114\n",
      "115\n",
      "116\n",
      "117\n",
      "118\n",
      "119\n",
      "120\n",
      "121\n",
      "122\n",
      "123\n",
      "124\n",
      "125\n",
      "126\n",
      "127\n",
      "128\n",
      "129\n",
      "130\n",
      "131\n",
      "132\n",
      "133\n",
      "134\n",
      "135\n",
      "136\n",
      "137\n",
      "138\n",
      "139\n",
      "140\n",
      "141\n",
      "142\n",
      "143\n",
      "144\n",
      "145\n",
      "146\n",
      "147\n",
      "148\n",
      "149\n",
      "150\n",
      "151\n",
      "152\n",
      "153\n",
      "154\n",
      "155\n",
      "156\n",
      "157\n",
      "158\n",
      "159\n",
      "160\n",
      "161\n",
      "162\n",
      "163\n",
      "164\n",
      "165\n",
      "166\n",
      "167\n",
      "168\n",
      "169\n",
      "170\n",
      "171\n",
      "172\n",
      "173\n",
      "174\n",
      "175\n",
      "176\n",
      "177\n",
      "178\n",
      "179\n",
      "180\n",
      "181\n",
      "182\n",
      "183\n",
      "184\n",
      "185\n",
      "186\n",
      "187\n",
      "188\n",
      "189\n",
      "190\n",
      "191\n",
      "192\n",
      "193\n",
      "194\n",
      "195\n",
      "196\n",
      "197\n",
      "198\n",
      "199\n",
      "200\n",
      "201\n",
      "202\n",
      "203\n",
      "204\n",
      "205\n",
      "206\n",
      "207\n",
      "208\n",
      "209\n",
      "210\n",
      "211\n",
      "212\n",
      "213\n",
      "214\n",
      "215\n",
      "216\n",
      "217\n",
      "218\n",
      "219\n",
      "220\n",
      "221\n",
      "222\n",
      "223\n",
      "224\n",
      "225\n",
      "226\n",
      "227\n",
      "228\n",
      "229\n",
      "230\n",
      "231\n",
      "232\n",
      "233\n",
      "234\n",
      "235\n",
      "236\n",
      "237\n",
      "238\n",
      "239\n",
      "240\n",
      "241\n",
      "242\n",
      "243\n",
      "244\n",
      "245\n",
      "246\n",
      "247\n",
      "248\n",
      "249\n",
      "250\n",
      "251\n",
      "252\n",
      "253\n",
      "254\n",
      "255\n",
      "256\n",
      "257\n",
      "258\n",
      "259\n",
      "260\n",
      "261\n",
      "262\n",
      "263\n",
      "264\n",
      "265\n",
      "266\n",
      "267\n",
      "268\n",
      "269\n",
      "270\n",
      "271\n",
      "272\n",
      "273\n",
      "274\n",
      "275\n",
      "276\n",
      "277\n",
      "278\n",
      "279\n",
      "280\n",
      "281\n",
      "282\n",
      "283\n",
      "284\n",
      "285\n",
      "286\n",
      "287\n",
      "288\n",
      "289\n",
      "290\n",
      "291\n",
      "292\n",
      "293\n",
      "294\n",
      "295\n",
      "296\n",
      "297\n",
      "298\n",
      "299\n",
      "300\n",
      "301\n",
      "302\n",
      "303\n",
      "304\n",
      "305\n",
      "306\n",
      "307\n",
      "308\n",
      "309\n",
      "310\n",
      "311\n",
      "312\n",
      "313\n",
      "314\n",
      "315\n",
      "316\n",
      "317\n",
      "318\n",
      "319\n",
      "320\n",
      "321\n",
      "322\n",
      "323\n",
      "324\n",
      "325\n",
      "326\n",
      "327\n",
      "328\n",
      "329\n",
      "330\n",
      "331\n",
      "332\n",
      "333\n",
      "334\n",
      "335\n",
      "336\n",
      "337\n",
      "338\n",
      "339\n",
      "340\n",
      "341\n",
      "342\n",
      "343\n",
      "344\n",
      "345\n",
      "346\n",
      "347\n",
      "348\n",
      "349\n",
      "350\n",
      "351\n",
      "352\n",
      "353\n",
      "354\n",
      "355\n",
      "356\n",
      "357\n",
      "358\n",
      "359\n",
      "360\n",
      "361\n",
      "362\n",
      "363\n",
      "364\n",
      "365\n",
      "366\n",
      "367\n",
      "368\n",
      "369\n",
      "370\n",
      "371\n",
      "372\n",
      "373\n",
      "374\n",
      "375\n",
      "376\n",
      "377\n",
      "378\n",
      "379\n",
      "380\n",
      "381\n",
      "382\n",
      "383\n",
      "384\n",
      "385\n",
      "386\n",
      "387\n",
      "388\n",
      "389\n",
      "390\n",
      "391\n",
      "392\n",
      "393\n",
      "394\n",
      "395\n",
      "396\n",
      "397\n",
      "398\n",
      "399\n",
      "400\n",
      "401\n",
      "402\n",
      "403\n",
      "404\n",
      "405\n",
      "406\n",
      "407\n",
      "408\n",
      "409\n",
      "410\n",
      "411\n",
      "412\n",
      "413\n",
      "414\n",
      "415\n",
      "416\n",
      "417\n",
      "418\n",
      "419\n",
      "420\n",
      "421\n",
      "422\n",
      "423\n",
      "424\n",
      "425\n",
      "426\n",
      "427\n",
      "428\n",
      "429\n",
      "430\n",
      "431\n",
      "432\n",
      "433\n",
      "434\n",
      "435\n",
      "436\n",
      "437\n",
      "438\n",
      "439\n",
      "440\n",
      "441\n",
      "442\n",
      "443\n",
      "444\n",
      "445\n",
      "446\n",
      "447\n",
      "448\n",
      "449\n",
      "450\n",
      "451\n",
      "452\n",
      "453\n",
      "454\n",
      "455\n",
      "456\n",
      "457\n",
      "458\n",
      "459\n",
      "460\n",
      "461\n",
      "462\n",
      "463\n",
      "464\n",
      "465\n",
      "466\n",
      "467\n",
      "468\n",
      "469\n",
      "470\n",
      "471\n",
      "472\n",
      "473\n",
      "474\n",
      "475\n",
      "476\n",
      "477\n",
      "478\n",
      "479\n",
      "480\n",
      "481\n",
      "482\n",
      "483\n",
      "484\n",
      "485\n",
      "486\n",
      "487\n",
      "488\n",
      "489\n",
      "490\n",
      "491\n",
      "492\n",
      "493\n",
      "494\n",
      "495\n",
      "496\n",
      "497\n",
      "498\n",
      "499\n",
      "500\n",
      "501\n",
      "502\n",
      "503\n",
      "504\n",
      "505\n",
      "506\n",
      "507\n",
      "508\n",
      "509\n",
      "510\n",
      "511\n",
      "512\n",
      "513\n",
      "514\n",
      "515\n",
      "516\n",
      "517\n",
      "518\n",
      "519\n",
      "520\n",
      "521\n",
      "522\n",
      "523\n",
      "524\n",
      "525\n",
      "526\n",
      "527\n",
      "528\n",
      "529\n",
      "530\n",
      "531\n",
      "532\n",
      "533\n",
      "534\n",
      "535\n",
      "536\n",
      "537\n",
      "538\n",
      "539\n",
      "540\n",
      "541\n",
      "542\n",
      "543\n",
      "544\n",
      "545\n",
      "546\n",
      "547\n",
      "548\n",
      "549\n",
      "550\n",
      "551\n",
      "552\n",
      "553\n",
      "554\n",
      "555\n",
      "556\n",
      "557\n",
      "558\n",
      "559\n",
      "560\n",
      "561\n",
      "562\n",
      "563\n",
      "564\n",
      "565\n",
      "566\n",
      "567\n",
      "568\n",
      "569\n",
      "570\n",
      "571\n",
      "572\n",
      "573\n",
      "574\n",
      "575\n",
      "576\n",
      "577\n",
      "578\n",
      "579\n",
      "580\n",
      "581\n",
      "582\n",
      "583\n",
      "584\n",
      "585\n",
      "586\n",
      "587\n",
      "588\n",
      "589\n",
      "590\n",
      "591\n",
      "592\n",
      "593\n",
      "594\n",
      "595\n",
      "596\n",
      "597\n",
      "598\n",
      "599\n",
      "600\n",
      "601\n",
      "602\n",
      "603\n",
      "604\n",
      "605\n",
      "606\n",
      "607\n",
      "608\n",
      "609\n",
      "610\n",
      "611\n",
      "612\n",
      "613\n",
      "614\n",
      "615\n",
      "616\n",
      "617\n",
      "618\n",
      "619\n",
      "620\n",
      "621\n",
      "622\n",
      "623\n",
      "624\n",
      "625\n",
      "626\n",
      "627\n",
      "628\n",
      "629\n",
      "630\n",
      "631\n",
      "632\n",
      "633\n",
      "634\n",
      "635\n",
      "636\n",
      "637\n",
      "638\n",
      "639\n",
      "640\n",
      "641\n",
      "642\n",
      "643\n",
      "644\n",
      "645\n",
      "646\n",
      "647\n",
      "648\n",
      "649\n",
      "650\n",
      "651\n",
      "652\n",
      "653\n",
      "654\n",
      "655\n",
      "656\n",
      "657\n",
      "658\n",
      "659\n",
      "660\n",
      "661\n",
      "662\n",
      "663\n",
      "664\n",
      "665\n",
      "666\n",
      "667\n",
      "668\n",
      "669\n",
      "670\n",
      "671\n",
      "672\n",
      "673\n",
      "674\n",
      "675\n",
      "676\n",
      "677\n",
      "678\n",
      "679\n",
      "680\n",
      "681\n",
      "682\n",
      "683\n",
      "684\n",
      "685\n",
      "686\n",
      "687\n",
      "688\n",
      "689\n",
      "690\n",
      "691\n",
      "692\n",
      "693\n",
      "694\n",
      "695\n",
      "696\n",
      "697\n",
      "698\n",
      "699\n",
      "700\n",
      "701\n",
      "702\n",
      "703\n",
      "704\n",
      "705\n",
      "706\n",
      "707\n",
      "708\n",
      "709\n",
      "710\n",
      "711\n",
      "712\n",
      "713\n",
      "714\n",
      "715\n",
      "716\n",
      "717\n",
      "718\n",
      "719\n",
      "720\n",
      "721\n",
      "722\n",
      "723\n",
      "724\n",
      "725\n",
      "726\n",
      "727\n",
      "728\n",
      "729\n",
      "730\n",
      "731\n",
      "732\n",
      "733\n",
      "734\n",
      "735\n",
      "736\n",
      "737\n",
      "738\n",
      "739\n",
      "740\n",
      "741\n",
      "742\n",
      "743\n",
      "744\n",
      "745\n",
      "746\n",
      "747\n",
      "748\n",
      "749\n",
      "750\n",
      "751\n",
      "752\n",
      "753\n",
      "754\n",
      "755\n",
      "756\n",
      "757\n",
      "758\n",
      "759\n",
      "760\n",
      "761\n",
      "762\n",
      "763\n",
      "764\n",
      "765\n",
      "766\n",
      "767\n",
      "768\n",
      "769\n",
      "770\n",
      "771\n",
      "772\n",
      "773\n",
      "774\n",
      "775\n",
      "776\n",
      "777\n",
      "778\n",
      "779\n",
      "780\n",
      "781\n",
      "782\n",
      "783\n",
      "784\n",
      "785\n",
      "786\n",
      "787\n",
      "788\n",
      "789\n",
      "790\n",
      "791\n",
      "792\n",
      "793\n",
      "794\n",
      "795\n",
      "796\n",
      "797\n",
      "798\n",
      "799\n",
      "800\n",
      "801\n",
      "802\n",
      "803\n",
      "804\n",
      "805\n",
      "806\n",
      "807\n",
      "808\n",
      "809\n",
      "810\n",
      "811\n",
      "812\n",
      "813\n",
      "814\n",
      "815\n",
      "816\n",
      "817\n",
      "818\n",
      "819\n",
      "820\n",
      "821\n",
      "822\n",
      "823\n",
      "824\n",
      "825\n",
      "826\n",
      "827\n",
      "828\n",
      "829\n",
      "830\n",
      "831\n",
      "832\n",
      "833\n",
      "834\n",
      "835\n",
      "836\n",
      "837\n",
      "838\n",
      "839\n",
      "840\n",
      "841\n",
      "842\n",
      "843\n",
      "844\n",
      "845\n",
      "846\n",
      "847\n",
      "848\n",
      "849\n",
      "850\n",
      "851\n",
      "852\n",
      "853\n",
      "854\n",
      "855\n",
      "856\n",
      "857\n",
      "858\n",
      "859\n",
      "860\n",
      "861\n",
      "862\n",
      "863\n",
      "864\n",
      "865\n",
      "866\n",
      "867\n",
      "868\n",
      "869\n",
      "870\n",
      "871\n",
      "872\n",
      "873\n",
      "874\n",
      "875\n",
      "876\n",
      "877\n",
      "878\n",
      "879\n",
      "880\n",
      "881\n",
      "882\n",
      "883\n",
      "884\n",
      "885\n",
      "886\n",
      "887\n",
      "888\n",
      "889\n",
      "890\n",
      "891\n",
      "892\n",
      "893\n",
      "894\n",
      "895\n",
      "896\n",
      "897\n",
      "898\n",
      "899\n",
      "900\n",
      "901\n",
      "902\n",
      "903\n",
      "904\n",
      "905\n",
      "906\n",
      "907\n",
      "908\n",
      "909\n",
      "910\n",
      "911\n",
      "912\n",
      "913\n",
      "914\n",
      "915\n",
      "916\n",
      "917\n",
      "918\n",
      "919\n",
      "920\n",
      "921\n",
      "922\n",
      "923\n",
      "924\n",
      "925\n",
      "926\n",
      "927\n",
      "928\n",
      "929\n",
      "930\n",
      "931\n",
      "932\n",
      "933\n",
      "934\n",
      "935\n",
      "936\n",
      "937\n",
      "938\n",
      "939\n",
      "940\n",
      "941\n",
      "942\n",
      "943\n",
      "944\n",
      "945\n",
      "946\n",
      "947\n",
      "948\n",
      "949\n",
      "950\n",
      "951\n",
      "952\n",
      "953\n",
      "954\n",
      "955\n",
      "956\n",
      "957\n",
      "958\n",
      "959\n",
      "960\n",
      "961\n",
      "962\n",
      "963\n",
      "964\n",
      "965\n",
      "966\n",
      "967\n",
      "968\n",
      "969\n",
      "970\n",
      "971\n",
      "972\n",
      "973\n",
      "974\n",
      "975\n",
      "976\n",
      "977\n",
      "978\n",
      "979\n",
      "980\n",
      "981\n",
      "982\n",
      "983\n",
      "984\n",
      "985\n",
      "986\n",
      "987\n",
      "988\n",
      "989\n",
      "990\n",
      "991\n",
      "992\n",
      "993\n",
      "994\n",
      "995\n",
      "996\n",
      "997\n",
      "998\n",
      "999\n",
      "1000\n"
     ]
    }
   ],
   "source": [
    "#Crie um programa para solicitar um número para o usuário, crie uma variável\n",
    "#contador = 1, utilize a estrutura while para contar até que o contador seja menor\n",
    "#ou igual a numero, print contador, \n",
    "#incrimente contador em +1\n",
    "\n",
    "contador = 1\n",
    "\n",
    "numero = int(input('Digite um número:'))\n",
    "\n",
    "while contador <= numero:\n",
    "    print(contador)\n",
    "    contador += 1\n",
    "\n",
    "    \n",
    "\n",
    "\n",
    "\n"
   ]
  },
  {
   "cell_type": "code",
   "execution_count": 8,
   "metadata": {},
   "outputs": [
    {
     "name": "stdout",
     "output_type": "stream",
     "text": [
      "0\n",
      "1\n",
      "2\n",
      "3\n",
      "4\n",
      "5\n",
      "6\n",
      "7\n",
      "8\n",
      "9\n",
      "10\n"
     ]
    }
   ],
   "source": [
    "#Crie um programa pra contar de 0 té 10, depois crie um programa para contagem\n",
    "#decrescente.\n",
    "\n",
    "contador = 0\n",
    "\n",
    "while contador <= 10:\n",
    "    print(contador)\n",
    "    contador += 1\n"
   ]
  },
  {
   "cell_type": "code",
   "execution_count": 10,
   "metadata": {},
   "outputs": [
    {
     "name": "stdout",
     "output_type": "stream",
     "text": [
      "10\n",
      "9\n",
      "8\n",
      "7\n",
      "6\n",
      "5\n",
      "4\n",
      "3\n",
      "2\n",
      "1\n",
      "0\n"
     ]
    }
   ],
   "source": [
    "contador = 10\n",
    "\n",
    "while contador >= 0:\n",
    "    print(contador)\n",
    "    contador -= 1\n"
   ]
  }
 ],
 "metadata": {
  "kernelspec": {
   "display_name": "Python 3",
   "language": "python",
   "name": "python3"
  },
  "language_info": {
   "codemirror_mode": {
    "name": "ipython",
    "version": 3
   },
   "file_extension": ".py",
   "mimetype": "text/x-python",
   "name": "python",
   "nbconvert_exporter": "python",
   "pygments_lexer": "ipython3",
   "version": "3.11.4"
  },
  "orig_nbformat": 4
 },
 "nbformat": 4,
 "nbformat_minor": 2
}

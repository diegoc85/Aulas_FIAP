{
 "cells": [
  {
   "attachments": {},
   "cell_type": "markdown",
   "metadata": {},
   "source": [
    "# Exercício 01 = cálculo da área de um círculo"
   ]
  },
  {
   "cell_type": "code",
   "execution_count": 10,
   "metadata": {},
   "outputs": [
    {
     "name": "stdout",
     "output_type": "stream",
     "text": [
      "A área do círculo é:314.16\n"
     ]
    }
   ],
   "source": [
    "# Estrutura de entrada\n",
    "raio = float(input('Digite o valor do raio:'))\n",
    "real = 3.14159\n",
    "\n",
    "area_circulo = real * (raio**2)\n",
    "\n",
    "#Estrutura de saída\n",
    "print('A área do círculo é:{:.2f}'.format(area_circulo))\n"
   ]
  },
  {
   "cell_type": "code",
   "execution_count": 16,
   "metadata": {},
   "outputs": [
    {
     "name": "stdout",
     "output_type": "stream",
     "text": [
      "fiap\n"
     ]
    }
   ],
   "source": [
    "var1 = 'f'\n",
    "var2 = 'i'\n",
    "var3 = 'a'\n",
    "var4 = 'p'\n",
    "var_total = var1 + var2 + var3 + var4 # + é concatenar, juntar\n",
    "print(var_total)"
   ]
  },
  {
   "cell_type": "code",
   "execution_count": 17,
   "metadata": {},
   "outputs": [
    {
     "name": "stdout",
     "output_type": "stream",
     "text": [
      "O valor da equação é: 30\n"
     ]
    }
   ],
   "source": [
    "x = int(input('Digite um valor:'))\n",
    "equacao = 2 * x + 10\n",
    "print('O valor da equação é:', equacao)\n"
   ]
  },
  {
   "cell_type": "code",
   "execution_count": 19,
   "metadata": {},
   "outputs": [
    {
     "name": "stdout",
     "output_type": "stream",
     "text": [
      "O resultado da equação é: 245\n"
     ]
    }
   ],
   "source": [
    "xis = int(input('Digite um valor:'))\n",
    "resultado = 25 * xis - 5\n",
    "\n",
    "print('O resultado da equação é:', resultado)"
   ]
  },
  {
   "cell_type": "code",
   "execution_count": 1,
   "metadata": {},
   "outputs": [
    {
     "name": "stdout",
     "output_type": "stream",
     "text": [
      "O resultado da equação é: 4050\n"
     ]
    }
   ],
   "source": [
    "valor = int(input('Digite um valor:'))\n",
    "resultado = (10 * valor**2) + (2 * valor) + 10\n",
    "\n",
    "print('O resultado da equação é:', resultado)"
   ]
  },
  {
   "cell_type": "code",
   "execution_count": 2,
   "metadata": {},
   "outputs": [
    {
     "name": "stdout",
     "output_type": "stream",
     "text": [
      "O valor em milimetros é: 25000.0\n"
     ]
    }
   ],
   "source": [
    "# Variaveis de entrada - Ex. 1\n",
    "\n",
    "metro = float(input(\"insira um valor um metros:\"))\n",
    "milimetros = metro * 1000\n",
    "\n",
    "print(\"O valor em milimetros é:\", milimetros )\n"
   ]
  },
  {
   "cell_type": "code",
   "execution_count": 5,
   "metadata": {},
   "outputs": [
    {
     "name": "stdout",
     "output_type": "stream",
     "text": [
      "O valor total em segundos é: 86.4\n"
     ]
    }
   ],
   "source": [
    "# Variáveis de entrada - Ex. 2\n",
    "\n",
    "dias = int(input('Digite o número de dias:'))\n",
    "horas = int(input('Digite o número de horas:'))\n",
    "minutos = int(input('Digite o número de minutos:'))\n",
    "segundos = int(input('Digite o número de segundos:'))\n",
    "\n",
    "dias_total = dias * 86.400\n",
    "horas_total = horas * 3.600\n",
    "minutos_total = minutos * 60\n",
    "\n",
    "total = dias_total + horas_total + minutos_total + segundos\n",
    "\n",
    "print('O valor total em segundos é:', total)\n"
   ]
  },
  {
   "cell_type": "code",
   "execution_count": 7,
   "metadata": {},
   "outputs": [
    {
     "name": "stdout",
     "output_type": "stream",
     "text": [
      "O valor do desconto é: 10.0\n",
      "O valor da mercadoria com desconto é de R$: 90.0\n"
     ]
    }
   ],
   "source": [
    "# Ex. 3\n",
    "\n",
    "preco_mercadoria = float(input('Digite o preço da mercadoria:'))\n",
    "desconto = float(input('Digite o desconto:'))\n",
    "\n",
    "valor_real_desc = (preco_mercadoria * desconto)/100\n",
    "preco_final = preco_mercadoria - (preco_mercadoria * desconto)/100\n",
    "\n",
    "print(\"O valor do desconto é:\", valor_real_desc)\n",
    "print('O valor da mercadoria com desconto é de R$:', preco_final)"
   ]
  },
  {
   "cell_type": "code",
   "execution_count": 9,
   "metadata": {},
   "outputs": [
    {
     "name": "stdout",
     "output_type": "stream",
     "text": [
      "O tempo da viagem será de: 1.6666666666666667\n"
     ]
    }
   ],
   "source": [
    "# Ex. 4\n",
    "\n",
    "distancia = float(input('Digite a distância:'))\n",
    "velocidade_media = float(input('Digite a velocidade media:'))\n",
    "tempo = distancia / velocidade_media\n",
    "\n",
    "print('O tempo da viagem será de:', tempo, 'horas')\n",
    "\n"
   ]
  },
  {
   "cell_type": "code",
   "execution_count": 23,
   "metadata": {},
   "outputs": [
    {
     "name": "stdout",
     "output_type": "stream",
     "text": [
      "Como gostaria de calcular a potencia?\n",
      " a) V x I\n",
      " b) R x I\n",
      " c) V x R\n",
      " - Digite a letra:\n",
      "A potência é: 10000.0\n"
     ]
    }
   ],
   "source": [
    "#Ex. 5\n",
    "\n",
    "print('Como gostaria de calcular a potencia?\\n a) V x I\\n b) R x I\\n c) V x R\\n - Digite a letra:')\n",
    "opcao = input()\n",
    "\n",
    "if opcao == 'a':\n",
    "    v = float (input('Digite a tensão(v):'))\n",
    "    i = float(input('Digite a corrente(i):'))\n",
    "    p = v * i\n",
    "    print('A potência é:', p)\n",
    "\n",
    "elif opcao == 'b':\n",
    "    r = float(input('Digite a resistência(r):'))\n",
    "    i = float(input('Digite a corrente(i):'))\n",
    "    p = r * i * i \n",
    "    print(\"A potência é:\", p)\n",
    "\n",
    "else:\n",
    "    v = float (input('Digite a tensão(v):'))\n",
    "    r = float(input('Digite a resistência(r):'))\n",
    "    p = (v**2 )/ r\n",
    "    print('A potência é:', p)\n",
    "\n",
    "\n",
    "    \n",
    "\n",
    "\n",
    " \n",
    "\n"
   ]
  },
  {
   "attachments": {},
   "cell_type": "markdown",
   "metadata": {},
   "source": [
    "1)\n",
    "\n",
    "1. Início\n",
    "2. Insira m\n",
    "3. Leia m\n",
    "4. milimetro = m * 1000\n",
    "5. Exibe milimetro\n",
    "6. Fim\n",
    "\n",
    "2)\n",
    "\n",
    "1. Início \n",
    "2. Insira dias, horas, minutos e segundos\n",
    "3. Leia dias, horas, minutos e segundos\n",
    "4. segundos = dias + horas + minutos + segundos\n",
    "5. Exibe segundos\n",
    "6. Fim\n",
    "\n",
    "1 dia = 24h = 86.400s\n",
    "1h = 60 min = 3.600s\n",
    "1 min = 60s\n",
    "\n",
    "\n",
    "3)\n",
    "\n",
    "quantidade_km = 300\n",
    "quantidade_dias = 3\n",
    "preco_pagar = quantidade_dias * 60 + quantidade_km * 0.15"
   ]
  },
  {
   "cell_type": "code",
   "execution_count": 19,
   "metadata": {},
   "outputs": [
    {
     "name": "stdout",
     "output_type": "stream",
     "text": [
      "O preço a pagar pelo uso do carro é de R$ 225.0\n"
     ]
    }
   ],
   "source": [
    "# Ex. 6\n",
    "\n",
    "quantidade_km = float(input('Digite a quantidade de km percorridos:'))\n",
    "quantidade_dias = float(input('Digite a quantidade de dias pelos quais o carro foi alugado:'))\n",
    "\n",
    "preco_pagar = quantidade_dias * 60 + quantidade_km * 0.15\n",
    "\n",
    "print('O preço a pagar pelo uso do carro é de R$', preco_pagar)"
   ]
  },
  {
   "attachments": {},
   "cell_type": "markdown",
   "metadata": {},
   "source": [
    "Aula 3 - 15/03"
   ]
  },
  {
   "cell_type": "code",
   "execution_count": null,
   "metadata": {},
   "outputs": [],
   "source": [
    "pip install sympy\n",
    "\n"
   ]
  },
  {
   "cell_type": "code",
   "execution_count": 10,
   "metadata": {},
   "outputs": [],
   "source": [
    "from sympy import*\n",
    "x = Symbol ('x')"
   ]
  },
  {
   "cell_type": "code",
   "execution_count": 15,
   "metadata": {},
   "outputs": [
    {
     "data": {
      "text/latex": [
       "$\\displaystyle 3 x^{2} + 10 x + 10$"
      ],
      "text/plain": [
       "3*x**2 + 10*x + 10"
      ]
     },
     "execution_count": 15,
     "metadata": {},
     "output_type": "execute_result"
    }
   ],
   "source": [
    "x**2 +  10*x + 10\n",
    "Derivative(x**2)\n",
    "Integral(x**2)\n",
    "3*x**2 + 10*x + 10"
   ]
  },
  {
   "cell_type": "code",
   "execution_count": 16,
   "metadata": {},
   "outputs": [
    {
     "data": {
      "text/latex": [
       "$\\displaystyle 2 x$"
      ],
      "text/plain": [
       "2*x"
      ]
     },
     "execution_count": 16,
     "metadata": {},
     "output_type": "execute_result"
    }
   ],
   "source": [
    "Derivative(x**2).doit()"
   ]
  },
  {
   "cell_type": "code",
   "execution_count": 17,
   "metadata": {},
   "outputs": [
    {
     "data": {
      "text/latex": [
       "$\\displaystyle \\frac{x^{3}}{3}$"
      ],
      "text/plain": [
       "x**3/3"
      ]
     },
     "execution_count": 17,
     "metadata": {},
     "output_type": "execute_result"
    }
   ],
   "source": [
    "Integral(x**2).doit()"
   ]
  },
  {
   "cell_type": "code",
   "execution_count": 18,
   "metadata": {},
   "outputs": [],
   "source": [
    "from sympy.plotting import *"
   ]
  },
  {
   "cell_type": "code",
   "execution_count": 19,
   "metadata": {},
   "outputs": [
    {
     "name": "stdout",
     "output_type": "stream",
     "text": [
      "    100 |\\                                                     /\n",
      "        | .                                                   . \n",
      "        |                                                       \n",
      "        |  .                                                 .  \n",
      "        |   \\                                               /   \n",
      "        |    .                                             .    \n",
      "        |                                                       \n",
      "        |     .                                           .     \n",
      "        |      \\                                         /      \n",
      "        |       \\                                       /       \n",
      "     50 |--------\\-------------------------------------/--------\n",
      "        |         \\                                   /         \n",
      "        |          \\                                 /          \n",
      "        |           \\                               /           \n",
      "        |            \\                             /            \n",
      "        |             ..                         ..             \n",
      "        |               \\                       /               \n",
      "        |                ..                   ..                \n",
      "        |                  ..               ..                  \n",
      "        |                    ...         ...                    \n",
      "      0 |_______________________________________________________\n",
      "         -10                        0                          10\n"
     ]
    },
    {
     "data": {
      "text/plain": [
       "<sympy.plotting.plot.Plot at 0x2817332cfd0>"
      ]
     },
     "execution_count": 19,
     "metadata": {},
     "output_type": "execute_result"
    }
   ],
   "source": [
    "plot(x**2)"
   ]
  },
  {
   "cell_type": "code",
   "execution_count": 20,
   "metadata": {},
   "outputs": [
    {
     "name": "stdout",
     "output_type": "stream",
     "text": [
      "   1000 |                                                      /\n",
      "        |                                                     / \n",
      "        |                                                    /  \n",
      "        |                                                   /   \n",
      "        |                                                  /    \n",
      "        |                                                ..     \n",
      "        |                                               /       \n",
      "        |                                             ..        \n",
      "        |                                          ...          \n",
      "        |                                     .....             \n",
      "      0 |------------------...................------------------\n",
      "        |             .....                                     \n",
      "        |          ...                                          \n",
      "        |        ..                                             \n",
      "        |       /                                               \n",
      "        |     ..                                                \n",
      "        |    /                                                  \n",
      "        |   /                                                   \n",
      "        |  /                                                    \n",
      "        | /                                                     \n",
      "  -1000 |_______________________________________________________\n",
      "         -10                        0                          10\n"
     ]
    },
    {
     "data": {
      "text/plain": [
       "<sympy.plotting.plot.Plot at 0x28173b1d310>"
      ]
     },
     "execution_count": 20,
     "metadata": {},
     "output_type": "execute_result"
    }
   ],
   "source": [
    "plot(x**3)"
   ]
  },
  {
   "cell_type": "code",
   "execution_count": 21,
   "metadata": {},
   "outputs": [
    {
     "data": {
      "text/plain": [
       "'n Python'"
      ]
     },
     "execution_count": 21,
     "metadata": {},
     "output_type": "execute_result"
    }
   ],
   "source": [
    "s = \"Let´s learn Python\"\n",
    "s[10:]"
   ]
  },
  {
   "cell_type": "code",
   "execution_count": 22,
   "metadata": {},
   "outputs": [
    {
     "data": {
      "text/plain": [
       "'Python'"
      ]
     },
     "execution_count": 22,
     "metadata": {},
     "output_type": "execute_result"
    }
   ],
   "source": [
    "s = 'Pytho'\n",
    "s + 'n'"
   ]
  },
  {
   "cell_type": "code",
   "execution_count": 24,
   "metadata": {},
   "outputs": [
    {
     "data": {
      "text/plain": [
       "'Python é impressionante'"
      ]
     },
     "execution_count": 24,
     "metadata": {},
     "output_type": "execute_result"
    }
   ],
   "source": [
    "s = \"Python\"\n",
    "s + \" é \" + \"impressionante\""
   ]
  },
  {
   "cell_type": "code",
   "execution_count": 29,
   "metadata": {},
   "outputs": [
    {
     "name": "stdout",
     "output_type": "stream",
     "text": [
      "Meu nome é  Diego Cabral , tenho 38 anos  e moro na cidade de  São Paulo .\n"
     ]
    }
   ],
   "source": [
    "nome = input('Digite seu nome:')\n",
    "idade = int(input('Digite sua idade:'))\n",
    "cidade = input('Digite sua cidade:')\n",
    "\n",
    "print(\"Meu nome é \", nome, \", tenho\", idade, \"anos\", \"e moro na cidade de \", cidade, \".\")\n"
   ]
  },
  {
   "cell_type": "code",
   "execution_count": 31,
   "metadata": {},
   "outputs": [
    {
     "data": {
      "text/plain": [
       "'Meu nome é Mark, tenho 30 anos e moro na cidade de NY'"
      ]
     },
     "execution_count": 31,
     "metadata": {},
     "output_type": "execute_result"
    }
   ],
   "source": [
    "\"Meu nome é %s, tenho %d anos e moro na cidade de %s\" %('Mark', 30, \"NY\")"
   ]
  },
  {
   "cell_type": "code",
   "execution_count": 33,
   "metadata": {},
   "outputs": [
    {
     "name": "stdout",
     "output_type": "stream",
     "text": [
      "Meu nome é Diego Cabral, tenho 38 anos e moro na cidade de São Paulo.\n"
     ]
    }
   ],
   "source": [
    "print(\"Meu nome é %s, tenho %d anos e moro na cidade de %s.\" %(nome,idade,cidade))"
   ]
  },
  {
   "cell_type": "code",
   "execution_count": 39,
   "metadata": {},
   "outputs": [
    {
     "data": {
      "text/plain": [
       "'João tem 022 anos e R$51.34 no bolso.'"
      ]
     },
     "execution_count": 39,
     "metadata": {},
     "output_type": "execute_result"
    }
   ],
   "source": [
    "nome = \"João\"\n",
    "grana = 51.34\n",
    "idade = 22\n",
    "\n",
    "\n",
    "\"%s tem %03d anos e R$%5.2f no bolso.\" %(nome, idade, grana)"
   ]
  },
  {
   "cell_type": "code",
   "execution_count": 40,
   "metadata": {},
   "outputs": [
    {
     "name": "stdout",
     "output_type": "stream",
     "text": [
      "Diego tem 20 anos e 51.34 no bolso\n"
     ]
    }
   ],
   "source": [
    "nome = 'Diego'\n",
    "idade = 20\n",
    "grana = 51.34\n",
    "print(f\"{nome} tem {idade} anos e {grana} no bolso.\")"
   ]
  },
  {
   "cell_type": "code",
   "execution_count": 41,
   "metadata": {},
   "outputs": [
    {
     "name": "stdout",
     "output_type": "stream",
     "text": [
      "t\n"
     ]
    }
   ],
   "source": [
    "pal = \"Python\"\n",
    "char = pal[2]\n",
    "print(char)"
   ]
  },
  {
   "cell_type": "code",
   "execution_count": 42,
   "metadata": {},
   "outputs": [
    {
     "name": "stdout",
     "output_type": "stream",
     "text": [
      "bonono\n"
     ]
    }
   ],
   "source": [
    "fruta = 'banana'\n",
    "nova_fruta = fruta.replace('a', 'o')\n",
    "print(nova_fruta)\n"
   ]
  },
  {
   "cell_type": "code",
   "execution_count": 43,
   "metadata": {},
   "outputs": [
    {
     "data": {
      "text/plain": [
       "['apple', 'banana', 'orange']"
      ]
     },
     "execution_count": 43,
     "metadata": {},
     "output_type": "execute_result"
    }
   ],
   "source": [
    "frutas = 'apple,banana,orange'\n",
    "frutas.split(',')"
   ]
  },
  {
   "cell_type": "code",
   "execution_count": 44,
   "metadata": {},
   "outputs": [
    {
     "data": {
      "text/plain": [
       "'Python'"
      ]
     },
     "execution_count": 44,
     "metadata": {},
     "output_type": "execute_result"
    }
   ],
   "source": [
    "frase = '    Python     '\n",
    "frase.strip()"
   ]
  },
  {
   "cell_type": "code",
   "execution_count": 45,
   "metadata": {},
   "outputs": [
    {
     "data": {
      "text/plain": [
       "'Python'"
      ]
     },
     "execution_count": 45,
     "metadata": {},
     "output_type": "execute_result"
    }
   ],
   "source": [
    "frase2 = '//// Python'\n",
    "frase2.strip('/ ')"
   ]
  },
  {
   "cell_type": "code",
   "execution_count": 51,
   "metadata": {},
   "outputs": [
    {
     "name": "stdout",
     "output_type": "stream",
     "text": [
      "Seu nome é Diego José Cabral\n"
     ]
    }
   ],
   "source": [
    "nome = input('Digite seu nome:')\n",
    "segundo_nome = input('Digite seu segundo nome:')\n",
    "terceiro_nome = input('Digite seu terceiro nome:')\n",
    "\n",
    "print(f\"Seu nome é {nome.capitalize()} {segundo_nome.capitalize()} {terceiro_nome.capitalize()}\")"
   ]
  },
  {
   "cell_type": "code",
   "execution_count": 66,
   "metadata": {},
   "outputs": [
    {
     "name": "stdout",
     "output_type": "stream",
     "text": [
      "Joao Da Silva\n"
     ]
    }
   ],
   "source": [
    "nome = input('Digite seu nome:')\n",
    "segundo_nome = input('Digite seu segundo nome:')\n",
    "terceiro_nome = input('Digite seu terceiro nome:')\n",
    "cpf = int(input('Digite os 11 dígitos do seu CPF:'))\n",
    "cidade = input('Digite sua cidade:')\n",
    "\n",
    "print(nome[0].upper() + nome[1:] + ' ' + segundo_nome[0].upper() + segundo_nome[1:] + ' ' + terceiro_nome[0].upper() + terceiro_nome[1:])\n",
    "print('Seu CPF é:', cpf)\n",
    "\n",
    "\n",
    "\n",
    "\n"
   ]
  },
  {
   "attachments": {},
   "cell_type": "markdown",
   "metadata": {},
   "source": [
    "Crie uma estrutura com 5 inputs, solicitando primeiro, seguno e terceiro nome, deixando a primeira letra de cada nome maiúsculo. Depois cria duas variáveis solicitando o CPF e a sua cidade. "
   ]
  },
  {
   "cell_type": "code",
   "execution_count": 79,
   "metadata": {},
   "outputs": [
    {
     "name": "stdout",
     "output_type": "stream",
     "text": [
      "Rio De\n"
     ]
    }
   ],
   "source": [
    "\n",
    "cidade = input('Digite sua cidade:')\n",
    "if ' ' in cidade:\n",
    "    nova_cidade = cidade.split(' ')\n",
    "    nova_cidade[0][0].upper() + nova_cidade[0][1:]\n",
    "    nova_cidade[1][0].upper() + nova_cidade[1][1:]\n",
    "    print(nova_cidade[0][0].upper() + nova_cidade[0][1:] + ' ' + nova_cidade[1][0].upper() + nova_cidade[1][1:] )\n",
    "else:\n",
    "    print(cidade[0].upper() + cidade[1:])\n"
   ]
  },
  {
   "attachments": {},
   "cell_type": "markdown",
   "metadata": {},
   "source": [
    "AULA 04 - CONDICIONAIS - 22/03 "
   ]
  },
  {
   "cell_type": "code",
   "execution_count": null,
   "metadata": {},
   "outputs": [],
   "source": [
    "# Ex.1 \n",
    "n1 = 10\n",
    "n2 = 5\n",
    "n3 = 7\n",
    "\n",
    "media = (n1 + n2 + n3)/3\n",
    "\n",
    "if media >= 7:\n",
    "    print('Aprovado!', media)\n",
    "elif media >= 4 and media < 7:\n",
    "    print('Exame!')\n",
    "else:\n",
    "    print('Reprovado!')"
   ]
  },
  {
   "attachments": {},
   "cell_type": "markdown",
   "metadata": {},
   "source": [
    "1. Crie um algoritmo para calcular a média dentre 3 notas inseridas pelos usuário. Se a média for >= 7 aprovado, <7 ou <= 4, exame, <4 reprovado. Ou se o aluno tiver um artigo publicao, independente de nota, será aprovado. "
   ]
  },
  {
   "cell_type": "code",
   "execution_count": 18,
   "metadata": {},
   "outputs": [
    {
     "name": "stdout",
     "output_type": "stream",
     "text": [
      "Reprovado! 2.3333333333333335\n"
     ]
    }
   ],
   "source": [
    "artigo = input('Tem artigo publicado? S ou N')\n",
    "\n",
    "if artigo == 's' or artigo == 'S':\n",
    "    print('Aprovado!')\n",
    "else:\n",
    "    nota1 = float(input('Digite a primeira nota:'))\n",
    "    nota2 = float(input('Digite a segunda nota:'))\n",
    "    nota3 = float(input('Digite a terceira nota:'))\n",
    "\n",
    "    media = (nota1 + nota2 + nota3)/3\n",
    "\n",
    "    if media >= 7:\n",
    "        print('Aprovado!', media)\n",
    "    elif media >= 4 and media < 7:\n",
    "        print('Exame!', media)\n",
    "    else:\n",
    "        print('Reprovado!', media)\n",
    "\n",
    "\n",
    "\n"
   ]
  },
  {
   "attachments": {},
   "cell_type": "markdown",
   "metadata": {},
   "source": [
    "2. Escreva um programa que pergunte a velocidade do carro do usuário. Caso passe de 80 km/h, exiba uma mensagem dizendo que o usuário foi multado. Exibir a multa, cobrando R$ 5 a cada km/h acima do permitido. "
   ]
  },
  {
   "cell_type": "code",
   "execution_count": null,
   "metadata": {},
   "outputs": [],
   "source": [
    "velocidade = float(input('Digite a sua velocidade atual:'))\n",
    "multa = (velocidade - 80) * 5\n",
    "if velocidade > 80:\n",
    "    print('Você foi multado!', velocidade) #(velocidade - 80 * 5)\n",
    "    print('O valor da multa é de R$', multa)\n",
    "else:\n",
    "    print('Velocidade da via! Sem multa!')\n"
   ]
  },
  {
   "attachments": {},
   "cell_type": "markdown",
   "metadata": {},
   "source": [
    "3. Escreva um programa que peça ao usuário para digitar a idade e, em seguida, imprime uma mensagem indicando se a pessoa é uma crianca, adolescente, adulto ou idoso. "
   ]
  },
  {
   "cell_type": "code",
   "execution_count": 19,
   "metadata": {},
   "outputs": [
    {
     "name": "stdout",
     "output_type": "stream",
     "text": [
      "Adulto! 64\n"
     ]
    }
   ],
   "source": [
    "idade = int(input('Digite sua idade:'))\n",
    "\n",
    "if idade  < 12:\n",
    "    print('Você é uma criança!', idade)\n",
    "elif idade >= 12 and idade < 18:\n",
    "    print('Adolescente!', idade)\n",
    "elif 18 <= idade < 65:\n",
    "    print('Adulto!', idade)\n",
    "else:\n",
    "    print('Idoso!', idade)"
   ]
  },
  {
   "attachments": {},
   "cell_type": "markdown",
   "metadata": {},
   "source": [
    "4. Escreva um programa que verifica se um número é par ou ímpar. "
   ]
  },
  {
   "cell_type": "code",
   "execution_count": 22,
   "metadata": {},
   "outputs": [
    {
     "name": "stdout",
     "output_type": "stream",
     "text": [
      "O número é impar! 9\n"
     ]
    }
   ],
   "source": [
    "numero = int(input('Digite um número:'))\n",
    "if numero % 2 == 0:\n",
    "    print('O número é par', numero)\n",
    "else:\n",
    "    print('O número é impar!', numero)\n"
   ]
  },
  {
   "attachments": {},
   "cell_type": "markdown",
   "metadata": {},
   "source": [
    "5. Escreva um programa que compare entre 3 números qual é o maior. "
   ]
  },
  {
   "cell_type": "code",
   "execution_count": 25,
   "metadata": {},
   "outputs": [
    {
     "name": "stdout",
     "output_type": "stream",
     "text": [
      "2000\n"
     ]
    }
   ],
   "source": [
    "num1 = int(input('Digite o primeiro número:'))\n",
    "num2 = int(input('Digite o segundo número:'))\n",
    "num3 = int(input('Digite o terceiro número:'))\n",
    "maior = 0\n",
    "\n",
    "if num1 == num2 and num3 > num1 and num3 > num2:\n",
    "    print(maior, num3)\n",
    "elif num1 == num3 and num2 > num1 and num2 > num3:\n",
    "    print(maior, num2)\n",
    "    \n",
    "if num1 > num2:\n",
    "    if num1 > num3:\n",
    "        maior = num1\n",
    "        print(maior)\n",
    "    else:\n",
    "        maior = num3\n",
    "        print(maior)\n",
    "else:\n",
    "    if num2 > num3:\n",
    "        maior = num2\n",
    "        print(maior)\n",
    "    else:\n",
    "        maior = num3\n",
    "        print(maior)\n"
   ]
  },
  {
   "attachments": {},
   "cell_type": "markdown",
   "metadata": {},
   "source": [
    "6. Escreva um programa que mostre qual a sua cor favorita. Crie utilizando uma estrutura com números. "
   ]
  },
  {
   "cell_type": "code",
   "execution_count": null,
   "metadata": {},
   "outputs": [],
   "source": [
    "print('1. Azul')\n",
    "print('2. Vermelho')\n",
    "print('3. Amarelo')\n",
    "print('4. Preto')\n",
    "print('5. Branco')\n",
    "\n",
    "numero = int(input('Digite o número desejado:'))\n",
    "\n",
    "if numero == 1:\n",
    "    print('Azul')\n",
    "elif numero == 2:\n",
    "    print('Vermelho')\n",
    "elif numero == 3:\n",
    "    print('Amarelo')\n",
    "elif numero == 4:\n",
    "    print('Preto')\n",
    "else:\n",
    "    print('Branco')"
   ]
  },
  {
   "attachments": {},
   "cell_type": "markdown",
   "metadata": {},
   "source": [
    "7. Crie um programa para mostrar se o usuário deve pagar imposto em função da sua condição financeira (salário). \n",
    "salário < 2.000 - 10% de imposto sobre o salário\n",
    "2000 <= salario < 5000 - 20% de imposto sobre o salário \n",
    "5000 <= salario < 10.000 - 24% de imposto sobre o salário\n",
    "salario > 10000 - 30% de imposto sobre o salário"
   ]
  },
  {
   "cell_type": "code",
   "execution_count": 29,
   "metadata": {},
   "outputs": [
    {
     "name": "stdout",
     "output_type": "stream",
     "text": [
      "Imposto a pagar: 195.0\n",
      "Seu salário: 1755.0\n"
     ]
    }
   ],
   "source": [
    "salario = float(input('Digite seu salário:'))\n",
    "\n",
    "if salario < 2000:\n",
    "    salario_final = salario - (salario * 0.1)\n",
    "    imposto = (salario * 0.1)\n",
    "    print('Imposto a pagar:', imposto)\n",
    "    print('Seu salário:', salario_final)\n",
    "elif 2000 <= salario < 5000:\n",
    "    salario_final = salario - (salario * 0.2)\n",
    "    imposto = (salario * 0.2)\n",
    "    print('Imposto a pagar:', imposto)\n",
    "    print('Seu salário:', salario_final)\n",
    "elif 5000 <= salario < 10000:\n",
    "    salario_final = salario - (salario * 0.24)\n",
    "    imposto = (salario * 0.24)\n",
    "    print('Imposto a pagar:', imposto)\n",
    "    print('Seu salário:', salario_final)\n",
    "else:\n",
    "    salario_final = salario - (salario * 0.3)\n",
    "    imposto = (salario * 0.3)\n",
    "    print('Imposto a pagar:', imposto)\n",
    "    print('Seu salário:', salario_final)\n",
    "\n",
    "\n",
    "\n",
    "\n"
   ]
  },
  {
   "attachments": {},
   "cell_type": "markdown",
   "metadata": {},
   "source": [
    "8. Crie um programa para o usuário inserir o dia da semana e printar dia de balada caso seja sábado, caso seja domingo, deverá printar dia de netflix, futebol ou cinema. Caso seja dia da semana, print dia de estudar ou trabalhar. "
   ]
  },
  {
   "cell_type": "code",
   "execution_count": 34,
   "metadata": {},
   "outputs": [
    {
     "name": "stdout",
     "output_type": "stream",
     "text": [
      "Dia de trabalhar ou estudar!\n"
     ]
    }
   ],
   "source": [
    "dia_semana = str(input('Digite o dia da semana:'))\n",
    "\n",
    "if dia_semana == 'sábado' or dia_semana == 'sabado' or dia_semana == 'Sábado':\n",
    "    print('Dia de balada!')\n",
    "elif dia_semana == 'Domingo' or dia_semana == 'domingo':\n",
    "    print('Dia de Netflix, futebol ou cinema!')\n",
    "else:\n",
    "    print('Dia de trabalhar ou estudar!')"
   ]
  },
  {
   "attachments": {},
   "cell_type": "markdown",
   "metadata": {},
   "source": [
    "9. Crie um programa para verificar se uma pessoa pode ou não votar em função da sua idade e do título de eleitor. Caso a pessoa tenha 16 anos ou 17 anos , pergunte se ela quer votar, se sim, pergunte se tem título de eleitor, caso tenha, print permitido votar. Caso a pessoa tenha 16 ou 17 anos e não queira votar, print é seu direito. Caso tenha idade maior ou igual a 18 anos, obrigatório votar."
   ]
  },
  {
   "cell_type": "code",
   "execution_count": 53,
   "metadata": {},
   "outputs": [
    {
     "name": "stdout",
     "output_type": "stream",
     "text": [
      "Pense bem, é seu direito!\n"
     ]
    }
   ],
   "source": [
    "idade = int(input('Digite sua idade:'))\n",
    "\n",
    "if idade == 16 or idade == 17 or idade > 70:\n",
    "    votar = str(input(' Seu voto é facultativo. Quer votar mesmo assim? S ou N'))\n",
    "    if votar == 's' or votar == 'S':\n",
    "        titulo_eleitor = str(input('Tem título de eleitor? S ou N'))\n",
    "        if titulo_eleitor == 'S' or titulo_eleitor == 's': #upper\n",
    "            print('Pode votar!')\n",
    "        else:\n",
    "            print('Tire seu título de eleitor!')\n",
    "    else:\n",
    "        print('Pense bem, é seu direito!')\n",
    "\n",
    "elif idade < 16:\n",
    "    print('Você não pode votar ainda!')\n",
    "else:\n",
    "    print('Seu voto é obrigatório! Tire seu título de eleitor, caso não tenha!')\n"
   ]
  },
  {
   "cell_type": "code",
   "execution_count": null,
   "metadata": {},
   "outputs": [],
   "source": [
    "letra = str(input('Digite uma letra')).lower()\n",
    "palavra = str(input('Digite uma palavra:')).lower()\n",
    "\n",
    "if letra in palavra:\n",
    "    print(letra)\n",
    "else:\n",
    "    print('Não está na palavra')"
   ]
  },
  {
   "cell_type": "code",
   "execution_count": null,
   "metadata": {},
   "outputs": [],
   "source": [
    "lista = ['segunda', 'terça', 'quarta', 'quinta', 'sexta']\n",
    "\n",
    "dia = str(input('Digite o dia da semana:'))\n",
    "if dia in lista:\n",
    "    print('Dia está na lista!')"
   ]
  }
 ],
 "metadata": {
  "kernelspec": {
   "display_name": "Python 3",
   "language": "python",
   "name": "python3"
  },
  "language_info": {
   "codemirror_mode": {
    "name": "ipython",
    "version": 3
   },
   "file_extension": ".py",
   "mimetype": "text/x-python",
   "name": "python",
   "nbconvert_exporter": "python",
   "pygments_lexer": "ipython3",
   "version": "3.11.4"
  },
  "orig_nbformat": 4
 },
 "nbformat": 4,
 "nbformat_minor": 2
}

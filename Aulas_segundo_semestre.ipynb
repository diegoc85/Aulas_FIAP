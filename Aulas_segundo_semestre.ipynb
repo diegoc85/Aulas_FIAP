{
 "cells": [
  {
   "cell_type": "markdown",
   "metadata": {},
   "source": [
    "Aula 01 - 2 semestre - Revisão (09/08/2024)\n",
    "\n",
    "1. Crie um programa que solicite três notas para três alunos. Após isso, calcule a média de cada aluno e retorne a média global. Utilize a estrutura de entrada para o usuário. "
   ]
  },
  {
   "cell_type": "code",
   "execution_count": null,
   "metadata": {},
   "outputs": [],
   "source": [
    "aluno1 = []\n",
    "aluno2 = []\n",
    "aluno3 = []\n",
    "media_total = []\n",
    "soma_total = 0\n",
    "soma1 = 0\n",
    "soma2 = 0\n",
    "soma3 = 0\n",
    "media_final = 0\n",
    "\n",
    "for i in range(1,4):\n",
    "    notas1 = float(input(f'Digite a nota {i} do aluno 1:'))\n",
    "    aluno1.append(notas1)\n",
    "\n",
    "for i in range(1,4):\n",
    "    notas2 = float(input(f'Digite a nota {i} do aluno 2:'))\n",
    "    aluno2.append(notas2)\n",
    "for i in range(1,4):\n",
    "    notas3 = float(input(f'Digite a nota {i} do aluno 3:'))\n",
    "    aluno3.append(notas3)\n",
    "\n",
    "for l in aluno1:\n",
    "    soma1 = soma1 + l\n",
    "media1 = soma1/3\n",
    "media_total.append(media1)\n",
    "print(f'A média da notas do aluno 1 é {media1}')\n",
    "\n",
    "for l in aluno2:\n",
    "    soma2 = soma2 + l\n",
    "media2 = soma2/3\n",
    "media_total.append(media2)\n",
    "print(f\"A média das notas do aluno 2 é {media2}\")\n",
    "\n",
    "for l in aluno3:\n",
    "    soma3 = soma3 + l\n",
    "media3 = soma3/3\n",
    "media_total.append(media3)\n",
    "print(f\"A média das notas do aluno 3 é {media3}\")\n",
    "print()\n",
    "\n",
    "for m in media_total:\n",
    "    soma_total = soma_total + m\n",
    "\n",
    "media_final = (soma_total)/3\n",
    "print(f\"A média total das 3 médias é {media_final}\")\n",
    "\n",
    "\n",
    "\n",
    "\n"
   ]
  },
  {
   "cell_type": "code",
   "execution_count": null,
   "metadata": {},
   "outputs": [],
   "source": [
    "coberturas = ['pepperoni', 'tomate', 'queijo', 'cebola']\n",
    "\n",
    "for cobertura_requisita in coberturas:\n",
    "    if cobertura_requisita == 'tomate':\n",
    "        print('Desculpe, mas estamos sem tomate')\n",
    "    else:\n",
    "        print('Adicione cobertura')\n",
    "\n"
   ]
  },
  {
   "cell_type": "code",
   "execution_count": null,
   "metadata": {},
   "outputs": [],
   "source": [
    "ordem = ['first', 'second', 'third', 'fourth']\n",
    "titulo = ['king', 'queen', 'princess', 'duke']\n",
    "\n",
    "for i in ordem:\n",
    "    for k in titulo:\n",
    "        print(i,k)"
   ]
  },
  {
   "cell_type": "code",
   "execution_count": null,
   "metadata": {},
   "outputs": [],
   "source": [
    "#juntando 2 listas em uma. Primeiro elemento é a nota e o segundo a frequencia. \n",
    "# lista_n = [8,7,,7.5,9]\n",
    "#lista_f = [80,85,90,70]\n",
    "\n",
    "lista_nf = [(8,80), (7,85), (7.5, 90), (9,70)]\n",
    "lista_nf[3][0]"
   ]
  },
  {
   "cell_type": "markdown",
   "metadata": {},
   "source": [
    "2. Crie um programa para calcular o desconto no salário em função da tabela de imposto de renda abaixo. Retorne o desconto e o salário líquido. Resolva o exercício sem e com o recurso de lista. \n",
    "lista = (desconto,salario liquido)"
   ]
  },
  {
   "cell_type": "code",
   "execution_count": null,
   "metadata": {},
   "outputs": [],
   "source": [
    "salario = float(input('Digite seu salário:'))\n",
    "lista_desconto = [(2.112,0), (2826.66, 0.075), (3751.06, 0.15), (4664.68, 0.225), (float('inf'), 0.275)]\n",
    "\n",
    "for limite, taxa in lista_desconto:\n",
    "    if salario <= limite:\n",
    "        desconto = salario * taxa\n",
    "    break \n",
    "\n",
    "salario_liquido = salario - desconto \n",
    "print(f'O desconto é de {desconto} e o salário líquido é R$ {salario_liquido}')\n",
    "\n",
    "\n",
    "\n",
    "\n",
    "\n",
    "\n"
   ]
  },
  {
   "cell_type": "code",
   "execution_count": null,
   "metadata": {},
   "outputs": [],
   "source": [
    "salario = float(input('Digite seu salário:'))\n",
    "\n",
    "\n",
    "if salario <= 2.112:\n",
    "    desconto = 0\n",
    "    salario_liquido = salario - desconto\n",
    "    print(f'O salário líquido é R$ {salario_liquido} e o desconto é {desconto}')\n",
    " \n",
    "    \n",
    "elif salario > 2.112 and salario <= 2826.66:\n",
    "    desconto = salario * 0.075\n",
    "    salario_liquido = salario - desconto\n",
    "    print(f'O salário líquido é R$ {salario_liquido} e o desconto é {desconto}')\n",
    "\n",
    "elif salario > 2826.66 and salario <= 3751.06:\n",
    "    desconto = salario * 0.15\n",
    "    salario_liquido = salario - desconto\n",
    "    print(f'O salário líquido é R$ {salario_liquido} e o desconto é {desconto}')\n",
    "\n",
    "elif salario > 3751.06 and salario <= 4664.68:\n",
    "    desconto = salario * 0.225\n",
    "    salario_liquido = salario - desconto\n",
    "    print(f'O salário líquido é R$ {salario_liquido} e o desconto é {desconto}')\n",
    "\n",
    "else:\n",
    "    desconto = salario * 0.275\n",
    "    salario_liquido = salario - desconto\n",
    "    print(f'O salário líquido é R$ {salario_liquido} e o desconto é {desconto}')\n"
   ]
  },
  {
   "cell_type": "markdown",
   "metadata": {},
   "source": [
    "3. Crie uma função para o exercício 2. Retornar o desconto e o salário líquido. \n",
    "\n",
    "def nome ():\n",
    "    \n",
    "return salario_liquido, desconto"
   ]
  },
  {
   "cell_type": "markdown",
   "metadata": {},
   "source": [
    "Aula 2 - Tuplas "
   ]
  },
  {
   "cell_type": "code",
   "execution_count": null,
   "metadata": {},
   "outputs": [],
   "source": [
    "tupla_tupla = (4,5,6),(7,8)\n",
    "for m in tupla_tupla:\n",
    "    print(m)"
   ]
  },
  {
   "cell_type": "code",
   "execution_count": null,
   "metadata": {},
   "outputs": [],
   "source": [
    "for m in tupla_tupla:\n",
    "    for k in m:\n",
    "        print(k)"
   ]
  },
  {
   "cell_type": "code",
   "execution_count": null,
   "metadata": {},
   "outputs": [],
   "source": [
    "tupla = tuple('String')\n",
    "print(tupla)"
   ]
  },
  {
   "cell_type": "code",
   "execution_count": null,
   "metadata": {},
   "outputs": [],
   "source": [
    "tupla = tuple(['foo', [1,2,3], True])\n",
    "tupla"
   ]
  },
  {
   "cell_type": "code",
   "execution_count": null,
   "metadata": {},
   "outputs": [],
   "source": [
    "tupla[1].append(4)\n",
    "tupla"
   ]
  },
  {
   "cell_type": "code",
   "execution_count": null,
   "metadata": {},
   "outputs": [],
   "source": [
    "tupla = tuple(['foo', [1,2,3], True])\n",
    "print(tupla)\n",
    "\n",
    "lista = list(tupla)\n",
    "print(lista)\n",
    "\n",
    "lista.insert(0,'FIAP')\n",
    "lista\n",
    "\n",
    "posicao_insercao = lista.index('foo') + 1\n",
    "lista.insert(posicao_insercao, 'foo fighters')\n",
    "\n",
    "tupla_nova = tuple(lista)\n",
    "print(tupla_nova)"
   ]
  },
  {
   "cell_type": "code",
   "execution_count": null,
   "metadata": {},
   "outputs": [],
   "source": [
    "(4, None, 'foo') + (6,0) + ('fiap', 1)"
   ]
  },
  {
   "cell_type": "code",
   "execution_count": null,
   "metadata": {},
   "outputs": [],
   "source": [
    "(4, None, 'foo') + (6,0) + ('fiap', 1) * 4"
   ]
  },
  {
   "cell_type": "code",
   "execution_count": null,
   "metadata": {},
   "outputs": [],
   "source": [
    "tupla = (100,1000,10000)\n",
    "\n",
    "a,b,c = tupla \n",
    "\n",
    "print(a)\n",
    "print(b)\n",
    "print(c)\n"
   ]
  },
  {
   "cell_type": "code",
   "execution_count": null,
   "metadata": {},
   "outputs": [],
   "source": [
    "def nome_funcao(parametros):\n",
    "    a = (20 + 50) / 2\n",
    "    b = (20 + 50)\n",
    "    return a, b\n",
    "nome_funcao"
   ]
  },
  {
   "cell_type": "code",
   "execution_count": 2,
   "metadata": {},
   "outputs": [
    {
     "data": {
      "text/plain": [
       "('maçã', 'banana', 'laranja', 'uva')"
      ]
     },
     "execution_count": 2,
     "metadata": {},
     "output_type": "execute_result"
    }
   ],
   "source": [
    "#1.\n",
    "frutas = ('maçã', 'banana', 'laranja', 'uva')\n",
    "frutas"
   ]
  },
  {
   "cell_type": "code",
   "execution_count": 3,
   "metadata": {},
   "outputs": [
    {
     "name": "stdout",
     "output_type": "stream",
     "text": [
      "banana\n"
     ]
    }
   ],
   "source": [
    "#2.\n",
    "frutas[1]\n",
    "print(frutas[1])\n"
   ]
  },
  {
   "cell_type": "code",
   "execution_count": 4,
   "metadata": {},
   "outputs": [
    {
     "name": "stdout",
     "output_type": "stream",
     "text": [
      "['maçã', 'banana', 'laranja', 'uva']\n"
     ]
    },
    {
     "data": {
      "text/plain": [
       "('maçã', 'banana', 'manga', 'laranja', 'uva')"
      ]
     },
     "execution_count": 4,
     "metadata": {},
     "output_type": "execute_result"
    }
   ],
   "source": [
    "#3.\n",
    "lista2 = list(frutas)\n",
    "print(lista2)\n",
    "lista2.insert(2, 'manga')\n",
    "lista2\n",
    "frutas_modificadas = tuple(lista2)\n",
    "frutas_modificadas\n",
    "\n"
   ]
  },
  {
   "cell_type": "code",
   "execution_count": null,
   "metadata": {},
   "outputs": [],
   "source": [
    "#4. \n",
    "tupla2 = ('abacaxi', 'limão')\n",
    "frutas_concatenadas = frutas_modificadas + tupla2\n",
    "frutas_concatenadas\n"
   ]
  },
  {
   "cell_type": "code",
   "execution_count": null,
   "metadata": {},
   "outputs": [],
   "source": [
    "#5.\n",
    "for l in frutas_concatenadas:\n",
    "    if l == 'uva':\n",
    "        print(l)\n",
    "        break\n"
   ]
  },
  {
   "cell_type": "markdown",
   "metadata": {},
   "source": [
    "Crie um algoritmo para calcular a média dos alunos abaixo. Utilize a estrutura de repetição e tuplas.\n",
    "(Laura, 85, 90, 88)\n",
    "(Paulo, 60, 75, 68)\n",
    "(Ana, 68, 80, 90)\n",
    "(Jose, 80, 90, 72)\n"
   ]
  },
  {
   "cell_type": "code",
   "execution_count": 28,
   "metadata": {},
   "outputs": [
    {
     "name": "stdout",
     "output_type": "stream",
     "text": [
      "O Aluno Laura tem media 87.67\n",
      "O Aluno Paulo tem media 67.67\n",
      "O Aluno Ana tem media 79.33\n",
      "O Aluno Jose tem media 80.67\n"
     ]
    }
   ],
   "source": [
    "lista_alunos = [('Laura', 85, 90, 88), ('Paulo', 60, 75, 68), ('Ana', 68, 80, 90), ('Jose', 80,90,72)]\n",
    "\n",
    "for l in lista_alunos:\n",
    "    nome, nota1, nota2, nota3 = l\n",
    "    media = (nota1 + nota2 + nota3)/ 3\n",
    "    print(f\"O Aluno {nome} tem media {media:.2f}\")\n",
    "    \n"
   ]
  },
  {
   "cell_type": "markdown",
   "metadata": {},
   "source": [
    "Crie um programa para análise de despesas. Utilize a estrutura de repetição e tuplas. \n",
    "\n",
    "viagens, 5000, 15000, 25000, 9800\n",
    "restaurantes, 230, 100, 50, 415\n",
    "transporte, 50, 15, 89, 115\n",
    "viagens, 5000, 15000, 25000, 9800"
   ]
  },
  {
   "cell_type": "code",
   "execution_count": 32,
   "metadata": {},
   "outputs": [
    {
     "name": "stdout",
     "output_type": "stream",
     "text": [
      "Os gastos totais de Viagens é de R$ 54800.\n",
      "Os gastos totais de Restaurantes é de R$ 795.\n",
      "Os gastos totais de Transporte é de R$ 269.\n"
     ]
    }
   ],
   "source": [
    "lista_viagens = [('Viagens', 5000, 15000, 25000, 9800), ('Restaurantes', 230, 100, 50, 415), ('Transporte', 50, 15, 89, 115)]\n",
    "\n",
    "for k in lista_viagens:\n",
    "    categoria, desp1, desp2, desp3, desp4 = k \n",
    "    gastos_totais = desp1 + desp2 + desp3 + desp4\n",
    "    print(f\"Os gastos totais de {categoria} é de R$ {gastos_totais}.\")"
   ]
  },
  {
   "cell_type": "markdown",
   "metadata": {},
   "source": [
    "Crie um programa para catalogação de livros. Utilize a estrutura de repetição e tuplas. \n",
    "\n",
    "livros = [\n",
    "\n",
    "    ('O Senhor dos Aneis', 'J.R.R Tolkien'), ('O Hobbit', 'J.R.R Tolkien'), ('1984', 'George Orwell')\n",
    "]\n"
   ]
  },
  {
   "cell_type": "code",
   "execution_count": 34,
   "metadata": {},
   "outputs": [
    {
     "name": "stdout",
     "output_type": "stream",
     "text": [
      "O Livro O Senhor dos Aneis é do autor J.R.R Tolkien.\n",
      "O Livro O Hobbit é do autor J.R.R Tolkien.\n",
      "O Livro 1984 é do autor George Orwell.\n"
     ]
    }
   ],
   "source": [
    "livros = [('O Senhor dos Aneis', 'J.R.R Tolkien'), ('O Hobbit', 'J.R.R Tolkien'), ('1984', 'George Orwell')]\n",
    "\n",
    "for l in livros:\n",
    "    livro, autor = l\n",
    "    print(f\"O Livro {livro} é do autor {autor}.\")\n"
   ]
  },
  {
   "cell_type": "markdown",
   "metadata": {},
   "source": [
    "DICIONÁRIOS E DATAFRANE "
   ]
  },
  {
   "cell_type": "code",
   "execution_count": 36,
   "metadata": {},
   "outputs": [
    {
     "name": "stdout",
     "output_type": "stream",
     "text": [
      "[{'nome': 'Alice', 'Idade': 40}, {'nome': 'Bob', 'Idade': 37}, {'nome': 'Chris', 'Idade': 33}]\n"
     ]
    }
   ],
   "source": [
    "estudantes = [\n",
    "    {'nome': 'Alice', 'Idade':40},\n",
    "    {'nome': 'Bob', 'Idade':37},\n",
    "    {'nome': 'Chris', 'Idade':33},\n",
    "\n",
    "]\n",
    "\n",
    "print(estudantes)"
   ]
  },
  {
   "cell_type": "code",
   "execution_count": 38,
   "metadata": {},
   "outputs": [
    {
     "data": {
      "text/html": [
       "<div>\n",
       "<style scoped>\n",
       "    .dataframe tbody tr th:only-of-type {\n",
       "        vertical-align: middle;\n",
       "    }\n",
       "\n",
       "    .dataframe tbody tr th {\n",
       "        vertical-align: top;\n",
       "    }\n",
       "\n",
       "    .dataframe thead th {\n",
       "        text-align: right;\n",
       "    }\n",
       "</style>\n",
       "<table border=\"1\" class=\"dataframe\">\n",
       "  <thead>\n",
       "    <tr style=\"text-align: right;\">\n",
       "      <th></th>\n",
       "      <th>nome</th>\n",
       "      <th>Idade</th>\n",
       "    </tr>\n",
       "  </thead>\n",
       "  <tbody>\n",
       "    <tr>\n",
       "      <th>0</th>\n",
       "      <td>Alice</td>\n",
       "      <td>40</td>\n",
       "    </tr>\n",
       "    <tr>\n",
       "      <th>1</th>\n",
       "      <td>Bob</td>\n",
       "      <td>37</td>\n",
       "    </tr>\n",
       "    <tr>\n",
       "      <th>2</th>\n",
       "      <td>Chris</td>\n",
       "      <td>33</td>\n",
       "    </tr>\n",
       "  </tbody>\n",
       "</table>\n",
       "</div>"
      ],
      "text/plain": [
       "    nome  Idade\n",
       "0  Alice     40\n",
       "1    Bob     37\n",
       "2  Chris     33"
      ]
     },
     "execution_count": 38,
     "metadata": {},
     "output_type": "execute_result"
    }
   ],
   "source": [
    "import pandas as pd\n",
    "\n",
    "dados = pd.DataFrame(estudantes)\n",
    "dados\n"
   ]
  }
 ],
 "metadata": {
  "kernelspec": {
   "display_name": "Python 3",
   "language": "python",
   "name": "python3"
  },
  "language_info": {
   "codemirror_mode": {
    "name": "ipython",
    "version": 3
   },
   "file_extension": ".py",
   "mimetype": "text/x-python",
   "name": "python",
   "nbconvert_exporter": "python",
   "pygments_lexer": "ipython3",
   "version": "3.12.3"
  }
 },
 "nbformat": 4,
 "nbformat_minor": 2
}

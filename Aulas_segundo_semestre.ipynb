{
 "cells": [
  {
   "cell_type": "markdown",
   "metadata": {},
   "source": [
    "Aula 01 - 2 semestre - Revisão (09/08/2024)\n",
    "\n",
    "1. Crie um programa que solicite três notas para três alunos. Após isso, calcule a média de cada aluno e retorne a média global. Utilize a estrutura de entrada para o usuário. "
   ]
  },
  {
   "cell_type": "code",
   "execution_count": 16,
   "metadata": {},
   "outputs": [
    {
     "name": "stdout",
     "output_type": "stream",
     "text": [
      "A média da notas do aluno 1 é 5.333333333333333\n",
      "A média das notas do aluno 2 é 5.666666666666667\n",
      "A média das notas do aluno 3 é 6.0\n",
      "\n",
      "A média total das 3 médias é 5.666666666666667\n"
     ]
    }
   ],
   "source": [
    "aluno1 = []\n",
    "aluno2 = []\n",
    "aluno3 = []\n",
    "media_total = []\n",
    "soma_total = 0\n",
    "soma1 = 0\n",
    "soma2 = 0\n",
    "soma3 = 0\n",
    "media_final = 0\n",
    "\n",
    "for i in range(1,4):\n",
    "    notas1 = float(input(f'Digite a nota {i} do aluno 1:'))\n",
    "    aluno1.append(notas1)\n",
    "\n",
    "for i in range(1,4):\n",
    "    notas2 = float(input(f'Digite a nota {i} do aluno 2:'))\n",
    "    aluno2.append(notas2)\n",
    "for i in range(1,4):\n",
    "    notas3 = float(input(f'Digite a nota {i} do aluno 3:'))\n",
    "    aluno3.append(notas3)\n",
    "\n",
    "for l in aluno1:\n",
    "    soma1 = soma1 + l\n",
    "media1 = soma1/3\n",
    "media_total.append(media1)\n",
    "print(f'A média da notas do aluno 1 é {media1}')\n",
    "\n",
    "for l in aluno2:\n",
    "    soma2 = soma2 + l\n",
    "media2 = soma2/3\n",
    "media_total.append(media2)\n",
    "print(f\"A média das notas do aluno 2 é {media2}\")\n",
    "\n",
    "for l in aluno3:\n",
    "    soma3 = soma3 + l\n",
    "media3 = soma3/3\n",
    "media_total.append(media3)\n",
    "print(f\"A média das notas do aluno 3 é {media3}\")\n",
    "print()\n",
    "\n",
    "for m in media_total:\n",
    "    soma_total = soma_total + m\n",
    "\n",
    "media_final = (soma_total)/3\n",
    "print(f\"A média total das 3 médias é {media_final}\")\n",
    "\n",
    "\n",
    "\n",
    "\n"
   ]
  },
  {
   "cell_type": "code",
   "execution_count": 17,
   "metadata": {},
   "outputs": [
    {
     "name": "stdout",
     "output_type": "stream",
     "text": [
      "Adicione cobertura\n",
      "Desculpe, mas estamos sem tomate\n",
      "Adicione cobertura\n",
      "Adicione cobertura\n"
     ]
    }
   ],
   "source": [
    "coberturas = ['pepperoni', 'tomate', 'queijo', 'cebola']\n",
    "\n",
    "for cobertura_requisita in coberturas:\n",
    "    if cobertura_requisita == 'tomate':\n",
    "        print('Desculpe, mas estamos sem tomate')\n",
    "    else:\n",
    "        print('Adicione cobertura')\n",
    "\n"
   ]
  },
  {
   "cell_type": "code",
   "execution_count": 18,
   "metadata": {},
   "outputs": [
    {
     "name": "stdout",
     "output_type": "stream",
     "text": [
      "first king\n",
      "first queen\n",
      "first princess\n",
      "first duke\n",
      "second king\n",
      "second queen\n",
      "second princess\n",
      "second duke\n",
      "third king\n",
      "third queen\n",
      "third princess\n",
      "third duke\n",
      "fourth king\n",
      "fourth queen\n",
      "fourth princess\n",
      "fourth duke\n"
     ]
    }
   ],
   "source": [
    "ordem = ['first', 'second', 'third', 'fourth']\n",
    "titulo = ['king', 'queen', 'princess', 'duke']\n",
    "\n",
    "for i in ordem:\n",
    "    for k in titulo:\n",
    "        print(i,k)"
   ]
  }
 ],
 "metadata": {
  "kernelspec": {
   "display_name": "Python 3",
   "language": "python",
   "name": "python3"
  },
  "language_info": {
   "codemirror_mode": {
    "name": "ipython",
    "version": 3
   },
   "file_extension": ".py",
   "mimetype": "text/x-python",
   "name": "python",
   "nbconvert_exporter": "python",
   "pygments_lexer": "ipython3",
   "version": "3.12.3"
  }
 },
 "nbformat": 4,
 "nbformat_minor": 2
}

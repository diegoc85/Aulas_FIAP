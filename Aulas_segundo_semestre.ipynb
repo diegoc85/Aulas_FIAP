{
 "cells": [
  {
   "cell_type": "markdown",
   "metadata": {},
   "source": [
    "Aula 01 - 2 semestre - Revisão (09/08/2024)\n",
    "\n",
    "1. Crie um programa que solicite três notas para três alunos. Após isso, calcule a média de cada aluno e retorne a média global. Utilize a estrutura de entrada para o usuário. "
   ]
  },
  {
   "cell_type": "code",
   "execution_count": 16,
   "metadata": {},
   "outputs": [
    {
     "name": "stdout",
     "output_type": "stream",
     "text": [
      "A média da notas do aluno 1 é 5.333333333333333\n",
      "A média das notas do aluno 2 é 5.666666666666667\n",
      "A média das notas do aluno 3 é 6.0\n",
      "\n",
      "A média total das 3 médias é 5.666666666666667\n"
     ]
    }
   ],
   "source": [
    "aluno1 = []\n",
    "aluno2 = []\n",
    "aluno3 = []\n",
    "media_total = []\n",
    "soma_total = 0\n",
    "soma1 = 0\n",
    "soma2 = 0\n",
    "soma3 = 0\n",
    "media_final = 0\n",
    "\n",
    "for i in range(1,4):\n",
    "    notas1 = float(input(f'Digite a nota {i} do aluno 1:'))\n",
    "    aluno1.append(notas1)\n",
    "\n",
    "for i in range(1,4):\n",
    "    notas2 = float(input(f'Digite a nota {i} do aluno 2:'))\n",
    "    aluno2.append(notas2)\n",
    "for i in range(1,4):\n",
    "    notas3 = float(input(f'Digite a nota {i} do aluno 3:'))\n",
    "    aluno3.append(notas3)\n",
    "\n",
    "for l in aluno1:\n",
    "    soma1 = soma1 + l\n",
    "media1 = soma1/3\n",
    "media_total.append(media1)\n",
    "print(f'A média da notas do aluno 1 é {media1}')\n",
    "\n",
    "for l in aluno2:\n",
    "    soma2 = soma2 + l\n",
    "media2 = soma2/3\n",
    "media_total.append(media2)\n",
    "print(f\"A média das notas do aluno 2 é {media2}\")\n",
    "\n",
    "for l in aluno3:\n",
    "    soma3 = soma3 + l\n",
    "media3 = soma3/3\n",
    "media_total.append(media3)\n",
    "print(f\"A média das notas do aluno 3 é {media3}\")\n",
    "print()\n",
    "\n",
    "for m in media_total:\n",
    "    soma_total = soma_total + m\n",
    "\n",
    "media_final = (soma_total)/3\n",
    "print(f\"A média total das 3 médias é {media_final}\")\n",
    "\n",
    "\n",
    "\n",
    "\n"
   ]
  },
  {
   "cell_type": "code",
   "execution_count": 17,
   "metadata": {},
   "outputs": [
    {
     "name": "stdout",
     "output_type": "stream",
     "text": [
      "Adicione cobertura\n",
      "Desculpe, mas estamos sem tomate\n",
      "Adicione cobertura\n",
      "Adicione cobertura\n"
     ]
    }
   ],
   "source": [
    "coberturas = ['pepperoni', 'tomate', 'queijo', 'cebola']\n",
    "\n",
    "for cobertura_requisita in coberturas:\n",
    "    if cobertura_requisita == 'tomate':\n",
    "        print('Desculpe, mas estamos sem tomate')\n",
    "    else:\n",
    "        print('Adicione cobertura')\n",
    "\n"
   ]
  },
  {
   "cell_type": "code",
   "execution_count": 18,
   "metadata": {},
   "outputs": [
    {
     "name": "stdout",
     "output_type": "stream",
     "text": [
      "first king\n",
      "first queen\n",
      "first princess\n",
      "first duke\n",
      "second king\n",
      "second queen\n",
      "second princess\n",
      "second duke\n",
      "third king\n",
      "third queen\n",
      "third princess\n",
      "third duke\n",
      "fourth king\n",
      "fourth queen\n",
      "fourth princess\n",
      "fourth duke\n"
     ]
    }
   ],
   "source": [
    "ordem = ['first', 'second', 'third', 'fourth']\n",
    "titulo = ['king', 'queen', 'princess', 'duke']\n",
    "\n",
    "for i in ordem:\n",
    "    for k in titulo:\n",
    "        print(i,k)"
   ]
  },
  {
   "cell_type": "code",
   "execution_count": 23,
   "metadata": {},
   "outputs": [
    {
     "data": {
      "text/plain": [
       "9"
      ]
     },
     "execution_count": 23,
     "metadata": {},
     "output_type": "execute_result"
    }
   ],
   "source": [
    "#juntando 2 listas em uma. Primeiro elemento é a nota e o segundo a frequencia. \n",
    "# lista_n = [8,7,,7.5,9]\n",
    "#lista_f = [80,85,90,70]\n",
    "\n",
    "lista_nf = [(8,80), (7,85), (7.5, 90), (9,70)]\n",
    "lista_nf[3][0]"
   ]
  },
  {
   "cell_type": "markdown",
   "metadata": {},
   "source": [
    "2. Crie um programa para calcular o desconto no salário em função da tabela de imposto de renda abaixo. Retorne o desconto e o salário líquido. Resolva o exercício sem e com o recurso de lista. \n",
    "lista = (desconto,salario liquido)"
   ]
  },
  {
   "cell_type": "code",
   "execution_count": 30,
   "metadata": {},
   "outputs": [
    {
     "name": "stdout",
     "output_type": "stream",
     "text": [
      "O desconto é de 172.5 e o salário líquido é R$ 2127.5\n"
     ]
    }
   ],
   "source": [
    "salario = float(input('Digite seu salário:'))\n",
    "lista_desconto = [(2.112,0), (2826.66, 0.075), (3751.06, 0.15), (4664.68, 0.225), (float('inf'), 0.275)]\n",
    "\n",
    "for limite, taxa in lista_desconto:\n",
    "    if salario <= limite:\n",
    "        desconto = salario * taxa\n",
    "    break \n",
    "\n",
    "salario_liquido = salario - desconto \n",
    "print(f'O desconto é de {desconto} e o salário líquido é R$ {salario_liquido}')\n",
    "\n",
    "\n",
    "\n",
    "\n",
    "\n",
    "\n"
   ]
  },
  {
   "cell_type": "code",
   "execution_count": 28,
   "metadata": {},
   "outputs": [
    {
     "name": "stdout",
     "output_type": "stream",
     "text": [
      "O salário líquido é R$ 2127.5 e o desconto é 172.5\n"
     ]
    }
   ],
   "source": [
    "salario = float(input('Digite seu salário:'))\n",
    "\n",
    "\n",
    "if salario <= 2.112:\n",
    "    desconto = 0\n",
    "    salario_liquido = salario - desconto\n",
    "    print(f'O salário líquido é R$ {salario_liquido} e o desconto é {desconto}')\n",
    " \n",
    "    \n",
    "elif salario > 2.112 and salario <= 2826.66:\n",
    "    desconto = salario * 0.075\n",
    "    salario_liquido = salario - desconto\n",
    "    print(f'O salário líquido é R$ {salario_liquido} e o desconto é {desconto}')\n",
    "\n",
    "elif salario > 2826.66 and salario <= 3751.06:\n",
    "    desconto = salario * 0.15\n",
    "    salario_liquido = salario - desconto\n",
    "    print(f'O salário líquido é R$ {salario_liquido} e o desconto é {desconto}')\n",
    "\n",
    "elif salario > 3751.06 and salario <= 4664.68:\n",
    "    desconto = salario * 0.225\n",
    "    salario_liquido = salario - desconto\n",
    "    print(f'O salário líquido é R$ {salario_liquido} e o desconto é {desconto}')\n",
    "\n",
    "else:\n",
    "    desconto = salario * 0.275\n",
    "    salario_liquido = salario - desconto\n",
    "    print(f'O salário líquido é R$ {salario_liquido} e o desconto é {desconto}')\n"
   ]
  },
  {
   "cell_type": "markdown",
   "metadata": {},
   "source": [
    "3. Crie uma função para o exercício 2. Retornar o desconto e o salário líquido. \n",
    "\n",
    "def nome ():\n",
    "    \n",
    "return salario_liquido, desconto"
   ]
  }
 ],
 "metadata": {
  "kernelspec": {
   "display_name": "Python 3",
   "language": "python",
   "name": "python3"
  },
  "language_info": {
   "codemirror_mode": {
    "name": "ipython",
    "version": 3
   },
   "file_extension": ".py",
   "mimetype": "text/x-python",
   "name": "python",
   "nbconvert_exporter": "python",
   "pygments_lexer": "ipython3",
   "version": "3.12.3"
  }
 },
 "nbformat": 4,
 "nbformat_minor": 2
}

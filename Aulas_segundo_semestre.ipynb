{
 "cells": [
  {
   "cell_type": "markdown",
   "metadata": {},
   "source": [
    "Aula 01 - 2 semestre - Revisão (09/08/2024)\n",
    "\n",
    "1. Crie um programa que solicite três notas para três alunos. Após isso, calcule a média de cada aluno e retorne a média global. Utilize a estrutura de entrada para o usuário. "
   ]
  },
  {
   "cell_type": "code",
   "execution_count": null,
   "metadata": {},
   "outputs": [],
   "source": [
    "aluno1 = []\n",
    "aluno2 = []\n",
    "aluno3 = []\n",
    "media_total = []\n",
    "soma_total = 0\n",
    "soma1 = 0\n",
    "soma2 = 0\n",
    "soma3 = 0\n",
    "media_final = 0\n",
    "\n",
    "for i in range(1,4):\n",
    "    notas1 = float(input(f'Digite a nota {i} do aluno 1:'))\n",
    "    aluno1.append(notas1)\n",
    "\n",
    "for i in range(1,4):\n",
    "    notas2 = float(input(f'Digite a nota {i} do aluno 2:'))\n",
    "    aluno2.append(notas2)\n",
    "for i in range(1,4):\n",
    "    notas3 = float(input(f'Digite a nota {i} do aluno 3:'))\n",
    "    aluno3.append(notas3)\n",
    "\n",
    "for l in aluno1:\n",
    "    soma1 = soma1 + l\n",
    "media1 = soma1/3\n",
    "media_total.append(media1)\n",
    "print(f'A média da notas do aluno 1 é {media1}')\n",
    "\n",
    "for l in aluno2:\n",
    "    soma2 = soma2 + l\n",
    "media2 = soma2/3\n",
    "media_total.append(media2)\n",
    "print(f\"A média das notas do aluno 2 é {media2}\")\n",
    "\n",
    "for l in aluno3:\n",
    "    soma3 = soma3 + l\n",
    "media3 = soma3/3\n",
    "media_total.append(media3)\n",
    "print(f\"A média das notas do aluno 3 é {media3}\")\n",
    "print()\n",
    "\n",
    "for m in media_total:\n",
    "    soma_total = soma_total + m\n",
    "\n",
    "media_final = (soma_total)/3\n",
    "print(f\"A média total das 3 médias é {media_final}\")\n",
    "\n",
    "\n",
    "\n",
    "\n"
   ]
  },
  {
   "cell_type": "code",
   "execution_count": null,
   "metadata": {},
   "outputs": [],
   "source": [
    "coberturas = ['pepperoni', 'tomate', 'queijo', 'cebola']\n",
    "\n",
    "for cobertura_requisita in coberturas:\n",
    "    if cobertura_requisita == 'tomate':\n",
    "        print('Desculpe, mas estamos sem tomate')\n",
    "    else:\n",
    "        print('Adicione cobertura')\n",
    "\n"
   ]
  },
  {
   "cell_type": "code",
   "execution_count": null,
   "metadata": {},
   "outputs": [],
   "source": [
    "ordem = ['first', 'second', 'third', 'fourth']\n",
    "titulo = ['king', 'queen', 'princess', 'duke']\n",
    "\n",
    "for i in ordem:\n",
    "    for k in titulo:\n",
    "        print(i,k)"
   ]
  },
  {
   "cell_type": "code",
   "execution_count": null,
   "metadata": {},
   "outputs": [],
   "source": [
    "#juntando 2 listas em uma. Primeiro elemento é a nota e o segundo a frequencia. \n",
    "# lista_n = [8,7,,7.5,9]\n",
    "#lista_f = [80,85,90,70]\n",
    "\n",
    "lista_nf = [(8,80), (7,85), (7.5, 90), (9,70)]\n",
    "lista_nf[3][0]"
   ]
  },
  {
   "cell_type": "markdown",
   "metadata": {},
   "source": [
    "2. Crie um programa para calcular o desconto no salário em função da tabela de imposto de renda abaixo. Retorne o desconto e o salário líquido. Resolva o exercício sem e com o recurso de lista. \n",
    "lista = (desconto,salario liquido)"
   ]
  },
  {
   "cell_type": "code",
   "execution_count": null,
   "metadata": {},
   "outputs": [],
   "source": [
    "salario = float(input('Digite seu salário:'))\n",
    "lista_desconto = [(2.112,0), (2826.66, 0.075), (3751.06, 0.15), (4664.68, 0.225), (float('inf'), 0.275)]\n",
    "\n",
    "for limite, taxa in lista_desconto:\n",
    "    if salario <= limite:\n",
    "        desconto = salario * taxa\n",
    "    break \n",
    "\n",
    "salario_liquido = salario - desconto \n",
    "print(f'O desconto é de {desconto} e o salário líquido é R$ {salario_liquido}')\n",
    "\n",
    "\n",
    "\n",
    "\n",
    "\n",
    "\n"
   ]
  },
  {
   "cell_type": "code",
   "execution_count": null,
   "metadata": {},
   "outputs": [],
   "source": [
    "salario = float(input('Digite seu salário:'))\n",
    "\n",
    "\n",
    "if salario <= 2.112:\n",
    "    desconto = 0\n",
    "    salario_liquido = salario - desconto\n",
    "    print(f'O salário líquido é R$ {salario_liquido} e o desconto é {desconto}')\n",
    " \n",
    "    \n",
    "elif salario > 2.112 and salario <= 2826.66:\n",
    "    desconto = salario * 0.075\n",
    "    salario_liquido = salario - desconto\n",
    "    print(f'O salário líquido é R$ {salario_liquido} e o desconto é {desconto}')\n",
    "\n",
    "elif salario > 2826.66 and salario <= 3751.06:\n",
    "    desconto = salario * 0.15\n",
    "    salario_liquido = salario - desconto\n",
    "    print(f'O salário líquido é R$ {salario_liquido} e o desconto é {desconto}')\n",
    "\n",
    "elif salario > 3751.06 and salario <= 4664.68:\n",
    "    desconto = salario * 0.225\n",
    "    salario_liquido = salario - desconto\n",
    "    print(f'O salário líquido é R$ {salario_liquido} e o desconto é {desconto}')\n",
    "\n",
    "else:\n",
    "    desconto = salario * 0.275\n",
    "    salario_liquido = salario - desconto\n",
    "    print(f'O salário líquido é R$ {salario_liquido} e o desconto é {desconto}')\n"
   ]
  },
  {
   "cell_type": "markdown",
   "metadata": {},
   "source": [
    "3. Crie uma função para o exercício 2. Retornar o desconto e o salário líquido. \n",
    "\n",
    "def nome ():\n",
    "    \n",
    "return salario_liquido, desconto"
   ]
  },
  {
   "cell_type": "markdown",
   "metadata": {},
   "source": [
    "Aula 2 - Tuplas "
   ]
  },
  {
   "cell_type": "code",
   "execution_count": null,
   "metadata": {},
   "outputs": [],
   "source": [
    "tupla_tupla = (4,5,6),(7,8)\n",
    "for m in tupla_tupla:\n",
    "    print(m)"
   ]
  },
  {
   "cell_type": "code",
   "execution_count": null,
   "metadata": {},
   "outputs": [],
   "source": [
    "for m in tupla_tupla:\n",
    "    for k in m:\n",
    "        print(k)"
   ]
  },
  {
   "cell_type": "code",
   "execution_count": null,
   "metadata": {},
   "outputs": [],
   "source": [
    "tupla = tuple('String')\n",
    "print(tupla)"
   ]
  },
  {
   "cell_type": "code",
   "execution_count": null,
   "metadata": {},
   "outputs": [],
   "source": [
    "tupla = tuple(['foo', [1,2,3], True])\n",
    "tupla"
   ]
  },
  {
   "cell_type": "code",
   "execution_count": null,
   "metadata": {},
   "outputs": [],
   "source": [
    "tupla[1].append(4)\n",
    "tupla"
   ]
  },
  {
   "cell_type": "code",
   "execution_count": null,
   "metadata": {},
   "outputs": [],
   "source": [
    "tupla = tuple(['foo', [1,2,3], True])\n",
    "print(tupla)\n",
    "\n",
    "lista = list(tupla)\n",
    "print(lista)\n",
    "\n",
    "lista.insert(0,'FIAP')\n",
    "lista\n",
    "\n",
    "posicao_insercao = lista.index('foo') + 1\n",
    "lista.insert(posicao_insercao, 'foo fighters')\n",
    "\n",
    "tupla_nova = tuple(lista)\n",
    "print(tupla_nova)"
   ]
  },
  {
   "cell_type": "code",
   "execution_count": null,
   "metadata": {},
   "outputs": [],
   "source": [
    "(4, None, 'foo') + (6,0) + ('fiap', 1)"
   ]
  },
  {
   "cell_type": "code",
   "execution_count": null,
   "metadata": {},
   "outputs": [],
   "source": [
    "(4, None, 'foo') + (6,0) + ('fiap', 1) * 4"
   ]
  },
  {
   "cell_type": "code",
   "execution_count": null,
   "metadata": {},
   "outputs": [],
   "source": [
    "tupla = (100,1000,10000)\n",
    "\n",
    "a,b,c = tupla \n",
    "\n",
    "print(a)\n",
    "print(b)\n",
    "print(c)\n"
   ]
  },
  {
   "cell_type": "code",
   "execution_count": null,
   "metadata": {},
   "outputs": [],
   "source": [
    "def nome_funcao(parametros):\n",
    "    a = (20 + 50) / 2\n",
    "    b = (20 + 50)\n",
    "    return a, b\n",
    "nome_funcao"
   ]
  },
  {
   "cell_type": "code",
   "execution_count": 2,
   "metadata": {},
   "outputs": [
    {
     "data": {
      "text/plain": [
       "('maçã', 'banana', 'laranja', 'uva')"
      ]
     },
     "execution_count": 2,
     "metadata": {},
     "output_type": "execute_result"
    }
   ],
   "source": [
    "#1.\n",
    "frutas = ('maçã', 'banana', 'laranja', 'uva')\n",
    "frutas"
   ]
  },
  {
   "cell_type": "code",
   "execution_count": 3,
   "metadata": {},
   "outputs": [
    {
     "name": "stdout",
     "output_type": "stream",
     "text": [
      "banana\n"
     ]
    }
   ],
   "source": [
    "#2.\n",
    "frutas[1]\n",
    "print(frutas[1])\n"
   ]
  },
  {
   "cell_type": "code",
   "execution_count": 4,
   "metadata": {},
   "outputs": [
    {
     "name": "stdout",
     "output_type": "stream",
     "text": [
      "['maçã', 'banana', 'laranja', 'uva']\n"
     ]
    },
    {
     "data": {
      "text/plain": [
       "('maçã', 'banana', 'manga', 'laranja', 'uva')"
      ]
     },
     "execution_count": 4,
     "metadata": {},
     "output_type": "execute_result"
    }
   ],
   "source": [
    "#3.\n",
    "lista2 = list(frutas)\n",
    "print(lista2)\n",
    "lista2.insert(2, 'manga')\n",
    "lista2\n",
    "frutas_modificadas = tuple(lista2)\n",
    "frutas_modificadas\n",
    "\n"
   ]
  },
  {
   "cell_type": "code",
   "execution_count": null,
   "metadata": {},
   "outputs": [],
   "source": [
    "#4. \n",
    "tupla2 = ('abacaxi', 'limão')\n",
    "frutas_concatenadas = frutas_modificadas + tupla2\n",
    "frutas_concatenadas\n"
   ]
  },
  {
   "cell_type": "code",
   "execution_count": null,
   "metadata": {},
   "outputs": [],
   "source": [
    "#5.\n",
    "for l in frutas_concatenadas:\n",
    "    if l == 'uva':\n",
    "        print(l)\n",
    "        break\n"
   ]
  },
  {
   "cell_type": "markdown",
   "metadata": {},
   "source": [
    "Crie um algoritmo para calcular a média dos alunos abaixo. Utilize a estrutura de repetição e tuplas.\n",
    "(Laura, 85, 90, 88)\n",
    "(Paulo, 60, 75, 68)\n",
    "(Ana, 68, 80, 90)\n",
    "(Jose, 80, 90, 72)\n"
   ]
  },
  {
   "cell_type": "code",
   "execution_count": 28,
   "metadata": {},
   "outputs": [
    {
     "name": "stdout",
     "output_type": "stream",
     "text": [
      "O Aluno Laura tem media 87.67\n",
      "O Aluno Paulo tem media 67.67\n",
      "O Aluno Ana tem media 79.33\n",
      "O Aluno Jose tem media 80.67\n"
     ]
    }
   ],
   "source": [
    "lista_alunos = [('Laura', 85, 90, 88), ('Paulo', 60, 75, 68), ('Ana', 68, 80, 90), ('Jose', 80,90,72)]\n",
    "\n",
    "for l in lista_alunos:\n",
    "    nome, nota1, nota2, nota3 = l\n",
    "    media = (nota1 + nota2 + nota3)/ 3\n",
    "    print(f\"O Aluno {nome} tem media {media:.2f}\")\n",
    "    \n"
   ]
  },
  {
   "cell_type": "markdown",
   "metadata": {},
   "source": [
    "Crie um programa para análise de despesas. Utilize a estrutura de repetição e tuplas. \n",
    "\n",
    "viagens, 5000, 15000, 25000, 9800\n",
    "restaurantes, 230, 100, 50, 415\n",
    "transporte, 50, 15, 89, 115\n",
    "viagens, 5000, 15000, 25000, 9800"
   ]
  },
  {
   "cell_type": "code",
   "execution_count": 32,
   "metadata": {},
   "outputs": [
    {
     "name": "stdout",
     "output_type": "stream",
     "text": [
      "Os gastos totais de Viagens é de R$ 54800.\n",
      "Os gastos totais de Restaurantes é de R$ 795.\n",
      "Os gastos totais de Transporte é de R$ 269.\n"
     ]
    }
   ],
   "source": [
    "lista_viagens = [('Viagens', 5000, 15000, 25000, 9800), ('Restaurantes', 230, 100, 50, 415), ('Transporte', 50, 15, 89, 115)]\n",
    "\n",
    "for k in lista_viagens:\n",
    "    categoria, desp1, desp2, desp3, desp4 = k \n",
    "    gastos_totais = desp1 + desp2 + desp3 + desp4\n",
    "    print(f\"Os gastos totais de {categoria} é de R$ {gastos_totais}.\")"
   ]
  },
  {
   "cell_type": "markdown",
   "metadata": {},
   "source": [
    "Crie um programa para catalogação de livros. Utilize a estrutura de repetição e tuplas. \n",
    "\n",
    "livros = [\n",
    "\n",
    "    ('O Senhor dos Aneis', 'J.R.R Tolkien'), ('O Hobbit', 'J.R.R Tolkien'), ('1984', 'George Orwell')\n",
    "]\n"
   ]
  },
  {
   "cell_type": "code",
   "execution_count": 34,
   "metadata": {},
   "outputs": [
    {
     "name": "stdout",
     "output_type": "stream",
     "text": [
      "O Livro O Senhor dos Aneis é do autor J.R.R Tolkien.\n",
      "O Livro O Hobbit é do autor J.R.R Tolkien.\n",
      "O Livro 1984 é do autor George Orwell.\n"
     ]
    }
   ],
   "source": [
    "livros = [('O Senhor dos Aneis', 'J.R.R Tolkien'), ('O Hobbit', 'J.R.R Tolkien'), ('1984', 'George Orwell')]\n",
    "\n",
    "for l in livros:\n",
    "    livro, autor = l\n",
    "    print(f\"O Livro {livro} é do autor {autor}.\")\n"
   ]
  },
  {
   "cell_type": "markdown",
   "metadata": {},
   "source": [
    "DICIONÁRIOS E DATAFRANE "
   ]
  },
  {
   "cell_type": "code",
   "execution_count": 36,
   "metadata": {},
   "outputs": [
    {
     "name": "stdout",
     "output_type": "stream",
     "text": [
      "[{'nome': 'Alice', 'Idade': 40}, {'nome': 'Bob', 'Idade': 37}, {'nome': 'Chris', 'Idade': 33}]\n"
     ]
    }
   ],
   "source": [
    "estudantes = [\n",
    "    {'nome': 'Alice', 'Idade':40},\n",
    "    {'nome': 'Bob', 'Idade':37},\n",
    "    {'nome': 'Chris', 'Idade':33},\n",
    "\n",
    "]\n",
    "\n",
    "print(estudantes)"
   ]
  },
  {
   "cell_type": "code",
   "execution_count": 38,
   "metadata": {},
   "outputs": [
    {
     "data": {
      "text/html": [
       "<div>\n",
       "<style scoped>\n",
       "    .dataframe tbody tr th:only-of-type {\n",
       "        vertical-align: middle;\n",
       "    }\n",
       "\n",
       "    .dataframe tbody tr th {\n",
       "        vertical-align: top;\n",
       "    }\n",
       "\n",
       "    .dataframe thead th {\n",
       "        text-align: right;\n",
       "    }\n",
       "</style>\n",
       "<table border=\"1\" class=\"dataframe\">\n",
       "  <thead>\n",
       "    <tr style=\"text-align: right;\">\n",
       "      <th></th>\n",
       "      <th>nome</th>\n",
       "      <th>Idade</th>\n",
       "    </tr>\n",
       "  </thead>\n",
       "  <tbody>\n",
       "    <tr>\n",
       "      <th>0</th>\n",
       "      <td>Alice</td>\n",
       "      <td>40</td>\n",
       "    </tr>\n",
       "    <tr>\n",
       "      <th>1</th>\n",
       "      <td>Bob</td>\n",
       "      <td>37</td>\n",
       "    </tr>\n",
       "    <tr>\n",
       "      <th>2</th>\n",
       "      <td>Chris</td>\n",
       "      <td>33</td>\n",
       "    </tr>\n",
       "  </tbody>\n",
       "</table>\n",
       "</div>"
      ],
      "text/plain": [
       "    nome  Idade\n",
       "0  Alice     40\n",
       "1    Bob     37\n",
       "2  Chris     33"
      ]
     },
     "execution_count": 38,
     "metadata": {},
     "output_type": "execute_result"
    }
   ],
   "source": [
    "import pandas as pd\n",
    "\n",
    "dados = pd.DataFrame(estudantes)\n",
    "dados\n"
   ]
  },
  {
   "cell_type": "code",
   "execution_count": 6,
   "metadata": {},
   "outputs": [
    {
     "name": "stdout",
     "output_type": "stream",
     "text": [
      "0     1\n",
      "1     2\n",
      "2     3\n",
      "3     4\n",
      "4     5\n",
      "5     6\n",
      "6     7\n",
      "7     8\n",
      "8     9\n",
      "9    10\n",
      "dtype: int64\n"
     ]
    }
   ],
   "source": [
    "#Exercicio de criação: crie uma Pandas Series contendo os numeros de 1 a 10\n",
    "\n",
    "import pandas as pd\n",
    "numeros = pd.Series(range(1,11))\n",
    "print(numeros)\n"
   ]
  },
  {
   "cell_type": "code",
   "execution_count": 5,
   "metadata": {},
   "outputs": [
    {
     "name": "stdout",
     "output_type": "stream",
     "text": [
      "3\n"
     ]
    }
   ],
   "source": [
    "#Acesse o Terceiro elemento de uma Pandas Series e imprima seu valor. \n",
    "\n",
    "print(numeros[2])"
   ]
  },
  {
   "cell_type": "code",
   "execution_count": null,
   "metadata": {},
   "outputs": [],
   "source": [
    "#Some duas Pandas Series contendo os números de 1 a 5 e os números de 6 a 10\n",
    "#respectivamente\n",
    "\n",
    "s1 = pd.Series(range(1,6))\n",
    "s2 = pd.Series(range(6,11))\n",
    "print(s1)\n",
    "print(s2)\n",
    "\n",
    "soma = s1 + s2\n",
    "print(soma)"
   ]
  },
  {
   "cell_type": "markdown",
   "metadata": {},
   "source": [
    "Crie uma Pandas Series contendo os números de 1 a 10 e exiba apenas os valores maiores que 5. "
   ]
  },
  {
   "cell_type": "code",
   "execution_count": 17,
   "metadata": {},
   "outputs": [
    {
     "name": "stdout",
     "output_type": "stream",
     "text": [
      "5\n",
      "6\n",
      "7\n",
      "8\n",
      "9\n",
      "10\n"
     ]
    }
   ],
   "source": [
    "s3 = pd.Series(range(1,11))\n",
    "#print(s3)\n",
    "\n",
    "for s in s3:\n",
    "    if s >= 5:\n",
    "        print(s)"
   ]
  },
  {
   "cell_type": "code",
   "execution_count": 19,
   "metadata": {},
   "outputs": [
    {
     "data": {
      "text/plain": [
       "5     6\n",
       "6     7\n",
       "7     8\n",
       "8     9\n",
       "9    10\n",
       "dtype: int64"
      ]
     },
     "execution_count": 19,
     "metadata": {},
     "output_type": "execute_result"
    }
   ],
   "source": [
    "s3[s3>5]"
   ]
  },
  {
   "cell_type": "markdown",
   "metadata": {},
   "source": [
    "Calcule a media e o desvio padrão de uma Pandas Series contendo os números de 1 a 10. "
   ]
  },
  {
   "cell_type": "code",
   "execution_count": 25,
   "metadata": {},
   "outputs": [
    {
     "name": "stdout",
     "output_type": "stream",
     "text": [
      "A média é: 5.5\n",
      "O desvio padrão é: 3.0276503540974917\n"
     ]
    }
   ],
   "source": [
    "s4 = pd.Series(range(1,11))\n",
    "media = s4.mean()\n",
    "print(f'A média é: {media}')\n",
    "\n",
    "desvio_padrao = s4.std()\n",
    "print(f'O desvio padrão é: {desvio_padrao}')\n"
   ]
  },
  {
   "cell_type": "markdown",
   "metadata": {},
   "source": [
    "Concatene duas Pandas Series contendo números de 1 a 5 e 6 a 10, respectivamente, em uma única series. "
   ]
  },
  {
   "cell_type": "code",
   "execution_count": 38,
   "metadata": {},
   "outputs": [
    {
     "name": "stdout",
     "output_type": "stream",
     "text": [
      "   0   1\n",
      "0  1   6\n",
      "1  2   7\n",
      "2  3   8\n",
      "3  4   9\n",
      "4  5  10\n"
     ]
    }
   ],
   "source": [
    "s5 = pd.Series(range(1,6))\n",
    "s6 = pd.Series(range(6,11))\n",
    "\n",
    "serie_concatenada = pd.concat([s5,s6], axis=1)\n",
    "print(serie_concatenada)\n",
    "\n"
   ]
  },
  {
   "cell_type": "markdown",
   "metadata": {},
   "source": [
    "Subtraia uma Pandas Series contendo os números de 1 a 10 por uma outra Series contendo os números de 10 a 1. "
   ]
  },
  {
   "cell_type": "code",
   "execution_count": 41,
   "metadata": {},
   "outputs": [
    {
     "name": "stdout",
     "output_type": "stream",
     "text": [
      "0   -9\n",
      "1   -7\n",
      "2   -5\n",
      "3   -3\n",
      "4   -1\n",
      "5    1\n",
      "6    3\n",
      "7    5\n",
      "8    7\n",
      "9    9\n",
      "dtype: int64\n"
     ]
    }
   ],
   "source": [
    "s10 = pd.Series(range(1,11))\n",
    "s11 = pd.Series(range(10,0,-1))\n",
    "\n",
    "sub = s10- s11\n",
    "print(sub)"
   ]
  },
  {
   "cell_type": "markdown",
   "metadata": {},
   "source": [
    "Ordene uma Pandas Series contendo os números de 1 a 10 em ordem crescente"
   ]
  },
  {
   "cell_type": "code",
   "execution_count": null,
   "metadata": {},
   "outputs": [],
   "source": [
    "s12 = pd.Series(range(1,11))\n",
    "s12.sort_values(ascending= False)"
   ]
  },
  {
   "cell_type": "code",
   "execution_count": 45,
   "metadata": {},
   "outputs": [
    {
     "data": {
      "text/plain": [
       "0    False\n",
       "1    False\n",
       "2     True\n",
       "3    False\n",
       "4    False\n",
       "5    False\n",
       "6     True\n",
       "Name: Serie 1, dtype: bool"
      ]
     },
     "execution_count": 45,
     "metadata": {},
     "output_type": "execute_result"
    }
   ],
   "source": [
    "s1 = pd.Series([10,20,20,30,40,50,50], name = 'Serie 1')\n",
    "s1.duplicated()"
   ]
  },
  {
   "cell_type": "code",
   "execution_count": 46,
   "metadata": {},
   "outputs": [
    {
     "data": {
      "text/plain": [
       "3    4\n",
       "4    5\n",
       "5    6\n",
       "6    7\n",
       "7    8\n",
       "dtype: int64"
      ]
     },
     "execution_count": 46,
     "metadata": {},
     "output_type": "execute_result"
    }
   ],
   "source": [
    "s1 = pd.Series(range(1,11))\n",
    "s1[3:8]"
   ]
  },
  {
   "cell_type": "markdown",
   "metadata": {},
   "source": [
    "Normalização de dados\n",
    "v1 = (200,100,1000,150)\n",
    "v2 = (10,20,30,40)\n",
    "minimo, maximo\n",
    "s1_min = "
   ]
  },
  {
   "cell_type": "code",
   "execution_count": 14,
   "metadata": {},
   "outputs": [
    {
     "name": "stdout",
     "output_type": "stream",
     "text": [
      "A soma dos likes é: 552598\n",
      "A soma dos dislikes é: 130\n",
      "A media dos likes é: 138149.5\n",
      "A media dos dislikes é: 32.5\n",
      "A mídia com maior taxa de likes é: 0.9998818321471099\n",
      "A mídia com menor taxa de likes é: 0.9426605504587156\n",
      "[0.9821428571428571, 0.9426605504587156, 0.9959382615759546, 0.9998818321471099]\n",
      "[0.017857142857142856, 0.05733944954128441, 0.004061738424045491, 0.00011816785289011298]\n",
      "4\n"
     ]
    }
   ],
   "source": [
    "#Ex1 \n",
    "#Sabendo que a tupla tem a informacao sobre a midia digital, qtd de likes e #dislikes. Responda:\n",
    "\n",
    "dados = (('youtube', 550, 10),\n",
    "('facebook', 822, 50),\n",
    "('linkedin', 1226, 5), \n",
    "('instagram', 550000, 65))\n",
    "\n",
    "dados\n",
    "soma_likes = 0\n",
    "soma_dislikes = 0 \n",
    "media_likes = 0 \n",
    "media_dislikes = 0 \n",
    "maior = 0 \n",
    "menor = 0 \n",
    "lista_taxa_likes = []\n",
    "lista_taxa_dislikes = [] \n",
    "\n",
    "# Qual a soma total de likes?\n",
    "# Qual a soma total de dislikes?\n",
    "# Qual a media de likes?\n",
    "# Qual a média de dislikes? \n",
    "# Qual mídia apresenta maior e menor taxa de likes? \n",
    "# Faça uma alteração na tupla incluindo spotify com 968 likes e 31 dislikes\n",
    "# Retorne uma nova tupla. \n",
    "\n",
    "for i in dados:\n",
    "    nome, likes, dislikes = i \n",
    "    soma_likes += likes \n",
    "    soma_dislikes +=  dislikes\n",
    "    media_likes = soma_likes/4\n",
    "    media_dislikes = soma_dislikes/4\n",
    "    taxa_likes = likes / (likes + dislikes)\n",
    "    lista_taxa_likes.append(taxa_likes)\n",
    "    taxa_dislikes = dislikes / (dislikes + likes)\n",
    "    lista_taxa_dislikes.append(taxa_dislikes)\n",
    "    maximo = min(lista_taxa_likes)\n",
    "    minimo = max(lista_taxa_likes)\n",
    "    \n",
    "\n",
    "print(f'A soma dos likes é: {soma_likes}')\n",
    "print(f'A soma dos dislikes é: {soma_dislikes}')\n",
    "print(f'A media dos likes é: {media_likes}')\n",
    "print(f'A media dos dislikes é: {media_dislikes}')\n",
    "print(f'A mídia com maior taxa de likes é: {minimo}')\n",
    "print(f'A mídia com menor taxa de likes é: {maximo}')\n",
    "print(lista_taxa_likes)\n",
    "print(lista_taxa_dislikes)\n",
    "\n",
    "\n"
   ]
  },
  {
   "cell_type": "code",
   "execution_count": 20,
   "metadata": {},
   "outputs": [
    {
     "data": {
      "text/plain": [
       "(('youtube', 550, 10),\n",
       " ('facebook', 822, 50),\n",
       " ('linkedin', 1226, 5),\n",
       " ('instagram', 550000, 65),\n",
       " ('spotify', 968, 31))"
      ]
     },
     "execution_count": 20,
     "metadata": {},
     "output_type": "execute_result"
    }
   ],
   "source": [
    "dados\n",
    "lista = list(dados)\n",
    "lista.append(('spotify', 968, 31))\n",
    "nova_tupla = tuple(lista)\n",
    "nova_tupla"
   ]
  },
  {
   "cell_type": "code",
   "execution_count": null,
   "metadata": {},
   "outputs": [],
   "source": [
    "soma_likes = 0\n",
    "soma_dislikes = 0 \n",
    "for k in dados:\n",
    "    soma_likes += k[1]\n",
    "    soma_dislikes += k[2]\n",
    "    taxa_likes = likes / (likes + dislikes)\n",
    "    taxa_dislikes = dislikes / (dislikes + likes)\n"
   ]
  }
 ],
 "metadata": {
  "kernelspec": {
   "display_name": "Python 3",
   "language": "python",
   "name": "python3"
  },
  "language_info": {
   "codemirror_mode": {
    "name": "ipython",
    "version": 3
   },
   "file_extension": ".py",
   "mimetype": "text/x-python",
   "name": "python",
   "nbconvert_exporter": "python",
   "pygments_lexer": "ipython3",
   "version": "3.12.3"
  }
 },
 "nbformat": 4,
 "nbformat_minor": 2
}

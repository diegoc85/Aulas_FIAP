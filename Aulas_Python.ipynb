{
 "cells": [
  {
   "attachments": {},
   "cell_type": "markdown",
   "metadata": {},
   "source": [
    "# Exercício 01 = cálculo da área de um círculo"
   ]
  },
  {
   "cell_type": "code",
   "execution_count": null,
   "metadata": {},
   "outputs": [],
   "source": [
    "# Estrutura de entrada\n",
    "raio = float(input('Digite o valor do raio:'))\n",
    "real = 3.14159\n",
    "\n",
    "area_circulo = real * (raio**2)\n",
    "\n",
    "#Estrutura de saída\n",
    "print('A área do círculo é:{:.2f}'.format(area_circulo))\n"
   ]
  },
  {
   "cell_type": "code",
   "execution_count": null,
   "metadata": {},
   "outputs": [],
   "source": [
    "var1 = 'f'\n",
    "var2 = 'i'\n",
    "var3 = 'a'\n",
    "var4 = 'p'\n",
    "var_total = var1 + var2 + var3 + var4 # + é concatenar, juntar\n",
    "print(var_total)"
   ]
  },
  {
   "cell_type": "code",
   "execution_count": null,
   "metadata": {},
   "outputs": [],
   "source": [
    "x = int(input('Digite um valor:'))\n",
    "equacao = 2 * x + 10\n",
    "print('O valor da equação é:', equacao)\n"
   ]
  },
  {
   "cell_type": "code",
   "execution_count": null,
   "metadata": {},
   "outputs": [],
   "source": [
    "xis = int(input('Digite um valor:'))\n",
    "resultado = 25 * xis - 5\n",
    "\n",
    "print('O resultado da equação é:', resultado)"
   ]
  },
  {
   "cell_type": "code",
   "execution_count": null,
   "metadata": {},
   "outputs": [],
   "source": [
    "valor = int(input('Digite um valor:'))\n",
    "resultado = (10 * valor**2) + (2 * valor) + 10\n",
    "\n",
    "print('O resultado da equação é:', resultado)"
   ]
  },
  {
   "cell_type": "code",
   "execution_count": null,
   "metadata": {},
   "outputs": [],
   "source": [
    "# Variaveis de entrada - Ex. 1\n",
    "\n",
    "metro = float(input(\"insira um valor um metros:\"))\n",
    "milimetros = metro * 1000\n",
    "\n",
    "print(\"O valor em milimetros é:\", milimetros )\n"
   ]
  },
  {
   "cell_type": "code",
   "execution_count": null,
   "metadata": {},
   "outputs": [],
   "source": [
    "# Variáveis de entrada - Ex. 2\n",
    "\n",
    "dias = int(input('Digite o número de dias:'))\n",
    "horas = int(input('Digite o número de horas:'))\n",
    "minutos = int(input('Digite o número de minutos:'))\n",
    "segundos = int(input('Digite o número de segundos:'))\n",
    "\n",
    "dias_total = dias * 86.400\n",
    "horas_total = horas * 3.600\n",
    "minutos_total = minutos * 60\n",
    "\n",
    "total = dias_total + horas_total + minutos_total + segundos\n",
    "\n",
    "print('O valor total em segundos é:', total)\n"
   ]
  },
  {
   "cell_type": "code",
   "execution_count": null,
   "metadata": {},
   "outputs": [],
   "source": [
    "# Ex. 3\n",
    "\n",
    "preco_mercadoria = float(input('Digite o preço da mercadoria:'))\n",
    "desconto = float(input('Digite o desconto:'))\n",
    "\n",
    "valor_real_desc = (preco_mercadoria * desconto)/100\n",
    "preco_final = preco_mercadoria - (preco_mercadoria * desconto)/100\n",
    "\n",
    "print(\"O valor do desconto é:\", valor_real_desc)\n",
    "print('O valor da mercadoria com desconto é de R$:', preco_final)"
   ]
  },
  {
   "cell_type": "code",
   "execution_count": null,
   "metadata": {},
   "outputs": [],
   "source": [
    "# Ex. 4\n",
    "\n",
    "distancia = float(input('Digite a distância:'))\n",
    "velocidade_media = float(input('Digite a velocidade media:'))\n",
    "tempo = distancia / velocidade_media\n",
    "\n",
    "print('O tempo da viagem será de:', tempo, 'horas')\n",
    "\n"
   ]
  },
  {
   "cell_type": "code",
   "execution_count": null,
   "metadata": {},
   "outputs": [],
   "source": [
    "#Ex. 5\n",
    "\n",
    "print('Como gostaria de calcular a potencia?\\n a) V x I\\n b) R x I\\n c) V x R\\n - Digite a letra:')\n",
    "opcao = input()\n",
    "\n",
    "if opcao == 'a':\n",
    "    v = float (input('Digite a tensão(v):'))\n",
    "    i = float(input('Digite a corrente(i):'))\n",
    "    p = v * i\n",
    "    print('A potência é:', p)\n",
    "\n",
    "elif opcao == 'b':\n",
    "    r = float(input('Digite a resistência(r):'))\n",
    "    i = float(input('Digite a corrente(i):'))\n",
    "    p = r * i * i \n",
    "    print(\"A potência é:\", p)\n",
    "\n",
    "else:\n",
    "    v = float (input('Digite a tensão(v):'))\n",
    "    r = float(input('Digite a resistência(r):'))\n",
    "    p = (v**2 )/ r\n",
    "    print('A potência é:', p)\n",
    "\n",
    "\n",
    "    \n",
    "\n",
    "\n",
    " \n",
    "\n"
   ]
  },
  {
   "attachments": {},
   "cell_type": "markdown",
   "metadata": {},
   "source": [
    "1)\n",
    "\n",
    "1. Início\n",
    "2. Insira m\n",
    "3. Leia m\n",
    "4. milimetro = m * 1000\n",
    "5. Exibe milimetro\n",
    "6. Fim\n",
    "\n",
    "2)\n",
    "\n",
    "1. Início \n",
    "2. Insira dias, horas, minutos e segundos\n",
    "3. Leia dias, horas, minutos e segundos\n",
    "4. segundos = dias + horas + minutos + segundos\n",
    "5. Exibe segundos\n",
    "6. Fim\n",
    "\n",
    "1 dia = 24h = 86.400s\n",
    "1h = 60 min = 3.600s\n",
    "1 min = 60s\n",
    "\n",
    "\n",
    "3)\n",
    "\n",
    "quantidade_km = 300\n",
    "quantidade_dias = 3\n",
    "preco_pagar = quantidade_dias * 60 + quantidade_km * 0.15"
   ]
  },
  {
   "cell_type": "code",
   "execution_count": null,
   "metadata": {},
   "outputs": [],
   "source": [
    "# Ex. 6\n",
    "\n",
    "quantidade_km = float(input('Digite a quantidade de km percorridos:'))\n",
    "quantidade_dias = float(input('Digite a quantidade de dias pelos quais o carro foi alugado:'))\n",
    "\n",
    "preco_pagar = quantidade_dias * 60 + quantidade_km * 0.15\n",
    "\n",
    "print('O preço a pagar pelo uso do carro é de R$', preco_pagar)"
   ]
  },
  {
   "attachments": {},
   "cell_type": "markdown",
   "metadata": {},
   "source": [
    "Aula 3 - 15/03"
   ]
  },
  {
   "cell_type": "code",
   "execution_count": null,
   "metadata": {},
   "outputs": [],
   "source": [
    "from sympy import*\n",
    "x = Symbol ('x')"
   ]
  },
  {
   "cell_type": "code",
   "execution_count": null,
   "metadata": {},
   "outputs": [],
   "source": [
    "x**2 +  10*x + 10\n",
    "Derivative(x**2)\n",
    "Integral(x**2)\n",
    "3*x**2 + 10*x + 10"
   ]
  },
  {
   "cell_type": "code",
   "execution_count": null,
   "metadata": {},
   "outputs": [],
   "source": [
    "Derivative(x**2).doit()"
   ]
  },
  {
   "cell_type": "code",
   "execution_count": null,
   "metadata": {},
   "outputs": [],
   "source": [
    "Integral(x**2).doit()"
   ]
  },
  {
   "cell_type": "code",
   "execution_count": null,
   "metadata": {},
   "outputs": [],
   "source": [
    "from sympy.plotting import *"
   ]
  },
  {
   "cell_type": "code",
   "execution_count": null,
   "metadata": {},
   "outputs": [],
   "source": [
    "plot(x**2)"
   ]
  },
  {
   "cell_type": "code",
   "execution_count": null,
   "metadata": {},
   "outputs": [],
   "source": [
    "plot(x**3)"
   ]
  },
  {
   "cell_type": "code",
   "execution_count": null,
   "metadata": {},
   "outputs": [],
   "source": [
    "s = \"Let´s learn Python\"\n",
    "s[10:]"
   ]
  },
  {
   "cell_type": "code",
   "execution_count": null,
   "metadata": {},
   "outputs": [],
   "source": [
    "s = 'Pytho'\n",
    "s + 'n'"
   ]
  },
  {
   "cell_type": "code",
   "execution_count": null,
   "metadata": {},
   "outputs": [],
   "source": [
    "s = \"Python\"\n",
    "s + \" é \" + \"impressionante\""
   ]
  },
  {
   "cell_type": "code",
   "execution_count": null,
   "metadata": {},
   "outputs": [],
   "source": [
    "nome = input('Digite seu nome:')\n",
    "idade = int(input('Digite sua idade:'))\n",
    "cidade = input('Digite sua cidade:')\n",
    "\n",
    "print(\"Meu nome é \", nome, \", tenho\", idade, \"anos\", \"e moro na cidade de \", cidade, \".\")\n"
   ]
  },
  {
   "cell_type": "code",
   "execution_count": null,
   "metadata": {},
   "outputs": [],
   "source": [
    "\"Meu nome é %s, tenho %d anos e moro na cidade de %s\" %('Mark', 30, \"NY\")"
   ]
  },
  {
   "cell_type": "code",
   "execution_count": null,
   "metadata": {},
   "outputs": [],
   "source": [
    "print(\"Meu nome é %s, tenho %d anos e moro na cidade de %s.\" %(nome,idade,cidade))"
   ]
  },
  {
   "cell_type": "code",
   "execution_count": null,
   "metadata": {},
   "outputs": [],
   "source": [
    "nome = \"João\"\n",
    "grana = 51.34\n",
    "idade = 22\n",
    "\n",
    "\n",
    "\"%s tem %03d anos e R$%5.2f no bolso.\" %(nome, idade, grana)"
   ]
  },
  {
   "cell_type": "code",
   "execution_count": null,
   "metadata": {},
   "outputs": [],
   "source": [
    "nome = 'Diego'\n",
    "idade = 20\n",
    "grana = 51.34\n",
    "print(f\"{nome} tem {idade} anos e {grana} no bolso.\")"
   ]
  },
  {
   "cell_type": "code",
   "execution_count": null,
   "metadata": {},
   "outputs": [],
   "source": [
    "pal = \"Python\"\n",
    "char = pal[2]\n",
    "print(char)"
   ]
  },
  {
   "cell_type": "code",
   "execution_count": null,
   "metadata": {},
   "outputs": [],
   "source": [
    "fruta = 'banana'\n",
    "nova_fruta = fruta.replace('a', 'o')\n",
    "print(nova_fruta)\n"
   ]
  },
  {
   "cell_type": "code",
   "execution_count": null,
   "metadata": {},
   "outputs": [],
   "source": [
    "frutas = 'apple,banana,orange'\n",
    "frutas.split(',')"
   ]
  },
  {
   "cell_type": "code",
   "execution_count": null,
   "metadata": {},
   "outputs": [],
   "source": [
    "frase = '    Python     '\n",
    "frase.strip()"
   ]
  },
  {
   "cell_type": "code",
   "execution_count": null,
   "metadata": {},
   "outputs": [],
   "source": [
    "frase2 = '//// Python'\n",
    "frase2.strip('/ ')"
   ]
  },
  {
   "cell_type": "code",
   "execution_count": null,
   "metadata": {},
   "outputs": [],
   "source": [
    "nome = input('Digite seu nome:')\n",
    "segundo_nome = input('Digite seu segundo nome:')\n",
    "terceiro_nome = input('Digite seu terceiro nome:')\n",
    "\n",
    "print(f\"Seu nome é {nome.capitalize()} {segundo_nome.capitalize()} {terceiro_nome.capitalize()}\")"
   ]
  },
  {
   "cell_type": "code",
   "execution_count": null,
   "metadata": {},
   "outputs": [],
   "source": [
    "nome = input('Digite seu nome:')\n",
    "segundo_nome = input('Digite seu segundo nome:')\n",
    "terceiro_nome = input('Digite seu terceiro nome:')\n",
    "cpf = int(input('Digite os 11 dígitos do seu CPF:'))\n",
    "cidade = input('Digite sua cidade:')\n",
    "\n",
    "print(nome[0].upper() + nome[1:] + ' ' + segundo_nome[0].upper() + segundo_nome[1:] + ' ' + terceiro_nome[0].upper() + terceiro_nome[1:])\n",
    "print('Seu CPF é:', cpf)\n",
    "\n",
    "\n",
    "\n",
    "\n"
   ]
  },
  {
   "attachments": {},
   "cell_type": "markdown",
   "metadata": {},
   "source": [
    "Crie uma estrutura com 5 inputs, solicitando primeiro, seguno e terceiro nome, deixando a primeira letra de cada nome maiúsculo. Depois cria duas variáveis solicitando o CPF e a sua cidade. "
   ]
  },
  {
   "cell_type": "code",
   "execution_count": null,
   "metadata": {},
   "outputs": [],
   "source": [
    "\n",
    "cidade = input('Digite sua cidade:')\n",
    "if ' ' in cidade:\n",
    "    nova_cidade = cidade.split(' ')\n",
    "    nova_cidade[0][0].upper() + nova_cidade[0][1:]\n",
    "    nova_cidade[1][0].upper() + nova_cidade[1][1:]\n",
    "    print(nova_cidade[0][0].upper() + nova_cidade[0][1:] + ' ' + nova_cidade[1][0].upper() + nova_cidade[1][1:] )\n",
    "else:\n",
    "    print(cidade[0].upper() + cidade[1:])\n"
   ]
  },
  {
   "attachments": {},
   "cell_type": "markdown",
   "metadata": {},
   "source": [
    "AULA 04 - CONDICIONAIS - 22/03 "
   ]
  },
  {
   "cell_type": "code",
   "execution_count": null,
   "metadata": {},
   "outputs": [],
   "source": [
    "# Ex.1 \n",
    "n1 = 10\n",
    "n2 = 5\n",
    "n3 = 7\n",
    "\n",
    "media = (n1 + n2 + n3)/3\n",
    "\n",
    "if media >= 7:\n",
    "    print('Aprovado!', media)\n",
    "elif media >= 4 and media < 7:\n",
    "    print('Exame!')\n",
    "else:\n",
    "    print('Reprovado!')"
   ]
  },
  {
   "attachments": {},
   "cell_type": "markdown",
   "metadata": {},
   "source": [
    "1. Crie um algoritmo para calcular a média dentre 3 notas inseridas pelos usuário. Se a média for >= 7 aprovado, <7 ou <= 4, exame, <4 reprovado. Ou se o aluno tiver um artigo publicao, independente de nota, será aprovado. "
   ]
  },
  {
   "cell_type": "code",
   "execution_count": null,
   "metadata": {},
   "outputs": [],
   "source": [
    "artigo = input('Tem artigo publicado? S ou N')\n",
    "\n",
    "if artigo == 's' or artigo == 'S':\n",
    "    print('Aprovado!')\n",
    "else:\n",
    "    nota1 = float(input('Digite a primeira nota:'))\n",
    "    nota2 = float(input('Digite a segunda nota:'))\n",
    "    nota3 = float(input('Digite a terceira nota:'))\n",
    "\n",
    "    media = (nota1 + nota2 + nota3)/3\n",
    "\n",
    "    if media >= 7:\n",
    "        print('Aprovado!', media)\n",
    "    elif media >= 4 and media < 7:\n",
    "        print('Exame!', media)\n",
    "    else:\n",
    "        print('Reprovado!', media)\n",
    "\n",
    "\n",
    "\n"
   ]
  },
  {
   "attachments": {},
   "cell_type": "markdown",
   "metadata": {},
   "source": [
    "2. Escreva um programa que pergunte a velocidade do carro do usuário. Caso passe de 80 km/h, exiba uma mensagem dizendo que o usuário foi multado. Exibir a multa, cobrando R$ 5 a cada km/h acima do permitido. "
   ]
  },
  {
   "cell_type": "code",
   "execution_count": null,
   "metadata": {},
   "outputs": [],
   "source": [
    "velocidade = float(input('Digite a sua velocidade atual:'))\n",
    "multa = (velocidade - 80) * 5\n",
    "if velocidade > 80:\n",
    "    print('Você foi multado!', velocidade) #(velocidade - 80 * 5)\n",
    "    print('O valor da multa é de R$', multa)\n",
    "else:\n",
    "    print('Velocidade da via! Sem multa!')\n"
   ]
  },
  {
   "attachments": {},
   "cell_type": "markdown",
   "metadata": {},
   "source": [
    "3. Escreva um programa que peça ao usuário para digitar a idade e, em seguida, imprime uma mensagem indicando se a pessoa é uma crianca, adolescente, adulto ou idoso. "
   ]
  },
  {
   "cell_type": "code",
   "execution_count": null,
   "metadata": {},
   "outputs": [],
   "source": [
    "idade = int(input('Digite sua idade:'))\n",
    "\n",
    "if idade  < 12:\n",
    "    print('Você é uma criança!', idade)\n",
    "elif idade >= 12 and idade < 18:\n",
    "    print('Adolescente!', idade)\n",
    "elif 18 <= idade < 65:\n",
    "    print('Adulto!', idade)\n",
    "else:\n",
    "    print('Idoso!', idade)"
   ]
  },
  {
   "attachments": {},
   "cell_type": "markdown",
   "metadata": {},
   "source": [
    "4. Escreva um programa que verifica se um número é par ou ímpar. "
   ]
  },
  {
   "cell_type": "code",
   "execution_count": null,
   "metadata": {},
   "outputs": [],
   "source": [
    "numero = int(input('Digite um número:'))\n",
    "if numero % 2 == 0:\n",
    "    print('O número é par', numero)\n",
    "else:\n",
    "    print('O número é impar!', numero)\n"
   ]
  },
  {
   "attachments": {},
   "cell_type": "markdown",
   "metadata": {},
   "source": [
    "5. Escreva um programa que compare entre 3 números qual é o maior. "
   ]
  },
  {
   "cell_type": "code",
   "execution_count": null,
   "metadata": {},
   "outputs": [],
   "source": [
    "num1 = int(input('Digite o primeiro número:'))\n",
    "num2 = int(input('Digite o segundo número:'))\n",
    "num3 = int(input('Digite o terceiro número:'))\n",
    "maior = 0\n",
    "\n",
    "if num1 == num2 and num3 > num1 and num3 > num2:\n",
    "    print(maior, num3)\n",
    "elif num1 == num3 and num2 > num1 and num2 > num3:\n",
    "    print(maior, num2)\n",
    "    \n",
    "if num1 > num2:\n",
    "    if num1 > num3:\n",
    "        maior = num1\n",
    "        print(maior)\n",
    "    else:\n",
    "        maior = num3\n",
    "        print(maior)\n",
    "else:\n",
    "    if num2 > num3:\n",
    "        maior = num2\n",
    "        print(maior)\n",
    "    else:\n",
    "        maior = num3\n",
    "        print(maior)\n"
   ]
  },
  {
   "attachments": {},
   "cell_type": "markdown",
   "metadata": {},
   "source": [
    "6. Escreva um programa que mostre qual a sua cor favorita. Crie utilizando uma estrutura com números. "
   ]
  },
  {
   "cell_type": "code",
   "execution_count": null,
   "metadata": {},
   "outputs": [],
   "source": [
    "print('1. Azul')\n",
    "print('2. Vermelho')\n",
    "print('3. Amarelo')\n",
    "print('4. Preto')\n",
    "print('5. Branco')\n",
    "\n",
    "numero = int(input('Digite o número desejado:'))\n",
    "\n",
    "if numero == 1:\n",
    "    print('Azul')\n",
    "elif numero == 2:\n",
    "    print('Vermelho')\n",
    "elif numero == 3:\n",
    "    print('Amarelo')\n",
    "elif numero == 4:\n",
    "    print('Preto')\n",
    "else:\n",
    "    print('Branco')"
   ]
  },
  {
   "attachments": {},
   "cell_type": "markdown",
   "metadata": {},
   "source": [
    "7. Crie um programa para mostrar se o usuário deve pagar imposto em função da sua condição financeira (salário). \n",
    "salário < 2.000 - 10% de imposto sobre o salário\n",
    "2000 <= salario < 5000 - 20% de imposto sobre o salário \n",
    "5000 <= salario < 10.000 - 24% de imposto sobre o salário\n",
    "salario > 10000 - 30% de imposto sobre o salário"
   ]
  },
  {
   "cell_type": "code",
   "execution_count": null,
   "metadata": {},
   "outputs": [],
   "source": [
    "salario = float(input('Digite seu salário:'))\n",
    "\n",
    "if salario < 2000:\n",
    "    salario_final = salario - (salario * 0.1)\n",
    "    imposto = (salario * 0.1)\n",
    "    print('Imposto a pagar:', imposto)\n",
    "    print('Seu salário:', salario_final)\n",
    "elif 2000 <= salario < 5000:\n",
    "    salario_final = salario - (salario * 0.2)\n",
    "    imposto = (salario * 0.2)\n",
    "    print('Imposto a pagar:', imposto)\n",
    "    print('Seu salário:', salario_final)\n",
    "elif 5000 <= salario < 10000:\n",
    "    salario_final = salario - (salario * 0.24)\n",
    "    imposto = (salario * 0.24)\n",
    "    print('Imposto a pagar:', imposto)\n",
    "    print('Seu salário:', salario_final)\n",
    "else:\n",
    "    salario_final = salario - (salario * 0.3)\n",
    "    imposto = (salario * 0.3)\n",
    "    print('Imposto a pagar:', imposto)\n",
    "    print('Seu salário:', salario_final)\n",
    "\n",
    "\n",
    "\n",
    "\n"
   ]
  },
  {
   "attachments": {},
   "cell_type": "markdown",
   "metadata": {},
   "source": [
    "8. Crie um programa para o usuário inserir o dia da semana e printar dia de balada caso seja sábado, caso seja domingo, deverá printar dia de netflix, futebol ou cinema. Caso seja dia da semana, print dia de estudar ou trabalhar. "
   ]
  },
  {
   "cell_type": "code",
   "execution_count": null,
   "metadata": {},
   "outputs": [],
   "source": [
    "dia_semana = str(input('Digite o dia da semana:'))\n",
    "\n",
    "if dia_semana == 'sábado' or dia_semana == 'sabado' or dia_semana == 'Sábado':\n",
    "    print('Dia de balada!')\n",
    "elif dia_semana == 'Domingo' or dia_semana == 'domingo':\n",
    "    print('Dia de Netflix, futebol ou cinema!')\n",
    "else:\n",
    "    print('Dia de trabalhar ou estudar!')"
   ]
  },
  {
   "attachments": {},
   "cell_type": "markdown",
   "metadata": {},
   "source": [
    "9. Crie um programa para verificar se uma pessoa pode ou não votar em função da sua idade e do título de eleitor. Caso a pessoa tenha 16 anos ou 17 anos , pergunte se ela quer votar, se sim, pergunte se tem título de eleitor, caso tenha, print permitido votar. Caso a pessoa tenha 16 ou 17 anos e não queira votar, print é seu direito. Caso tenha idade maior ou igual a 18 anos, obrigatório votar."
   ]
  },
  {
   "cell_type": "code",
   "execution_count": null,
   "metadata": {},
   "outputs": [],
   "source": [
    "idade = int(input('Digite sua idade:'))\n",
    "\n",
    "if idade == 16 or idade == 17 or idade > 70:\n",
    "    votar = str(input(' Seu voto é facultativo. Quer votar mesmo assim? S ou N'))\n",
    "    if votar == 's' or votar == 'S':\n",
    "        titulo_eleitor = str(input('Tem título de eleitor? S ou N'))\n",
    "        if titulo_eleitor == 'S' or titulo_eleitor == 's': #upper\n",
    "            print('Pode votar!')\n",
    "        else:\n",
    "            print('Tire seu título de eleitor!')\n",
    "    else:\n",
    "        print('Pense bem, é seu direito!')\n",
    "\n",
    "elif idade < 16:\n",
    "    print('Você não pode votar ainda!')\n",
    "else:\n",
    "    print('Seu voto é obrigatório! Tire seu título de eleitor, caso não tenha!')\n"
   ]
  },
  {
   "cell_type": "code",
   "execution_count": null,
   "metadata": {},
   "outputs": [],
   "source": [
    "letra = str(input('Digite uma letra')).lower()\n",
    "palavra = str(input('Digite uma palavra:')).lower()\n",
    "\n",
    "if letra in palavra:\n",
    "    print(letra)\n",
    "else:\n",
    "    print('Não está na palavra')"
   ]
  },
  {
   "cell_type": "code",
   "execution_count": null,
   "metadata": {},
   "outputs": [],
   "source": [
    "lista = ['segunda', 'terça', 'quarta', 'quinta', 'sexta']\n",
    "\n",
    "dia = str(input('Digite o dia da semana:'))\n",
    "if dia in lista:\n",
    "    print('Dia está na lista!')"
   ]
  },
  {
   "cell_type": "code",
   "execution_count": null,
   "metadata": {},
   "outputs": [],
   "source": [
    "nome = str(input('Digite seu nome:'))\n",
    "idade = int(input(nome + ', Digite sua idade:'))"
   ]
  },
  {
   "cell_type": "code",
   "execution_count": null,
   "metadata": {},
   "outputs": [],
   "source": [
    "#Estrutura condicional aninhada\n",
    "#Ex. 1\n",
    "idade = int(input('Insira sua idade:'))\n",
    "total_compra = float(input('Insira o valor da sua compra:'))\n",
    "\n",
    "if idade >= 65:\n",
    "    if total_compra >= 100:\n",
    "        print('Você terá 10% de desconto')\n",
    "    else:\n",
    "        print('Você não terá direito ao desconto por causa do valor da compra.')\n",
    "else:\n",
    "    print('Você está fora da faixa de idade para ter o desconto.')"
   ]
  },
  {
   "cell_type": "code",
   "execution_count": null,
   "metadata": {},
   "outputs": [],
   "source": [
    "# Ex.2 - Crie um programa para solicitar idade do carro e marca do carro. Se a faixa de idade estiver\n",
    "# entre 2013 e 2015, solicite a marca do carro e, caso a marca do carro seja Volvo, imprima\n",
    "# o carro é Volvo e foi fabricado entre 2013 e 2015. Carro entre os anos 2013 e 2015\n",
    "# mas não é Volvo. Seu carro está fora da faixa dos anos. \n",
    "\n",
    "idade = int(input('Digite o ano de fabricação do carro:'))\n",
    "\n",
    "\n",
    "\n",
    "if 2013 <= idade <= 2015:\n",
    "    marca = str(input('Qual a marca do carro?'))\n",
    "    if marca == 'Volvo':\n",
    "        print('O carro é Volvo e foi fabricado entre 2013 e 2015')\n",
    "    else:\n",
    "        print('O carro está dentro da faixa de anos, mas não é Volvo')\n",
    "else:\n",
    "    print('O carro está fora da faixa de idade!')\n",
    "\n",
    "\n",
    "\n",
    "\n"
   ]
  },
  {
   "cell_type": "code",
   "execution_count": null,
   "metadata": {},
   "outputs": [],
   "source": [
    "# Ex. 3 - Verificação de horário do dia e temperatura para sugerir uma atividade\n",
    "# 6 <= hora < 12h e a temperatura > 20, é hora de fazer uma caminhada no parque. \n",
    "# Hora de tomar um café da manhã. \n",
    "# 12 <= hora < 18h e a temperatura > 25, que tal um piquenique?. \n",
    "# Hora de almoçar. \n",
    "# hora de relaxar em casa.\n",
    "\n",
    "hora = int(input('Digite a hora do dia:'))\n",
    "temperatura = int(input('Digte a temperatura atual:'))\n",
    "\n",
    "if  6 <= hora < 12:\n",
    "    if temperatura > 20:\n",
    "        print('É hora de fazer uma caminhada no parque')\n",
    "    else:\n",
    "        print('É hora de tomar um café da manhã!')\n",
    "elif 12 <= hora < 18: #se ja tiver um if, colocar um elif, senão nao saberá a prioridade. \n",
    "    if temperatura > 25:\n",
    "        print('Que tal um piquenique?')\n",
    "    else:\n",
    "        print('É hora de almoçar')\n",
    "else:\n",
    "    print('É hora de relaxar em casa!')\n",
    "\n"
   ]
  },
  {
   "cell_type": "code",
   "execution_count": null,
   "metadata": {},
   "outputs": [],
   "source": [
    "# ex.4 - Verificação de status de um pedido com base na idade do pedido e no tipo de cliente \n",
    "# idade < 7 e cliente VIP - Seu pedido está sendo preparado para entrega expressa!\n",
    "# else - seu pedido será entregue em breve.\n",
    "# 7 < idade < 14 e cliente VIP - Seu pedido está em processo de embalagem especial \n",
    "# else - seu pedido está sendo preparado\n",
    "# else - seu pedido está a caminho. \n",
    "\n",
    "idade_pedido = int(input('Há quanto tempo você é cliente:'))\n",
    "tipo_cliente = str(input('Você é cliente VIP? Sim ou Não'))\n",
    "\n",
    "if idade_pedido < 7:\n",
    "    if tipo_cliente == 'Sim':\n",
    "        print('Seu pedido está sendo preparado para entrega expressa!')\n",
    "    else:\n",
    "        print('Seu pedido será entregue em breve.')\n",
    "elif 7 < idade_pedido < 14:\n",
    "    if tipo_cliente == 'Sim':\n",
    "        print('Seu pedido está em processo de embalagem especial')\n",
    "    else:\n",
    "        print('Seu pedido está sendo preparado')\n",
    "else:\n",
    "    print('Seu pedido está a caminho')\n",
    "\n",
    "\n",
    "\n"
   ]
  },
  {
   "cell_type": "code",
   "execution_count": null,
   "metadata": {},
   "outputs": [],
   "source": [
    "i = 0\n",
    "while i <= 5:\n",
    "    print(i)\n",
    "    i += 5 "
   ]
  },
  {
   "cell_type": "code",
   "execution_count": null,
   "metadata": {},
   "outputs": [],
   "source": [
    "#Fatorial \n",
    "\n",
    "resultado = 1\n",
    "numero = 0\n",
    "\n",
    "while numero < 5:\n",
    "    numero += 1 \n",
    "    resultado *= numero \n",
    "    print(resultado)\n",
    "\n",
    "\n"
   ]
  },
  {
   "cell_type": "code",
   "execution_count": null,
   "metadata": {},
   "outputs": [],
   "source": [
    "# https://pythontutor.com/\n",
    "contador = 10\n",
    "\n",
    "while contador > 0:\n",
    "    contador -= 1\n",
    "    print(contador)"
   ]
  },
  {
   "cell_type": "code",
   "execution_count": null,
   "metadata": {},
   "outputs": [],
   "source": [
    "# Ex.1 - Crie um progama pra solicita temperaturas em Farenheit e converter para Celsius. Enquanto for diferente  de alguma\n",
    "#coisa, continue esta estrutura. \n",
    "\n",
    "temp_celsius = 0\n",
    "temp_farenheit =  float(input('Digite um valor de temperatura:'))\n",
    "\n",
    "while temp_farenheit != 0:\n",
    "    temp_celsius = (5/9) * (temp_farenheit - 32)\n",
    "    print(f\"{temp_farenheit}°F - {temp_celsius} °C\")\n",
    "    temp_farenheit = float(input(\"Insira um valor de temperatura\"))"
   ]
  },
  {
   "cell_type": "code",
   "execution_count": null,
   "metadata": {},
   "outputs": [],
   "source": [
    "#Crie um programa para solicitar um número para o usuário, crie uma variável\n",
    "#contador = 1, utilize a estrutura while para contar até que o contador seja menor\n",
    "#ou igual a numero, print contador, \n",
    "#incrimente contador em +1\n",
    "\n",
    "contador = 1\n",
    "numero = int(input('Digite um número:'))\n",
    "\n",
    "while contador <= numero:\n",
    "    print(contador)\n",
    "    contador += 1\n",
    "\n",
    "    \n",
    "\n",
    "\n",
    "\n"
   ]
  },
  {
   "cell_type": "code",
   "execution_count": null,
   "metadata": {},
   "outputs": [],
   "source": [
    "#Crie um programa pra contar de 0 té 10, depois crie um programa para contagem\n",
    "#decrescente.\n",
    "\n",
    "contador = 0\n",
    "\n",
    "while contador <= 10:\n",
    "    print(contador)\n",
    "    contador += 1\n"
   ]
  },
  {
   "cell_type": "code",
   "execution_count": null,
   "metadata": {},
   "outputs": [],
   "source": [
    "contador = 10\n",
    "\n",
    "while contador >= 0:\n",
    "    print(contador)\n",
    "    contador -= 1\n"
   ]
  },
  {
   "cell_type": "code",
   "execution_count": null,
   "metadata": {},
   "outputs": [],
   "source": [
    "lista = [1, 4, 6]\n",
    "lista_letras = ['a', 'b', 'c', 'd']\n",
    "\n",
    "print(len(lista))\n",
    "print(len(lista_letras))"
   ]
  },
  {
   "cell_type": "code",
   "execution_count": null,
   "metadata": {},
   "outputs": [],
   "source": [
    "letra = str(input('Digite uma palavra ou texto:'))\n",
    "\n",
    "print('A quantidade de caracteres é:', len(letra))\n"
   ]
  },
  {
   "cell_type": "code",
   "execution_count": null,
   "metadata": {},
   "outputs": [],
   "source": [
    "frase = input('Digite uma frase:')\n",
    "\n",
    "contagem = 0\n",
    "indice = 0\n",
    "\n",
    "while indice < len(frase):\n",
    "    if frase[indice] == 'a':\n",
    "        contagem += 1\n",
    "    indice += 1\n",
    "print(f'A letra A aparece, {contagem}, vezes na frase')\n"
   ]
  },
  {
   "cell_type": "code",
   "execution_count": null,
   "metadata": {},
   "outputs": [],
   "source": [
    "#https://www.multitracks.com.br/products/chartbuilder/\n",
    "\n",
    "#Crie um programa para solicitar ao usuário um nome e traga apenas a última letra do nome.\n",
    "\n",
    "nome = input(\"Insira seu nome:\")\n",
    "ultima_letra = nome[len(nome)-1]\n",
    "print(ultima_letra)\n"
   ]
  },
  {
   "cell_type": "code",
   "execution_count": null,
   "metadata": {},
   "outputs": [],
   "source": [
    "numeros = [10,5,30]\n",
    "\n",
    "soma = 0\n",
    "indice = 0\n",
    "\n",
    "while indice < len(numeros):\n",
    "    soma += numeros[indice]\n",
    "    indice += 1\n",
    "\n",
    "media = soma / len(numeros)\n",
    "\n",
    "print(soma)\n",
    "print(media)"
   ]
  },
  {
   "attachments": {},
   "cell_type": "markdown",
   "metadata": {},
   "source": [
    "Crie um programa para calcular a media ponderada de cinco notas. Pense em como pode ser calculado a média ponderada,\n",
    "lembrando que existem pesos que podem influenciar mais ou menos."
   ]
  },
  {
   "cell_type": "code",
   "execution_count": null,
   "metadata": {},
   "outputs": [],
   "source": [
    "n1 = float(input('Digite a primeira nota:'))\n",
    "p1 = float(input('Digite o pesoa da n1:'))\n",
    "n2 = float(input('Digite a segunda nota:'))\n",
    "p2 = float(input('Digite o pesoa da n2:'))\n",
    "n3 = float(input('Digite a terceira nota:'))\n",
    "p3 = float(input('Digite o pesoa da n3:'))\n",
    "n4 = float(input('Digite a quarta nota:'))\n",
    "p4 = float(input('Digite o pesoa da n4:'))\n",
    "n5 = float(input('Digite a quinta nota:'))\n",
    "p5 = float(input('Digite o pesoa da n5:'))\n",
    "soma_pesos = p1+p2+p3+p4+p5\n",
    "media_ponderada = (p1*n1 + p2*n2 + p3*n3 + p4*n4 + p5*n5)/(soma_pesos)\n",
    "\n",
    "print(f'A média ponderada das notas digitadas é de: {media_ponderada}' + '.')\n"
   ]
  },
  {
   "attachments": {},
   "cell_type": "markdown",
   "metadata": {},
   "source": [
    "Crie um programa para solicitar ao usuário um e-mail, senha e um código de segurança para acessar a sua conta"
   ]
  },
  {
   "cell_type": "code",
   "execution_count": null,
   "metadata": {},
   "outputs": [],
   "source": [
    "email = str(input('Digite seu e-mail:'))\n",
    "\n",
    "\n",
    "\n",
    "if email == 'diegoc.spv85@gmail.com':\n",
    "    senha = str(input('Digite a sua senha:'))\n",
    "    if senha == 'f12345':\n",
    "        codigo = str(input('Digite seu código de segurança:'))  \n",
    "        if codigo == '12345':\n",
    "            print('Login efetuado com sucesso!')\n",
    "        else:\n",
    "            print('Código inválido. Tente novamente!')\n",
    "    else:\n",
    "        print('Senha incorreta. Digite novamente!')\n",
    "else:\n",
    "    print('E-mail não cadastrado. Tente novamente!')\n",
    "\n",
    "\n"
   ]
  },
  {
   "attachments": {},
   "cell_type": "markdown",
   "metadata": {},
   "source": [
    "Crie um programa pra calcular o imposto a ser pago  no ano em função da faixa de salário do funcionário\n"
   ]
  },
  {
   "cell_type": "code",
   "execution_count": null,
   "metadata": {},
   "outputs": [],
   "source": [
    "salario_mensal = float(input('Digite seu salário mensal:'))\n",
    "salario_anual = salario_mensal * 12\n",
    "\n",
    "if salario_mensal < 1412:\n",
    "    imposto = salario_anual * 0.075\n",
    "    print(f'Seu imposto a pagar é de R$ {imposto}')\n",
    "    print(salario_anual)\n",
    "elif salario_mensal >= 1412.01 and salario_mensal < 2666.68:\n",
    "    salario_anual = salario_mensal * 12\n",
    "    imposto = salario_anual * 0.09\n",
    "    print(salario_anual)\n",
    "    print(f'Seu imposto a pagar é de R$ {imposto}')\n",
    "elif salario_mensal >= 2666.69 and salario < 4000.03:\n",
    "    imposto = salario_anual * .012\n",
    "    print(f'Seu imposto a pagar é de R$ {imposto}')\n",
    "elif salario_mensal >= 4000.04 and salario < 7786.02:\n",
    "    imposto = salario_anual * 0.14\n",
    "    print(f'Seu imposto a pagar é de R$ {imposto}')\n",
    "else:\n",
    "    imposto = salario_anual * 0.275\n",
    "    print(f'Seu imposto a pagar é de R$ {imposto}')\n"
   ]
  },
  {
   "cell_type": "code",
   "execution_count": null,
   "metadata": {},
   "outputs": [],
   "source": []
  },
  {
   "attachments": {},
   "cell_type": "markdown",
   "metadata": {},
   "source": [
    "Crie um programa para facilitar o trabalho para uma empresa que trabalha com convenio. Se a pessoa contratou convenio tempo menor ou igual a 6 meses, poderá fazer apenas exames de sangue. Se a pessoa contratou convenio com mais de 6 meses e até 12 meses, poderá fazer apenas exames de sangue e radiografias. Se a pessoa contratou convenio com mais de 12 mes, poderá fazer exames mais complexos, porém, será necessário solicitar permissão para o convenio. "
   ]
  },
  {
   "attachments": {},
   "cell_type": "markdown",
   "metadata": {},
   "source": [
    "ESTRUTURA DE REPETIÇÃO FOR"
   ]
  },
  {
   "cell_type": "code",
   "execution_count": null,
   "metadata": {},
   "outputs": [],
   "source": [
    "lista = ['a','b','c','d']\n",
    "cont = 0\n",
    "while 'a' in lista:\n",
    "    print('Achou o a')\n",
    "    \n"
   ]
  },
  {
   "cell_type": "code",
   "execution_count": null,
   "metadata": {},
   "outputs": [],
   "source": [
    "i = 1\n",
    "while i < 6:\n",
    "  print(i)\n",
    "  if i == 3:\n",
    "    break\n",
    "  i += 1"
   ]
  },
  {
   "cell_type": "code",
   "execution_count": null,
   "metadata": {},
   "outputs": [],
   "source": [
    "i = 0\n",
    "while i < 6:\n",
    "  i += 1\n",
    "  if i == 3:\n",
    "    continue\n",
    "  print(i)"
   ]
  },
  {
   "cell_type": "code",
   "execution_count": null,
   "metadata": {},
   "outputs": [],
   "source": [
    "soma = 0\n",
    "\n",
    "for i in range(1,4):\n",
    "    soma += i\n",
    "    print('A soma dos números de 1 a 3 é:', soma)\n"
   ]
  },
  {
   "cell_type": "code",
   "execution_count": null,
   "metadata": {},
   "outputs": [],
   "source": [
    "sub = 0\n",
    "\n",
    "for i in range(1,4):\n",
    "    sub -= i\n",
    "    print(i)\n",
    "print(sub)"
   ]
  },
  {
   "cell_type": "code",
   "execution_count": null,
   "metadata": {},
   "outputs": [],
   "source": [
    "mult = 1\n",
    "# não preciso declarar o i fora da estrutura, pois ela será usada dentro da estrutura\n",
    "for i in range(1,4):\n",
    "    mult *= i\n",
    "    print(mult)"
   ]
  },
  {
   "cell_type": "code",
   "execution_count": null,
   "metadata": {},
   "outputs": [],
   "source": [
    "for i in range(1,11,2):\n",
    "    print(i)"
   ]
  },
  {
   "cell_type": "code",
   "execution_count": null,
   "metadata": {},
   "outputs": [],
   "source": [
    "for i in range(1,11):\n",
    "    print(i)\n",
    "    if i == 5:\n",
    "        break"
   ]
  },
  {
   "cell_type": "code",
   "execution_count": null,
   "metadata": {},
   "outputs": [],
   "source": [
    "lista_car = ['a','b','c','d','e']\n",
    "for k in lista_car:\n",
    "    print(k)\n",
    "    if k == 'c':\n",
    "        break"
   ]
  },
  {
   "cell_type": "code",
   "execution_count": null,
   "metadata": {},
   "outputs": [],
   "source": [
    "for k in range(1,10):\n",
    "    if k %2 == 0:\n",
    "        continue\n",
    "    print(k)"
   ]
  },
  {
   "cell_type": "code",
   "execution_count": null,
   "metadata": {},
   "outputs": [],
   "source": [
    "lista_car = ['a','b','c','d','e']\n",
    "\n",
    "for k in lista_car:\n",
    "    if k == 'c':\n",
    "        continue\n",
    "    print(k)"
   ]
  },
  {
   "attachments": {},
   "cell_type": "markdown",
   "metadata": {},
   "source": [
    "Exercícios \n",
    "1. Crie uma estrutura para parar na letra a. \n",
    "2. Crie uma estrutura para não mostrar as vogais o. \n",
    "\n"
   ]
  },
  {
   "cell_type": "code",
   "execution_count": null,
   "metadata": {},
   "outputs": [],
   "source": [
    "lista = ['g','h','s','t','a','b']\n",
    "\n",
    "for k in lista:\n",
    "    print(k)\n",
    "    if k == 'a':\n",
    "        break\n",
    "    "
   ]
  },
  {
   "cell_type": "code",
   "execution_count": null,
   "metadata": {},
   "outputs": [],
   "source": [
    "#continue não é para imprimir. Break pode.\n",
    "palavra = 'Hoje tem aula de Python'\n",
    "\n",
    "for k in palavra:\n",
    "    if k == 'o':\n",
    "        continue \n",
    "    print(k) #se colocar o print antes, vai imprimir antes de verificar\n",
    "    "
   ]
  },
  {
   "attachments": {},
   "cell_type": "markdown",
   "metadata": {},
   "source": [
    "3. Crie um programa para solicitar ao usuário que digite algumas palavras. Em seguida, cria uma estrutura para quebrar/parar em uma palavra selecionada pelo usuário que foi digitada anteriormente."
   ]
  },
  {
   "cell_type": "code",
   "execution_count": null,
   "metadata": {},
   "outputs": [],
   "source": [
    "palavras = []\n",
    "\n",
    "for i in range(3):\n",
    "    palavra = input('Digite uma palavra:')\n",
    "    palavras.append(palavra)\n",
    "\n",
    "print(palavras)\n",
    "\n",
    "palavra_chave = input('Digite uma palavra digitada anteriormente:')\n",
    "\n",
    "for n in palavras:\n",
    "    if n in palavra_chave:\n",
    "        break\n",
    "    print(n)\n"
   ]
  },
  {
   "cell_type": "code",
   "execution_count": null,
   "metadata": {},
   "outputs": [],
   "source": [
    "palavra = 'hOje é diA dE happy hOur'\n",
    "vogais = 'aeiouAEIOU'\n",
    "contador = 0\n",
    "\n",
    "for i in palavra:\n",
    "    if i in vogais:\n",
    "        contador += 1\n",
    "print(contador)\n",
    "\n"
   ]
  },
  {
   "cell_type": "code",
   "execution_count": null,
   "metadata": {},
   "outputs": [],
   "source": [
    "palavras = ['Hoje', 'é', 'dia', 'de', 'happy']\n",
    "\n",
    "palavras.append('hour')\n",
    "\n",
    "texto = ' '.join(palavras)\n",
    "texto\n",
    "\n"
   ]
  },
  {
   "cell_type": "code",
   "execution_count": null,
   "metadata": {},
   "outputs": [],
   "source": [
    "texto = str(input('Digite um texto:'))\n",
    "palavras = texto.split(' ')\n",
    "palavra_chave = str(input('Digite a palavra desejada do texto:'))\n",
    "\n",
    "for palavras in texto:\n",
    "    print(k)\n",
    "    if palavra_chave in palavras:\n",
    "        break\n",
    "\n"
   ]
  },
  {
   "cell_type": "code",
   "execution_count": null,
   "metadata": {},
   "outputs": [],
   "source": [
    "cidades=[]\n",
    "\n",
    "for i in range(0,3):\n",
    "    \n",
    "    cidade = input('Digite a primeira cidade')\n",
    "    resultado = cidades.append(cidade)\n",
    "    \n",
    "\n",
    "print(cidades)"
   ]
  },
  {
   "attachments": {},
   "cell_type": "markdown",
   "metadata": {},
   "source": [
    "Calcular a media entre duas notas solicitando 3 vezes a nota 1 e 2"
   ]
  },
  {
   "cell_type": "code",
   "execution_count": null,
   "metadata": {},
   "outputs": [],
   "source": [
    "for i in range(3):\n",
    "    nota1 = float(input('Digite a primeira:'))\n",
    "    nota2 = float(input('Digita a segunda'))\n",
    "\n",
    "    media = (nota1 + nota2) / 2\n",
    "    print('A média é:', media)"
   ]
  },
  {
   "attachments": {},
   "cell_type": "markdown",
   "metadata": {},
   "source": [
    "4. Crie um programa para solicitar ao usuário uma palavra. Em seguida, crie uma\n",
    "estrutura para não mostrar uma palavra selecionada pelo usuário. "
   ]
  },
  {
   "cell_type": "code",
   "execution_count": null,
   "metadata": {},
   "outputs": [],
   "source": [
    "palavras = []\n",
    "\n",
    "for i in range(3):\n",
    "    palavra = input('Digite uma palavra:')\n",
    "    palavras.append(palavra)\n",
    "\n",
    "print(palavras)\n",
    "\n",
    "palavra_chave = input('Digite uma palavra digitada anteriormente:')\n",
    "\n",
    "for n in palavras:\n",
    "    if n in palavra_chave:\n",
    "        continue\n",
    "    print(n)"
   ]
  },
  {
   "attachments": {},
   "cell_type": "markdown",
   "metadata": {},
   "source": [
    "5. Crie um programa para solicitar nome, sobrenome, CPF e RG de quatro pessoas."
   ]
  },
  {
   "cell_type": "code",
   "execution_count": null,
   "metadata": {},
   "outputs": [],
   "source": [
    "\n",
    "pessoas = [[],[],[],[]]\n",
    "cont = 0\n",
    "\n",
    "for i in range(4):\n",
    "    nome = input('Digite seu nome:')\n",
    "    pessoas[cont].append(nome)\n",
    "    sobrenome = input('Digite seu sobrenome:')\n",
    "    pessoas[cont].append(sobrenome)\n",
    "    cpf = int(input('Digite seu CPF:'))\n",
    "    pessoas[cont].append(cpf)\n",
    "    rg = int(input('Digite seu RG:'))\n",
    "    pessoas[cont].append(rg)\n",
    "    cont += 1\n",
    "\n",
    "print(pessoas)\n"
   ]
  },
  {
   "attachments": {},
   "cell_type": "markdown",
   "metadata": {},
   "source": [
    "Crie um programa para somar os valores de duas listas\n",
    "https://pythontutor.com/python-compiler.html#mode=edit"
   ]
  },
  {
   "cell_type": "code",
   "execution_count": null,
   "metadata": {},
   "outputs": [],
   "source": [
    "lista1 = [10,20,30]\n",
    "lista2 = [5,10,15]\n",
    "\n",
    "somar = [lista1[i] + lista2[i] for i in range(len(lista1))]\n",
    "somar"
   ]
  },
  {
   "attachments": {},
   "cell_type": "markdown",
   "metadata": {},
   "source": [
    "CP 2: Estrutura de repetição com for e while em listas. "
   ]
  },
  {
   "cell_type": "code",
   "execution_count": null,
   "metadata": {},
   "outputs": [],
   "source": [
    "lista_numerica = [1,2,3,4,5]\n",
    "lista_letras = ['a','b','c','d']\n",
    "\n",
    "for i in lista_numerica:\n",
    "    print (i)\n",
    "for i in lista_letras:\n",
    "    print(i)"
   ]
  },
  {
   "cell_type": "code",
   "execution_count": null,
   "metadata": {},
   "outputs": [],
   "source": [
    "lista_letras = ['a','b','c','d']\n",
    "\n",
    "for i in lista_letras:\n",
    "    if i=='c':\n",
    "        continue\n",
    "    print(i)"
   ]
  },
  {
   "cell_type": "code",
   "execution_count": null,
   "metadata": {},
   "outputs": [],
   "source": [
    "soma = 0\n",
    "\n",
    "for i in range(1,6):\n",
    "    soma += i\n",
    "print(soma)"
   ]
  },
  {
   "cell_type": "code",
   "execution_count": null,
   "metadata": {},
   "outputs": [],
   "source": [
    "lista_letras = ['a','b','c','d']\n",
    "for i in lista_letras:\n",
    "    print(i)\n",
    "    if i =='c':\n",
    "        break"
   ]
  },
  {
   "cell_type": "code",
   "execution_count": null,
   "metadata": {},
   "outputs": [],
   "source": [
    "lista_original=[1,2,3,4,5]\n",
    "\n",
    "nova_lista = []\n",
    "\n",
    "for k in lista_original:\n",
    "    nova_lista .append(k*2)\n",
    "print(nova_lista)"
   ]
  },
  {
   "attachments": {},
   "cell_type": "markdown",
   "metadata": {},
   "source": [
    "Crie um programa para solicitar nomes e inserir os respectivos nomes em uma lista. \n"
   ]
  },
  {
   "cell_type": "code",
   "execution_count": null,
   "metadata": {},
   "outputs": [],
   "source": [
    "nomes = []\n",
    "quantidade_nomes = int(input('Digite a quantidade de nomes desejada:'))\n",
    "\n",
    "for i in range(quantidade_nomes):\n",
    "    nome = str(input('Digite o nome:'))\n",
    "    nomes.append(nome)\n",
    "print(nomes)"
   ]
  },
  {
   "cell_type": "code",
   "execution_count": null,
   "metadata": {},
   "outputs": [],
   "source": [
    "nomes = []\n",
    "quantidade_nomes = int(input('Digite a quantidade de nomes desejada:'))\n",
    "i = 0\n",
    "while i < quantidade_nomes:\n",
    "    nome = str(input('Digite o nome:'))\n",
    "    nomes.append(nome)\n",
    "    i += 1\n",
    "print(nomes)"
   ]
  },
  {
   "attachments": {},
   "cell_type": "markdown",
   "metadata": {},
   "source": [
    "contador += 1\n",
    "if nome ='ana':\n",
    "    break"
   ]
  },
  {
   "cell_type": "code",
   "execution_count": null,
   "metadata": {},
   "outputs": [],
   "source": [
    "lista_nomes = []\n",
    "contador = 0\n",
    "while contador < 3:\n",
    "    nome = input('Digite um nome')\n",
    "    lista_nomes.append(nome)\n",
    "    contador += 1\n",
    "    \n",
    "print(lista_nomes)"
   ]
  },
  {
   "cell_type": "code",
   "execution_count": null,
   "metadata": {},
   "outputs": [],
   "source": [
    "palavras = ['python', 'javascript']\n",
    "\n",
    "for i in palavras:\n",
    "    for letra in i:\n",
    "        print(letra)\n"
   ]
  },
  {
   "cell_type": "code",
   "execution_count": null,
   "metadata": {},
   "outputs": [],
   "source": [
    "for i in range(1,5):\n",
    "    for k in range(1,5):\n",
    "        print(i*k, end=\" \")\n"
   ]
  },
  {
   "attachments": {},
   "cell_type": "markdown",
   "metadata": {},
   "source": [
    "1. Crie um programa que simule uma tabuada apenas de multiplicação\n",
    "2. Crie um programa que simule uma tabuada apenas de multiplicação e insira em uma lista chamada lista_multi\n",
    "3. Crie um programa que simule as quatro operações (soma, subtração, multiplicação e divisão) e insira isso em quatro\n",
    "listas. "
   ]
  },
  {
   "cell_type": "code",
   "execution_count": null,
   "metadata": {},
   "outputs": [],
   "source": [
    "num = int(input('Digite o número:'))\n",
    "\n",
    "for i in range(11):\n",
    "    print(f'{num} * {i} = ',num*i)\n"
   ]
  },
  {
   "cell_type": "code",
   "execution_count": null,
   "metadata": {},
   "outputs": [],
   "source": [
    "for i in range(1,11):\n",
    "    for k in range(1,11):\n",
    "        print(i*k, end=\" \")"
   ]
  },
  {
   "cell_type": "code",
   "execution_count": null,
   "metadata": {},
   "outputs": [],
   "source": [
    "lista_multi = []\n",
    "multi = 0\n",
    "num = int(input('Digite o número:'))\n",
    "\n",
    "for i in range(11):\n",
    "    multi = num * i\n",
    "    lista_multi.append(multi)\n",
    "print(lista_multi)\n"
   ]
  },
  {
   "cell_type": "code",
   "execution_count": null,
   "metadata": {},
   "outputs": [],
   "source": [
    "lista_mult = []\n",
    "\n",
    "for i in range(1,11):\n",
    "    for k in range(1,11):\n",
    "        lista_mult.append(i*k)"
   ]
  },
  {
   "cell_type": "code",
   "execution_count": null,
   "metadata": {},
   "outputs": [],
   "source": [
    "for i in range(1,11):\n",
    "    for k in range(1,11):\n",
    "        print(i*k, end=\" \")\n",
    "        print(i/k, end= \"\")\n",
    "        print(i+k, end=\"\")\n",
    "        print(i-k, end=\"\")"
   ]
  },
  {
   "cell_type": "code",
   "execution_count": null,
   "metadata": {},
   "outputs": [],
   "source": [
    "lista_multi = []\n",
    "lista_adicao = []\n",
    "lista_subtracao = []\n",
    "lista_divisao = []\n",
    "\n",
    "for i in range(1,11):\n",
    "    for k in range(1,11):\n",
    "        lista_multi.append(i*k)\n",
    "        lista_divisao.append(i/k)\n",
    "        lista_adicao.append(i+k)\n",
    "        lista_subtracao.append(i-k)\n",
    "\n",
    "print(lista_multi)\n",
    "print(lista_adicao)\n",
    "    "
   ]
  },
  {
   "attachments": {},
   "cell_type": "markdown",
   "metadata": {},
   "source": [
    "Criar uma terceira lista com a soma dos elementos da lista 1 e lista 2. "
   ]
  },
  {
   "cell_type": "code",
   "execution_count": null,
   "metadata": {},
   "outputs": [],
   "source": [
    "lista1 = [1,2,3,4]\n",
    "lista2 = [5,6,7,8]\n",
    "\n",
    "lista_soma = []\n",
    "\n",
    "for k in range(len(lista1)):\n",
    "    lista_soma.append(lista[k] + lista[k])\n",
    "\n",
    "print(lista_soma)"
   ]
  },
  {
   "cell_type": "code",
   "execution_count": null,
   "metadata": {},
   "outputs": [],
   "source": [
    "for i in range(1,4):\n",
    "    for k in range(1,4):\n",
    "        if i == k:\n",
    "            break\n",
    "\n",
    "        print(i, \"*\", k, \"=\", i*k)"
   ]
  },
  {
   "cell_type": "code",
   "execution_count": null,
   "metadata": {},
   "outputs": [],
   "source": [
    "for i in \"abc\":\n",
    "    for k in '123':\n",
    "        print(i+k)\n"
   ]
  },
  {
   "cell_type": "code",
   "execution_count": null,
   "metadata": {},
   "outputs": [],
   "source": [
    "# crie uma estrutura na qual solicite ao usuário 5 valores utilizando a estrutura while\n",
    "# Depois some os valores inseridos pelo usuário. Depois crie uma estrutura p/ calcular a média dos valores inseridos\n",
    "#pelo usuário. \n",
    "\n",
    "i = 0\n",
    "media = 0\n",
    "soma = 0\n",
    "contador = 1\n",
    "while i < 5:\n",
    "    numero = int(input('Digite o número' + str(contador) + ' :'))\n",
    "    soma += numero\n",
    "    i+= 1\n",
    "    contador += 1\n",
    "media = soma/i\n",
    "print(f'A média é {media}')\n",
    "\n",
    "\n",
    "\n"
   ]
  },
  {
   "cell_type": "code",
   "execution_count": null,
   "metadata": {},
   "outputs": [],
   "source": [
    "#Crie um programa para solicitar nome, email e senha e, caso o usuário acerte o email e a senha, mostre que ele tera acesso.\n",
    "# caso contrário, dê apenas 2 chances para acertar o email e a senha. \n",
    "\n",
    "\n",
    "i = 0\n",
    "\n",
    "while i < 2:\n",
    "    email = str(input('Digite seu e-mail:'))\n",
    "    senha = str(input('Digite sua senha:'))\n",
    "\n",
    "    if (email == 'diegoc.spv85@gmail.com') and (senha == 'admin'):\n",
    "        print('Login efetuado com sucesso!')\n",
    "        break\n",
    "\n",
    "    i+= 1\n",
    "else:\n",
    "    print('Acesso negado!')\n",
    "\n",
    "    \n",
    "    \n",
    "    \n",
    "\n",
    "    \n",
    "\n",
    "\n",
    "    "
   ]
  },
  {
   "cell_type": "code",
   "execution_count": null,
   "metadata": {},
   "outputs": [],
   "source": [
    "#Crie um programa para solicitar o nome, RG e CEP de 5 usuários e armazene em listas. \n",
    "\n",
    "lista_nomes = []\n",
    "lista_rg = []\n",
    "lista_ceps = []\n",
    "\n",
    "for i in range(5):\n",
    "    nome = input('Digite seu nome:')\n",
    "    lista_nomes.append(nome)\n",
    "    rg = int(input('Digite seu RG:'))\n",
    "    lista_rg.append(rg)\n",
    "    ceps = int(input('Digite seu CEP:'))\n",
    "    lista_ceps.append(ceps)\n",
    "\n",
    "print(lista_nomes)\n",
    "print(lista_rg)\n",
    "print(lista_ceps)"
   ]
  },
  {
   "cell_type": "markdown",
   "metadata": {},
   "source": [
    "FUNÇÕES"
   ]
  },
  {
   "cell_type": "code",
   "execution_count": null,
   "metadata": {},
   "outputs": [],
   "source": [
    "# Exemplo\n",
    "\n",
    "def soma(x, y):\n",
    "    resultado = x + y\n",
    "    return resultado\n",
    "\n",
    "print(soma(10,5))\n",
    "print(soma(100,100))\n"
   ]
  },
  {
   "cell_type": "code",
   "execution_count": null,
   "metadata": {},
   "outputs": [],
   "source": [
    "# Outra forma de dar o return. Não recomendada. \n",
    "def soma(x, y):\n",
    "    resultado = x + y\n",
    "    return x + y\n",
    "\n",
    "print(soma(10,5))\n",
    "print(soma(100,100))"
   ]
  },
  {
   "cell_type": "code",
   "execution_count": null,
   "metadata": {},
   "outputs": [],
   "source": [
    "# Crie funções para fazer operações de soma, subt, div e multi.\n",
    "def soma(x,y):\n",
    "    resultado = x + y\n",
    "    return resultado\n",
    "\n",
    "def subtracao(x,y):\n",
    "    resultado = x - y\n",
    "    return resultado\n",
    "\n",
    "def divisao (x,y):\n",
    "    resultado = x/y\n",
    "    return resultado\n",
    "\n",
    "def multiplicacao(x,y):\n",
    "    resultado = x * y\n",
    "    return resultado\n",
    "\n",
    "print(soma(20, 5))\n",
    "print(subtracao(10,5))\n",
    "print(divisao(10,4))\n",
    "print(multiplicacao(30,10))"
   ]
  },
  {
   "cell_type": "code",
   "execution_count": null,
   "metadata": {},
   "outputs": [],
   "source": [
    "# Ex. 2 - Crie uma função para calcular a área de um quadrado, retangulo, círcula e triangulo\n",
    "\n",
    "def quadrado(x):\n",
    "    resultado = x ** 2\n",
    "    return resultado\n",
    "print(quadrado(10))\n",
    "\n",
    "def retangulo (x,y):\n",
    "    resultado = x * y\n",
    "    return resultado\n",
    "print(retangulo(5,9))\n",
    "\n",
    "def circulo (r):\n",
    "    resultado = (3.14) * r ** 2\n",
    "    return resultado \n",
    "print(circulo(20))\n",
    "\n",
    "def triangulo (b,h):\n",
    "    resultado = (b * h)/ 2 \n",
    "    return resultado\n",
    "print(triangulo(5,10))\n",
    "\n"
   ]
  },
  {
   "cell_type": "code",
   "execution_count": null,
   "metadata": {},
   "outputs": [],
   "source": [
    "# Ex. 3 - Crie uma função para calcular o volume de um cubo.\n",
    "\n",
    "def cubo(aresta):\n",
    "    resultado = aresta ** 3\n",
    "    return resultado\n",
    "print(cubo(5))\n"
   ]
  },
  {
   "cell_type": "code",
   "execution_count": null,
   "metadata": {},
   "outputs": [],
   "source": [
    "\n",
    "# Ex. 4 - Crie uma função para calcular a área de um terreno (com input p/ o usuário)\n",
    "\n",
    "l = float(input('Digite a largura do terrono:'))\n",
    "c = float(input('Digite o comprimento do terreno:'))\n",
    "def comodo(l, c):\n",
    "    resultado = l * c\n",
    "    return resultado\n",
    "print(comodo(l,c))\n"
   ]
  },
  {
   "cell_type": "code",
   "execution_count": null,
   "metadata": {},
   "outputs": [],
   "source": [
    "# Ex. 5 - Crie uma função para mostrar se um número é par ou ímpar.\n",
    "\n",
    "def par_impar(x):\n",
    "    if x % 2 == 0:\n",
    "        return 'O número é par'\n",
    "    else:\n",
    "        return 'O número é ímpar'\n",
    "print(par_impar(9))"
   ]
  },
  {
   "cell_type": "code",
   "execution_count": null,
   "metadata": {},
   "outputs": [],
   "source": [
    "# Ex. 6 - # Crie uma função que calcula a soma de valores de uma lista = [10,15,25,30,15]\n",
    "\n",
    "lista = [10,15,25,30,15]\n",
    "\n",
    "def soma(lista):\n",
    "    acumulador = 0\n",
    "    \n",
    "    for l in lista:\n",
    "        acumulador = acumulador + l\n",
    "    return acumulador\n",
    "\n",
    "print(soma(lista))\n",
    "    \n",
    "\n",
    "\n"
   ]
  },
  {
   "cell_type": "code",
   "execution_count": 5,
   "metadata": {},
   "outputs": [
    {
     "name": "stdout",
     "output_type": "stream",
     "text": [
      "[20, 20, 20, 20, 20]\n",
      "100\n"
     ]
    }
   ],
   "source": [
    "# 7. Criar estrutura solicitando 5 valores p/ o usuario. \n",
    "# Criar estrutura para somar os valores inseridos pelo usuário. \n",
    "# Criar estrutura para calcular a média dos valores inseridos pelo usuário.\n",
    "\n",
    "\n",
    "\n",
    "def lista_num ():\n",
    "    lista_num = []\n",
    "\n",
    "    for i in range (5):\n",
    "        numeros = int(input('Digite o número:'))\n",
    "        lista_num.append(numeros)\n",
    "    return lista_num\n",
    "    \n",
    "# na func soma não entende q recebe como parametro a lista anterior. É como criasse outra\n",
    "# Poderia deixar o parametro de soma vazio\n",
    "\n",
    "lista = lista_num()   \n",
    "def soma (lista):\n",
    "    acumulador = 0\n",
    "    for l in lista:\n",
    "        acumulador += l \n",
    "    \n",
    "    \n",
    "    return acumulador \n",
    "\n",
    "print(lista)\n",
    "print(soma(lista))\n",
    "\n"
   ]
  },
  {
   "cell_type": "code",
   "execution_count": null,
   "metadata": {},
   "outputs": [],
   "source": [
    "#Outra forma de resolver o 7\n",
    "\n",
    "def lista_valores(x):\n",
    "    lista = []\n",
    "    for i in range(x):\n",
    "        valor = int(input('Digite um número:'))\n",
    "        lista.append(valor)\n",
    "        \n",
    "    return lista\n",
    "\n",
    "print(lista_valores(3))"
   ]
  },
  {
   "cell_type": "code",
   "execution_count": null,
   "metadata": {},
   "outputs": [],
   "source": [
    "#9 Crie uma estrutura p/ solicitar 3 valores de salários. Em seguida, crie uma porcentagem de\n",
    "# desconto p/ cada salário e retorne o valor do salário com o respectivo desconto. \n",
    "#media,soma,lista = func()"
   ]
  },
  {
   "cell_type": "code",
   "execution_count": 2,
   "metadata": {},
   "outputs": [
    {
     "data": {
      "text/plain": [
       "{'A': [1, 2, 3, 4, 5], 'B': ['a', 'b', 'c', 'd', 'e']}"
      ]
     },
     "execution_count": 2,
     "metadata": {},
     "output_type": "execute_result"
    }
   ],
   "source": [
    "\n",
    "#Dicionario\n",
    "\n",
    "dados = {'A': [1,2,3,4,5],\n",
    "         'B': ['a', 'b', 'c', 'd', 'e']}\n",
    "dados"
   ]
  },
  {
   "cell_type": "code",
   "execution_count": 5,
   "metadata": {},
   "outputs": [
    {
     "data": {
      "text/html": [
       "<div>\n",
       "<style scoped>\n",
       "    .dataframe tbody tr th:only-of-type {\n",
       "        vertical-align: middle;\n",
       "    }\n",
       "\n",
       "    .dataframe tbody tr th {\n",
       "        vertical-align: top;\n",
       "    }\n",
       "\n",
       "    .dataframe thead th {\n",
       "        text-align: right;\n",
       "    }\n",
       "</style>\n",
       "<table border=\"1\" class=\"dataframe\">\n",
       "  <thead>\n",
       "    <tr style=\"text-align: right;\">\n",
       "      <th></th>\n",
       "      <th>A</th>\n",
       "      <th>B</th>\n",
       "    </tr>\n",
       "  </thead>\n",
       "  <tbody>\n",
       "    <tr>\n",
       "      <th>0</th>\n",
       "      <td>1</td>\n",
       "      <td>a</td>\n",
       "    </tr>\n",
       "    <tr>\n",
       "      <th>1</th>\n",
       "      <td>2</td>\n",
       "      <td>b</td>\n",
       "    </tr>\n",
       "    <tr>\n",
       "      <th>2</th>\n",
       "      <td>3</td>\n",
       "      <td>c</td>\n",
       "    </tr>\n",
       "    <tr>\n",
       "      <th>3</th>\n",
       "      <td>4</td>\n",
       "      <td>d</td>\n",
       "    </tr>\n",
       "    <tr>\n",
       "      <th>4</th>\n",
       "      <td>5</td>\n",
       "      <td>e</td>\n",
       "    </tr>\n",
       "  </tbody>\n",
       "</table>\n",
       "</div>"
      ],
      "text/plain": [
       "   A  B\n",
       "0  1  a\n",
       "1  2  b\n",
       "2  3  c\n",
       "3  4  d\n",
       "4  5  e"
      ]
     },
     "execution_count": 5,
     "metadata": {},
     "output_type": "execute_result"
    }
   ],
   "source": [
    "import pandas as pd\n",
    "# Transformar os dados para um formato tabular \n",
    "df = pd.DataFrame(dados)\n",
    "df"
   ]
  },
  {
   "cell_type": "code",
   "execution_count": null,
   "metadata": {},
   "outputs": [],
   "source": [
    "# 1. Crie uma função para contar até n. \n",
    "# 2. Crie uma função para verificar as cores de uma lista_cores = ['azul','verde','amarelo']\n",
    "# 3. Crie uma função para simular uma calculadora de despesas levando em consideração a lista_mes =\n",
    "# ['Janeiro', 'Fevereiro', 'Março']\n",
    "# 4. Crie uma função para monitorar temperatura, solicitando os valores de temperatura p/ o usuário\n",
    "# até o mesmo digitar 999. Depois disso, retorne o valor mínimo, máximo, médio e mediano da temp."
   ]
  },
  {
   "cell_type": "code",
   "execution_count": 11,
   "metadata": {},
   "outputs": [
    {
     "name": "stdout",
     "output_type": "stream",
     "text": [
      "0\n"
     ]
    }
   ],
   "source": [
    "# 1. \n",
    "def contar():\n",
    "    num = int(input('Digite um número:'))\n",
    "    for i in range (num):\n",
    "       print(i)\n",
    "    return i \n",
    "        \n",
    "\n",
    "print(contar())"
   ]
  },
  {
   "cell_type": "code",
   "execution_count": 14,
   "metadata": {},
   "outputs": [
    {
     "data": {
      "text/plain": [
       "[1, 2, 3, 4, 5, 6, 7, 8, 9, 10]"
      ]
     },
     "execution_count": 14,
     "metadata": {},
     "output_type": "execute_result"
    }
   ],
   "source": [
    "def contador():\n",
    "    lista_numeros = []\n",
    "    \n",
    "    for i in range(1, n+1):\n",
    "        lista_numeros.append(i)\n",
    "    return lista_numeros\n",
    "\n",
    "n = int(input('Digite um número:'))\n",
    "contador()"
   ]
  },
  {
   "cell_type": "code",
   "execution_count": 18,
   "metadata": {},
   "outputs": [
    {
     "name": "stdout",
     "output_type": "stream",
     "text": [
      "1\n",
      "2\n",
      "3\n",
      "4\n",
      "5\n"
     ]
    }
   ],
   "source": [
    "def contar(n):\n",
    "    i = 1\n",
    "    while i <= n:\n",
    "        print(i)\n",
    "        i += 1 \n",
    "        \n",
    "n = int(input('Digite um numero:'))\n",
    "\n",
    "contar(n)"
   ]
  },
  {
   "cell_type": "code",
   "execution_count": 20,
   "metadata": {},
   "outputs": [
    {
     "name": "stdout",
     "output_type": "stream",
     "text": [
      "('As cores são', ['azul', 'verde', 'amarelo'])\n"
     ]
    }
   ],
   "source": [
    "# 2. \n",
    "\n",
    "def verificar():\n",
    "    lista = ['azul', 'verde', 'amarelo']\n",
    "    cores = []\n",
    "    for l in lista:\n",
    "        cores.append(l)\n",
    "    return  cores\n",
    "\n",
    "print(verificar())\n"
   ]
  },
  {
   "cell_type": "code",
   "execution_count": 22,
   "metadata": {},
   "outputs": [
    {
     "name": "stdout",
     "output_type": "stream",
     "text": [
      "Total de despesa é: 1000.0\n"
     ]
    }
   ],
   "source": [
    "#3. \n",
    "\n",
    "def calcular_despesas(meses):\n",
    "    total_despesas = 0\n",
    "    for mes in meses:\n",
    "        despesa = float(input(f'Digite o valor da despesa {mes}'))\n",
    "        total_despesas += despesa\n",
    "    print('Total de despesa é:', total_despesas)\n",
    "\n",
    "lista_mes = ['janeiro', 'fevereiro', 'marco']\n",
    "calcular_despesas(lista_mes)\n",
    "    "
   ]
  },
  {
   "cell_type": "code",
   "execution_count": null,
   "metadata": {},
   "outputs": [],
   "source": [
    "# 4. \n",
    "import statistics\n",
    "\n",
    "def monitor_temperatura():\n",
    "    temperaturas = []\n",
    "    while True:\n",
    "        temperatura = int(input('Digite um valor de temperatura:'))\n",
    "        if temperatura == -999:\n",
    "            break\n",
    "        temperaturas.append(temperatura)\n",
    "        \n",
    "    print('Valor mínimo', min(temperaturas))\n",
    "    print('Valor máximo', max(temperaturas))\n",
    "    print('Valor médio', sum(temperaturas)/len(temperaturas))\n",
    "    print(statistics.median(temperaturas))\n",
    "    \n",
    "   \n",
    "monitor_temperatura()"
   ]
  },
  {
   "cell_type": "code",
   "execution_count": 6,
   "metadata": {},
   "outputs": [
    {
     "name": "stdout",
     "output_type": "stream",
     "text": [
      "(20, 5.0, 12, 8)\n",
      "50 2.0 15 5\n"
     ]
    }
   ],
   "source": [
    "def operacoes(a,b):\n",
    "    mult = a * b\n",
    "    div = a / b\n",
    "    soma = a + b\n",
    "    sub = a - b\n",
    "    return mult, div, soma, sub\n",
    "\n",
    "print(operacoes(10,2)) # retorno é do tipo tupla\n",
    "\n",
    "mult, div, soma, sub = operacoes(10,5)\n",
    "print(mult, div, soma, sub)\n"
   ]
  },
  {
   "cell_type": "code",
   "execution_count": 9,
   "metadata": {},
   "outputs": [
    {
     "data": {
      "text/plain": [
       "(0, 1350.0, 0, 0, 3225.0)"
      ]
     },
     "execution_count": 9,
     "metadata": {},
     "output_type": "execute_result"
    }
   ],
   "source": [
    "# 1. Crie uma função para calcular o desconto de 5 funcionários de uma empresa.\n",
    "# Utilize a estrutura de repetição e função def para resolver o problema. 5, 10,15, 20 e 25%\n",
    "# Mostre o resultado em uma tupla. \n",
    "\n",
    "def desconto():\n",
    "    salario_5 = 0\n",
    "    salario_10 = 0\n",
    "    salario_15 = 0\n",
    "    salario_20 = 0\n",
    "    salario_25 = 0\n",
    "    for i in range(5):\n",
    "        salario = float(input('Digite seu salário:'))\n",
    "        if salario <= 1000:\n",
    "            salario_5 = salario - (salario*0.05)\n",
    "        elif salario > 1000 and salario <= 2000:\n",
    "            salario_10 = salario - (salario*0.1)\n",
    "        elif salario > 2000 and salario <= 3000:\n",
    "            salario_15 = salario - (salario*0.2)    \n",
    "        elif salario > 3000 and salario <= 4000:\n",
    "            salario_20 = salario - (salario*0.20)  \n",
    "        else:\n",
    "            salario_25 = salario - (salario*0.25)\n",
    "            \n",
    "    return salario_5, salario_10, salario_15, salario_20, salario_25\n",
    "\n",
    "desconto()\n",
    "        \n"
   ]
  },
  {
   "cell_type": "code",
   "execution_count": 16,
   "metadata": {},
   "outputs": [
    {
     "name": "stdout",
     "output_type": "stream",
     "text": [
      "Aprovado! [8.0, 9.0, 4.0, 7.0, 7.0] 7.0\n"
     ]
    },
    {
     "data": {
      "text/plain": [
       "([8.0, 9.0, 4.0, 7.0, 7.0], 7.0)"
      ]
     },
     "execution_count": 16,
     "metadata": {},
     "output_type": "execute_result"
    }
   ],
   "source": [
    "# 2. Crie uma função para controle de notas de alunos. Solicite 5 notas e calcule a média. \n",
    "# Caso a média seja >= 7, mostre que o aluno está aprovado, caso contrário, reprovado. \n",
    "\n",
    "def controle():\n",
    "    media = 0\n",
    "    soma = 0\n",
    "    notas = []\n",
    "    for i in range(1,6):\n",
    "        nota = float(input(f'Aluno, digite a nota {i + 1}:'))\n",
    "        notas.append(nota)\n",
    "        soma+= nota\n",
    "    media = soma / len(notas)\n",
    "    if media >= 7:\n",
    "        print('Aprovado!', notas, media)\n",
    "    else:\n",
    "        print('Reprovado!', notas, media)\n",
    "\n",
    "    #return notas, media\n",
    "\n",
    "controle()\n"
   ]
  },
  {
   "attachments": {},
   "cell_type": "markdown",
   "metadata": {},
   "source": [
    "CP3"
   ]
  },
  {
   "attachments": {},
   "cell_type": "markdown",
   "metadata": {},
   "source": [
    "Nesse problema, foi usada a função def desconto() para calcular a soma dos produtos digitados pelo cliente. No comeco, foram declaradas todas as variaveis necessárias, bem como a lista e o contador para contar o número de produtos que o cliente digita. Foi usada a estrutura de repeticao while com a condição TRUE, para o cliente ir inserindo seus itens até que ele digite o número -999 para interromper o loop com o break. Após o fim do loop, é feito a soma dos itens e de acordo com o valor dessa soma, é aplicado um codigo de desconto de 10, 20 ou 30%. Ao chamar a funcao desconto(), é mostrado ao cliente qual o codigo aplicado, o valor do desconto na compra, e uma lista com o valor de cada item que ele digitou."
   ]
  },
  {
   "cell_type": "code",
   "execution_count": 22,
   "metadata": {},
   "outputs": [
    {
     "name": "stdout",
     "output_type": "stream",
     "text": [
      "Sua compra com o desconto do código de 20% é de R$ 320.0 e sua lista é: [100.0, 100.0, 100.0, 100.0]\n"
     ]
    }
   ],
   "source": [
    "# 3. \n",
    "def desconto():\n",
    "    valor_total = 0\n",
    "    desconto_10 = 0\n",
    "    desconto_20 = 0\n",
    "    desconto_30 = 0\n",
    "    produtos = []\n",
    "    i = 1\n",
    "    while True:\n",
    "        valor_produto = float(input(f'Digite o valor do produto {i}: '))\n",
    "        if valor_produto == -999:\n",
    "            break\n",
    "        valor_total += valor_produto\n",
    "        produtos.append(valor_produto)\n",
    "        i += 1\n",
    "    if valor_total <= 100:\n",
    "        codigo_10 = input('Liberado desconto de 10% para sua compra. Digite CODIGO10 para liberar:)')\n",
    "        desconto_10 = valor_total - (valor_total * 0.1)\n",
    "        print(f'Sua compra com o desconto do código de 10% é de R$ {desconto_10} e sua lista é:{produtos}')\n",
    "    elif valor_total > 100 and valor_total <= 500:\n",
    "        codigo_20 = input('Liberado desconto de 20% para sua compra. Digite CODIGO20 para liberar:)')\n",
    "        desconto_20 = valor_total - (valor_total * 0.2)\n",
    "        print(f'Sua compra com o desconto do código de 20% é de R$ {desconto_20} e sua lista é: {produtos}')\n",
    "    else:\n",
    "        codigo_30 = input('Liberado desconto de 30% para sua compra. Digite CODIGO30:)')\n",
    "        desconto_30 = valor_total - (valor_total * 0.3)\n",
    "        print(f'Sua compra com o desconto do código de 30% é de R$ {desconto_30} e sua lista é: {produtos}')\n",
    "\n",
    "desconto()"
   ]
  },
  {
   "cell_type": "code",
   "execution_count": 35,
   "metadata": {},
   "outputs": [
    {
     "name": "stdout",
     "output_type": "stream",
     "text": [
      "Estoque atual: [['mouse', 1], ['teclado', 4]]\n"
     ]
    }
   ],
   "source": [
    "#2. \n",
    "def estoque():\n",
    "    produtos = [['mouse', 5], ['teclado', 4]]\n",
    "    \n",
    "    produto = input('Qual produto quer comprar: mouse ou teclado?:')\n",
    "   \n",
    "       \n",
    "    if produto == 'mouse':\n",
    "        quantidade_produto = int(input(f'Qual a quantidade? Limite de 5 {produto}:'))\n",
    "        for i in range(quantidade_produto):\n",
    "            produtos[0][1] = produtos[0][1] - 1\n",
    "        print('Estoque atual:', produtos)\n",
    "    else:\n",
    "        quantidade_produto = int(input(f'Qual a quantidade? Limite de 4 {produto}:'))\n",
    "        for i in range(quantidade_produto):\n",
    "            produtos[1][1] = produtos[1][1] - 1\n",
    "        print('Estoque atual:', produtos)\n",
    "\n",
    "\n",
    "estoque()\n",
    "\n",
    "\n",
    "\n"
   ]
  },
  {
   "cell_type": "code",
   "execution_count": 44,
   "metadata": {},
   "outputs": [
    {
     "name": "stdout",
     "output_type": "stream",
     "text": [
      "100.0\n"
     ]
    }
   ],
   "source": [
    "def transferencia():\n",
    "    saldo_final = 0\n",
    "    conta_um = 500\n",
    "    conta_dois = 100\n",
    "\n",
    "    valor = float(input('De qual conta deseja transferir 1 ou 2?'))\n",
    "    if valor == 1:\n",
    "        quantidade = float(input('Qual o valor?'))\n",
    "        if quantidade <= conta_um:\n",
    "            saldo_final = conta_um - quantidade\n",
    "            print('Saldo da conta um após a transferencia:',saldo_final)\n",
    "        else:\n",
    "            print('Valor insuficiente!')\n",
    "    else:\n",
    "        quantidade = float(input('Qual o valor?'))\n",
    "        if quantidade <= conta_dois:\n",
    "            saldo_final = conta_dois - quantidade\n",
    "            print('Saldo da conta dois após a transferencia:'saldo_final)\n",
    "        else:\n",
    "            print('Valor insuficiente!')\n",
    "\n",
    "transferencia()\n",
    "    \n",
    "    "
   ]
  }
 ],
 "metadata": {
  "kernelspec": {
   "display_name": "Python 3",
   "language": "python",
   "name": "python3"
  },
  "language_info": {
   "codemirror_mode": {
    "name": "ipython",
    "version": 3
   },
   "file_extension": ".py",
   "mimetype": "text/x-python",
   "name": "python",
   "nbconvert_exporter": "python",
   "pygments_lexer": "ipython3",
   "version": "3.11.4"
  },
  "orig_nbformat": 4
 },
 "nbformat": 4,
 "nbformat_minor": 2
}
